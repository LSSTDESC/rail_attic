{
 "cells": [
  {
   "cell_type": "code",
   "execution_count": 6,
   "id": "e324bb13",
   "metadata": {},
   "outputs": [],
   "source": [
    "import os\n",
    "import rail\n",
    "import qp\n",
    "import numpy as np\n",
    "import pandas as pd\n",
    "import matplotlib.pyplot as plt\n",
    "%matplotlib inline\n",
    "from rail.estimation.algos.NZDir import Inform_NZDir, NZDir\n",
    "from rail.core.data import TableHandle, QPHandle\n",
    "from rail.core.stage import RailStage"
   ]
  },
  {
   "cell_type": "code",
   "execution_count": 2,
   "id": "8d2352e5",
   "metadata": {},
   "outputs": [],
   "source": [
    "DS = RailStage.data_store\n",
    "DS.__class__.allow_overwrite = True"
   ]
  },
  {
   "cell_type": "code",
   "execution_count": 3,
   "id": "8a682c95",
   "metadata": {},
   "outputs": [],
   "source": [
    "# Load up the example healpix 9816 data and stick in the DataStore\n",
    "from rail.core.utils import RAILDIR\n",
    "trainFile = os.path.join(RAILDIR, 'rail/examples/testdata/test_dc2_training_9816.hdf5')\n",
    "testFile = os.path.join(RAILDIR, 'rail/examples/testdata/test_dc2_validation_9816.hdf5')\n",
    "training_data = DS.read_file(\"training_data\", TableHandle, trainFile)\n",
    "test_data = DS.read_file(\"test_data\", TableHandle, testFile)"
   ]
  },
  {
   "cell_type": "code",
   "execution_count": 4,
   "id": "ba6247dc",
   "metadata": {},
   "outputs": [
    {
     "name": "stdout",
     "output_type": "stream",
     "text": [
      "Inserting handle into data store.  model: inprogress_nzdir_model.pkl, Inform_NZDir\n"
     ]
    }
   ],
   "source": [
    "inf_nz = Inform_NZDir.make_stage(n_neigh=8, hdf5_groupname=\"photometry\", model=\"nzdir_model.pkl\")\n",
    "inf_nz.inform(training_data)\n",
    "nzd = NZDir.make_stage(leafsize=20, zmin=0.0, zmax=3.0, nzbins=31, model=\"NZDir_model.pkl\", hdf5_groupname='photometry',\n",
    "                       output='NZDir_samples.hdf5', single_NZ='NZDir_NZ.hdf5')"
   ]
  },
  {
   "cell_type": "code",
   "execution_count": 5,
   "id": "14a87af8",
   "metadata": {},
   "outputs": [
    {
     "name": "stdout",
     "output_type": "stream",
     "text": [
      "Inserting handle into data store.  output: inprogress_NZDir_samples.hdf5, NZDir\n",
      "Inserting handle into data store.  single_NZ: inprogress_NZDir_NZ.hdf5, NZDir\n"
     ]
    }
   ],
   "source": [
    "# I don't know why it is necessary to execute this estimate once before saving everything to a pipeline\n",
    "nzd_res = nzd.estimate(test_data)"
   ]
  },
  {
   "cell_type": "markdown",
   "id": "72188496",
   "metadata": {},
   "source": [
    "Creating a pipeline with 2 process"
   ]
  },
  {
   "cell_type": "code",
   "execution_count": 6,
   "id": "643551ad",
   "metadata": {},
   "outputs": [],
   "source": [
    "import ceci\n",
    "pipe = ceci.Pipeline.interactive()\n",
    "stages = [inf_nz,nzd]\n",
    "for stage in stages:\n",
    "    pipe.add_stage(stage)\n",
    "pipe.stage_execution_config['NZDir'].nprocess=2"
   ]
  },
  {
   "cell_type": "code",
   "execution_count": 7,
   "id": "be844f80",
   "metadata": {},
   "outputs": [
    {
     "data": {
      "text/plain": [
       "(({'Inform_NZDir': <Job Inform_NZDir>, 'NZDir': <Job NZDir>},\n",
       "  [<rail.estimation.algos.NZDir.Inform_NZDir at 0x7f6516098580>,\n",
       "   <rail.estimation.algos.NZDir.NZDir at 0x7f657c6860a0>]),\n",
       " {'output_dir': '.', 'log_dir': '.', 'resume': False})"
      ]
     },
     "execution_count": 7,
     "metadata": {},
     "output_type": "execute_result"
    }
   ],
   "source": [
    "pipe.initialize(dict(training_data=trainFile, test_data=testFile) , dict(output_dir='.', log_dir='.', resume=False), None)"
   ]
  },
  {
   "cell_type": "code",
   "execution_count": 8,
   "id": "e6ba2a0c",
   "metadata": {},
   "outputs": [],
   "source": [
    "pipe.save('nzdir.yml')"
   ]
  },
  {
   "cell_type": "markdown",
   "id": "2e1b2915",
   "metadata": {},
   "source": [
    "Once the pipeline is saved, we execute it"
   ]
  },
  {
   "cell_type": "code",
   "execution_count": 2,
   "id": "dbb8c9c2",
   "metadata": {},
   "outputs": [],
   "source": [
    "import ceci"
   ]
  },
  {
   "cell_type": "code",
   "execution_count": 3,
   "id": "14da228f",
   "metadata": {},
   "outputs": [
    {
     "name": "stdout",
     "output_type": "stream",
     "text": [
      "Inserting handle into data store.  model: ./nzdir_model.pkl, NZDir\n"
     ]
    }
   ],
   "source": [
    "pr = ceci.Pipeline.read('nzdir.yml')"
   ]
  },
  {
   "cell_type": "code",
   "execution_count": 4,
   "id": "0d6a3689",
   "metadata": {},
   "outputs": [
    {
     "name": "stdout",
     "output_type": "stream",
     "text": [
      "\n",
      "Executing Inform_NZDir\n",
      "Command is:\n",
      "OMP_NUM_THREADS=1   python3 -m ceci rail.estimation.algos.NZDir.Inform_NZDir   --input=/home/josue/cosmologia/photoz/RAIL/src/rail/examples/testdata/test_dc2_training_9816.hdf5   --config=nzdir_config.yml   --model=./nzdir_model.pkl \n",
      "Output writing to ./Inform_NZDir.out\n",
      "\n",
      "Job Inform_NZDir has completed successfully!\n",
      "\n",
      "Executing NZDir\n",
      "Command is:\n",
      "OMP_NUM_THREADS=1  mpirun -n 2 python3 -m ceci rail.estimation.algos.NZDir.NZDir   --model=./nzdir_model.pkl   --input=/home/josue/cosmologia/photoz/RAIL/src/rail/examples/testdata/test_dc2_validation_9816.hdf5   --config=nzdir_config.yml   --output=./NZDir_samples.hdf5   --single_NZ=./NZDir_NZ.hdf5 --mpi\n",
      "Output writing to ./NZDir.out\n",
      "\n",
      "Job NZDir has completed successfully!\n"
     ]
    },
    {
     "data": {
      "text/plain": [
       "0"
      ]
     },
     "execution_count": 4,
     "metadata": {},
     "output_type": "execute_result"
    }
   ],
   "source": [
    "pr.run()"
   ]
  },
  {
   "cell_type": "markdown",
   "id": "33a6980f",
   "metadata": {},
   "source": [
    "Reading the output"
   ]
  },
  {
   "cell_type": "code",
   "execution_count": 11,
   "id": "acc11793",
   "metadata": {},
   "outputs": [],
   "source": [
    "nzd_ens = qp.read('NZDir_samples.hdf5')\n",
    "nzdir_nz = qp.read(\"NZDir_NZ.hdf5\")"
   ]
  },
  {
   "cell_type": "code",
   "execution_count": 14,
   "id": "4aa7ef7b",
   "metadata": {
    "scrolled": false
   },
   "outputs": [
    {
     "data": {
      "text/plain": [
       "<matplotlib.legend.Legend at 0x7f3e765dd880>"
      ]
     },
     "execution_count": 14,
     "metadata": {},
     "output_type": "execute_result"
    },
    {
     "data": {
      "image/png": "[encoded data removed]",
      "text/plain": [
       "<Figure size 720x576 with 1 Axes>"
      ]
     },
     "metadata": {
      "needs_background": "light"
     },
     "output_type": "display_data"
    }
   ],
   "source": [
    "fig, axs = plt.subplots(figsize=(10,8))\n",
    "nzdir_nz[0].plot_native(axes=axs, fc = [0, 0, 1, 0.01])\n",
    "nzd_ens[1].plot_native(axes=axs, fc = [0, 1, 0, 0.01])\n",
    "nzd_ens[4].plot_native(axes=axs, fc = [1, 0, 0, 0.01])\n",
    "axs.set_xlim(0,3)\n",
    "axs.legend()"
   ]
  }
 ],
 "metadata": {
  "kernelspec": {
   "display_name": "Python 3 (ipykernel)",
   "language": "python",
   "name": "python3"
  },
  "language_info": {
   "codemirror_mode": {
    "name": "ipython",
    "version": 3
   },
   "file_extension": ".py",
   "mimetype": "text/x-python",
   "name": "python",
   "nbconvert_exporter": "python",
   "pygments_lexer": "ipython3",
   "version": "3.9.7"
  }
 },
 "nbformat": 4,
 "nbformat_minor": 5
}
