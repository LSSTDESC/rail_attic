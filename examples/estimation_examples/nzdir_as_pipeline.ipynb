{
 "cells": [
  {
   "cell_type": "markdown",
   "id": "113cdd0f",
   "metadata": {},
   "source": [
    "Author: Sam Schmidt<br>\n",
    "Last successfully run: April 26, 2023<br>"
   ]
  },
  {
   "cell_type": "code",
   "execution_count": null,
   "id": "e324bb13",
   "metadata": {},
   "outputs": [],
   "source": [
    "import os\n",
    "import rail\n",
    "import qp\n",
    "import numpy as np\n",
    "import pandas as pd\n",
    "import matplotlib.pyplot as plt\n",
    "%matplotlib inline\n",
    "from rail.estimation.algos.NZDir import Inform_NZDir, NZDir\n",
    "from rail.core.data import TableHandle, QPHandle\n",
    "from rail.core.stage import RailStage"
   ]
  },
  {
   "cell_type": "code",
   "execution_count": null,
   "id": "8d2352e5",
   "metadata": {},
   "outputs": [],
   "source": [
    "DS = RailStage.data_store\n",
    "DS.__class__.allow_overwrite = True"
   ]
  },
  {
   "cell_type": "code",
   "execution_count": null,
   "id": "8a682c95",
   "metadata": {},
   "outputs": [],
   "source": [
    "# Load up the example healpix 9816 data and stick in the DataStore\n",
    "from rail.core.utils import RAILDIR\n",
    "trainFile = os.path.join(RAILDIR, 'rail/examples_data/testdata/test_dc2_training_9816.hdf5')\n",
    "testFile = os.path.join(RAILDIR, 'rail/examples_data/testdata/test_dc2_validation_9816.hdf5')\n",
    "training_data = DS.read_file(\"training_data\", TableHandle, trainFile)\n",
    "test_data = DS.read_file(\"test_data\", TableHandle, testFile)"
   ]
  },
  {
   "cell_type": "code",
   "execution_count": null,
   "id": "ba6247dc",
   "metadata": {},
   "outputs": [],
   "source": [
    "inf_nz = Inform_NZDir.make_stage(n_neigh=8, hdf5_groupname=\"photometry\", model=\"nzdir_model.pkl\")\n",
    "inf_nz.inform(training_data)\n",
    "nzd = NZDir.make_stage(leafsize=20, zmin=0.0, zmax=3.0, nzbins=31, model=\"NZDir_model.pkl\", hdf5_groupname='photometry',\n",
    "                       output='NZDir_samples.hdf5', single_NZ='NZDir_NZ.hdf5')"
   ]
  },
  {
   "cell_type": "code",
   "execution_count": null,
   "id": "14a87af8",
   "metadata": {},
   "outputs": [],
   "source": [
    "# I don't know why it is necessary to execute this estimate once before saving everything to a pipeline\n",
    "nzd_res = nzd.estimate(test_data)"
   ]
  },
  {
   "cell_type": "markdown",
   "id": "72188496",
   "metadata": {},
   "source": [
    "Creating a pipeline with 2 process"
   ]
  },
  {
   "cell_type": "code",
   "execution_count": null,
   "id": "643551ad",
   "metadata": {},
   "outputs": [],
   "source": [
    "import ceci\n",
    "pipe = ceci.Pipeline.interactive()\n",
    "stages = [inf_nz,nzd]\n",
    "for stage in stages:\n",
    "    pipe.add_stage(stage)\n",
    "pipe.stage_execution_config['NZDir'].nprocess=2"
   ]
  },
  {
   "cell_type": "code",
   "execution_count": null,
   "id": "be844f80",
   "metadata": {},
   "outputs": [],
   "source": [
    "pipe.initialize(dict(training_data=trainFile, test_data=testFile) , dict(output_dir='.', log_dir='.', resume=False), None)"
   ]
  },
  {
   "cell_type": "code",
   "execution_count": null,
   "id": "e6ba2a0c",
   "metadata": {},
   "outputs": [],
   "source": [
    "pipe.save('nzdir.yml')"
   ]
  },
  {
   "cell_type": "markdown",
   "id": "2e1b2915",
   "metadata": {},
   "source": [
    "Once the pipeline is saved, we execute it"
   ]
  },
  {
   "cell_type": "code",
   "execution_count": null,
   "id": "dbb8c9c2",
   "metadata": {},
   "outputs": [],
   "source": [
    "import ceci"
   ]
  },
  {
   "cell_type": "code",
   "execution_count": null,
   "id": "14da228f",
   "metadata": {},
   "outputs": [],
   "source": [
    "pr = ceci.Pipeline.read('nzdir.yml')"
   ]
  },
  {
   "cell_type": "code",
   "execution_count": null,
   "id": "0d6a3689",
   "metadata": {},
   "outputs": [],
   "source": [
    "pr.run()"
   ]
  },
  {
   "cell_type": "markdown",
   "id": "33a6980f",
   "metadata": {},
   "source": [
    "Reading the output"
   ]
  },
  {
   "cell_type": "code",
   "execution_count": null,
   "id": "acc11793",
   "metadata": {},
   "outputs": [],
   "source": [
    "nzd_ens = qp.read('NZDir_samples.hdf5')\n",
    "nzdir_nz = qp.read(\"NZDir_NZ.hdf5\")"
   ]
  },
  {
   "cell_type": "code",
   "execution_count": null,
   "id": "4aa7ef7b",
   "metadata": {
    "scrolled": false
   },
   "outputs": [],
   "source": [
    "fig, axs = plt.subplots(figsize=(10,8))\n",
    "nzdir_nz[0].plot_native(axes=axs, fc = [0, 0, 1, 0.01])\n",
    "nzd_ens[1].plot_native(axes=axs, fc = [0, 1, 0, 0.01])\n",
    "nzd_ens[4].plot_native(axes=axs, fc = [1, 0, 0, 0.01])\n",
    "axs.set_xlim(0,3)\n",
    "axs.legend()"
   ]
  },
  {
   "cell_type": "code",
   "execution_count": null,
   "id": "04eb4b8b",
   "metadata": {},
   "outputs": [],
   "source": []
  }
 ],
 "metadata": {
  "kernelspec": {
   "display_name": "Python 3 (ipykernel)",
   "language": "python",
   "name": "python3"
  },
  "language_info": {
   "codemirror_mode": {
    "name": "ipython",
    "version": 3
   },
   "file_extension": ".py",
   "mimetype": "text/x-python",
   "name": "python",
   "nbconvert_exporter": "python",
   "pygments_lexer": "ipython3",
   "version": "3.10.10"
  }
 },
 "nbformat": 4,
 "nbformat_minor": 5
}
