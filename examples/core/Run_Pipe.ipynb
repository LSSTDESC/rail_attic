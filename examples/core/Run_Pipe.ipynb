{
 "cells": [
  {
   "cell_type": "code",
   "execution_count": null,
   "id": "a29a1b21",
   "metadata": {},
   "outputs": [],
   "source": [
    "import ceci"
   ]
  },
  {
   "cell_type": "code",
   "execution_count": null,
   "id": "2657aca0",
   "metadata": {},
   "outputs": [],
   "source": [
    "p = ceci.Pipeline.read('stage.yaml')"
   ]
  },
  {
   "cell_type": "code",
   "execution_count": null,
   "id": "70a9a473",
   "metadata": {},
   "outputs": [],
   "source": [
    "p.stage_names"
   ]
  },
  {
   "cell_type": "code",
   "execution_count": null,
   "id": "38e445de",
   "metadata": {},
   "outputs": [],
   "source": [
    "p.run()"
   ]
  },
  {
   "cell_type": "code",
   "execution_count": null,
   "id": "efef32fc",
   "metadata": {},
   "outputs": [],
   "source": []
  }
 ],
 "metadata": {
  "kernelspec": {
   "display_name": "Python 3 (ipykernel)",
   "language": "python",
   "name": "python3"
  },
  "language_info": {
   "codemirror_mode": {
    "name": "ipython",
    "version": 3
   },
   "file_extension": ".py",
   "mimetype": "text/x-python",
   "name": "python",
   "nbconvert_exporter": "python",
   "pygments_lexer": "ipython3",
   "version": "3.7.11"
  }
 },
 "nbformat": 4,
 "nbformat_minor": 5
}
