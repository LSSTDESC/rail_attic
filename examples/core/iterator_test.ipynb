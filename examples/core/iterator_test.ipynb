{
 "cells": [
  {
   "cell_type": "code",
   "execution_count": 1,
   "id": "8d67b31a",
   "metadata": {},
   "outputs": [
    {
     "name": "stdout",
     "output_type": "stream",
     "text": [
      "estimator delightPZ not installed\n"
     ]
    },
    {
     "name": "stderr",
     "output_type": "stream",
     "text": [
      "/Users/echarles/anaconda3/envs/rail_py37/lib/python3.7/site-packages/jax/experimental/optimizers.py:30: FutureWarning: jax.experimental.optimizers is deprecated, import jax.example_libraries.optimizers instead\n",
      "  FutureWarning)\n",
      "/Users/echarles/anaconda3/envs/rail_py37/lib/python3.7/site-packages/jax/experimental/stax.py:30: FutureWarning: jax.experimental.stax is deprecated, import jax.example_libraries.stax instead\n",
      "  FutureWarning)\n"
     ]
    }
   ],
   "source": [
    "import os\n",
    "import rail"
   ]
  },
  {
   "cell_type": "code",
   "execution_count": 2,
   "id": "70cb6d86",
   "metadata": {},
   "outputs": [],
   "source": [
    "from rail.core.stage import RailStage\n",
    "from rail.core.data import TableHandle"
   ]
  },
  {
   "cell_type": "code",
   "execution_count": 3,
   "id": "eaeec566",
   "metadata": {},
   "outputs": [],
   "source": [
    "DS = RailStage.data_store\n",
    "DS.__class__.allow_overwrite = True"
   ]
  },
  {
   "cell_type": "code",
   "execution_count": 4,
   "id": "8ec1cb98",
   "metadata": {},
   "outputs": [],
   "source": [
    "RAIL_DIR = os.path.join(os.path.dirname(rail.__file__), '..')\n",
    "pdfs_file = os.path.join(RAIL_DIR, \"tests/data/test_dc2_training_9816.hdf5\")"
   ]
  },
  {
   "cell_type": "code",
   "execution_count": 5,
   "id": "3c1067fe",
   "metadata": {},
   "outputs": [],
   "source": [
    "data = DS.read_file('input', TableHandle, pdfs_file)\n",
    "th = TableHandle('data', path=pdfs_file)"
   ]
  },
  {
   "cell_type": "code",
   "execution_count": 6,
   "id": "93df5f7b",
   "metadata": {},
   "outputs": [],
   "source": [
    "import tables_io\n",
    "x = tables_io.iteratorNative(pdfs_file, groupname='photometry', chunk_size=1000)"
   ]
  },
  {
   "cell_type": "code",
   "execution_count": 7,
   "id": "c3a2b139",
   "metadata": {},
   "outputs": [
    {
     "name": "stdout",
     "output_type": "stream",
     "text": [
      "<generator object iterHdf5ToDict at 0x7fcb4e6213d0>\n"
     ]
    }
   ],
   "source": [
    "print(x)"
   ]
  },
  {
   "cell_type": "code",
   "execution_count": 8,
   "id": "0a49c17e",
   "metadata": {},
   "outputs": [
    {
     "name": "stdout",
     "output_type": "stream",
     "text": [
      "0\n",
      "1000\n",
      "2000\n",
      "3000\n",
      "4000\n",
      "5000\n",
      "6000\n",
      "7000\n",
      "8000\n",
      "9000\n",
      "10000\n"
     ]
    }
   ],
   "source": [
    "for xx in x:\n",
    "    print(xx[0])"
   ]
  },
  {
   "cell_type": "code",
   "execution_count": 9,
   "id": "255f7007",
   "metadata": {},
   "outputs": [],
   "source": [
    "x = th.iterator(groupname='photometry', chunk_size=1000)"
   ]
  },
  {
   "cell_type": "code",
   "execution_count": 10,
   "id": "fa0b40a0",
   "metadata": {},
   "outputs": [
    {
     "name": "stdout",
     "output_type": "stream",
     "text": [
      "<generator object iterHdf5ToDict at 0x7fcb4e621750>\n"
     ]
    }
   ],
   "source": [
    "print(x)"
   ]
  },
  {
   "cell_type": "code",
   "execution_count": 11,
   "id": "138e591e",
   "metadata": {},
   "outputs": [
    {
     "name": "stdout",
     "output_type": "stream",
     "text": [
      "0\n",
      "1000\n",
      "2000\n",
      "3000\n",
      "4000\n",
      "5000\n",
      "6000\n",
      "7000\n",
      "8000\n",
      "9000\n",
      "10000\n"
     ]
    }
   ],
   "source": [
    "for xx in x:\n",
    "    print(xx[0])"
   ]
  },
  {
   "cell_type": "code",
   "execution_count": 12,
   "id": "2f0543b0",
   "metadata": {},
   "outputs": [],
   "source": [
    "from rail.core.utilStages import ColumnMapper"
   ]
  },
  {
   "cell_type": "code",
   "execution_count": 13,
   "id": "9c44b371",
   "metadata": {},
   "outputs": [],
   "source": [
    "cm = ColumnMapper.make_stage(input=pdfs_file, chunk_size=1000, hdf5_groupname='photometry', columns=dict(id='bob'))"
   ]
  },
  {
   "cell_type": "code",
   "execution_count": 14,
   "id": "a1c8b211",
   "metadata": {},
   "outputs": [],
   "source": [
    "x = cm.input_iterator('input')"
   ]
  },
  {
   "cell_type": "code",
   "execution_count": 15,
   "id": "7a9451bb",
   "metadata": {},
   "outputs": [
    {
     "name": "stdout",
     "output_type": "stream",
     "text": [
      "0\n",
      "1000\n",
      "2000\n",
      "3000\n",
      "4000\n",
      "5000\n",
      "6000\n",
      "7000\n",
      "8000\n",
      "9000\n",
      "10000\n"
     ]
    }
   ],
   "source": [
    "for  xx in x:\n",
    "    print(xx[0])"
   ]
  },
  {
   "cell_type": "code",
   "execution_count": 16,
   "id": "f46519de",
   "metadata": {},
   "outputs": [
    {
     "ename": "TypeError",
     "evalue": "read() got an unexpected keyword argument 'groupname'",
     "output_type": "error",
     "traceback": [
      "\u001b[0;31m---------------------------------------------------------------------------\u001b[0m",
      "\u001b[0;31mTypeError\u001b[0m                                 Traceback (most recent call last)",
      "\u001b[0;32m/var/folders/26/trd4y7vd4734y5jcm_1fkn448vb1ml/T/ipykernel_44626/3269396926.py\u001b[0m in \u001b[0;36m<module>\u001b[0;34m\u001b[0m\n\u001b[0;32m----> 1\u001b[0;31m \u001b[0mth\u001b[0m\u001b[0;34m.\u001b[0m\u001b[0mread\u001b[0m\u001b[0;34m(\u001b[0m\u001b[0mgroupname\u001b[0m\u001b[0;34m=\u001b[0m\u001b[0;34m'photometry'\u001b[0m\u001b[0;34m)\u001b[0m\u001b[0;34m\u001b[0m\u001b[0;34m\u001b[0m\u001b[0m\n\u001b[0m",
      "\u001b[0;32m~/software/vro/RAIL/rail/core/data.py\u001b[0m in \u001b[0;36mread\u001b[0;34m(self, force, **kwargs)\u001b[0m\n\u001b[1;32m     55\u001b[0m         \u001b[0;32mif\u001b[0m \u001b[0mself\u001b[0m\u001b[0;34m.\u001b[0m\u001b[0mdata\u001b[0m \u001b[0;32mis\u001b[0m \u001b[0;32mnot\u001b[0m \u001b[0;32mNone\u001b[0m \u001b[0;32mand\u001b[0m \u001b[0;32mnot\u001b[0m \u001b[0mforce\u001b[0m\u001b[0;34m:\u001b[0m\u001b[0;34m\u001b[0m\u001b[0;34m\u001b[0m\u001b[0m\n\u001b[1;32m     56\u001b[0m             \u001b[0;32mreturn\u001b[0m \u001b[0mself\u001b[0m\u001b[0;34m.\u001b[0m\u001b[0mdata\u001b[0m\u001b[0;34m\u001b[0m\u001b[0;34m\u001b[0m\u001b[0m\n\u001b[0;32m---> 57\u001b[0;31m         \u001b[0mself\u001b[0m\u001b[0;34m.\u001b[0m\u001b[0mdata\u001b[0m \u001b[0;34m=\u001b[0m \u001b[0mself\u001b[0m\u001b[0;34m.\u001b[0m\u001b[0m_read\u001b[0m\u001b[0;34m(\u001b[0m\u001b[0mself\u001b[0m\u001b[0;34m.\u001b[0m\u001b[0mpath\u001b[0m\u001b[0;34m,\u001b[0m \u001b[0;34m**\u001b[0m\u001b[0mkwargs\u001b[0m\u001b[0;34m)\u001b[0m\u001b[0;34m\u001b[0m\u001b[0;34m\u001b[0m\u001b[0m\n\u001b[0m\u001b[1;32m     58\u001b[0m         \u001b[0;32mreturn\u001b[0m \u001b[0mself\u001b[0m\u001b[0;34m.\u001b[0m\u001b[0mdata\u001b[0m\u001b[0;34m\u001b[0m\u001b[0;34m\u001b[0m\u001b[0m\n\u001b[1;32m     59\u001b[0m \u001b[0;34m\u001b[0m\u001b[0m\n",
      "\u001b[0;32m~/software/vro/RAIL/rail/core/data.py\u001b[0m in \u001b[0;36m_read\u001b[0;34m(cls, path, **kwargs)\u001b[0m\n\u001b[1;32m    155\u001b[0m     \u001b[0;32mdef\u001b[0m \u001b[0m_read\u001b[0m\u001b[0;34m(\u001b[0m\u001b[0mcls\u001b[0m\u001b[0;34m,\u001b[0m \u001b[0mpath\u001b[0m\u001b[0;34m,\u001b[0m \u001b[0;34m**\u001b[0m\u001b[0mkwargs\u001b[0m\u001b[0;34m)\u001b[0m\u001b[0;34m:\u001b[0m\u001b[0;34m\u001b[0m\u001b[0;34m\u001b[0m\u001b[0m\n\u001b[1;32m    156\u001b[0m         \u001b[0;34m\"\"\"Read and return the data from the associated file \"\"\"\u001b[0m\u001b[0;34m\u001b[0m\u001b[0;34m\u001b[0m\u001b[0m\n\u001b[0;32m--> 157\u001b[0;31m         \u001b[0;32mreturn\u001b[0m \u001b[0mtables_io\u001b[0m\u001b[0;34m.\u001b[0m\u001b[0mread\u001b[0m\u001b[0;34m(\u001b[0m\u001b[0mpath\u001b[0m\u001b[0;34m,\u001b[0m \u001b[0;34m**\u001b[0m\u001b[0mkwargs\u001b[0m\u001b[0;34m)\u001b[0m\u001b[0;34m\u001b[0m\u001b[0;34m\u001b[0m\u001b[0m\n\u001b[0m\u001b[1;32m    158\u001b[0m \u001b[0;34m\u001b[0m\u001b[0m\n\u001b[1;32m    159\u001b[0m     \u001b[0;34m@\u001b[0m\u001b[0mclassmethod\u001b[0m\u001b[0;34m\u001b[0m\u001b[0;34m\u001b[0m\u001b[0m\n",
      "\u001b[0;31mTypeError\u001b[0m: read() got an unexpected keyword argument 'groupname'"
     ]
    }
   ],
   "source": [
    "th.read(groupname='photometry')"
   ]
  },
  {
   "cell_type": "code",
   "execution_count": null,
   "id": "8d0acf13",
   "metadata": {},
   "outputs": [],
   "source": [
    "th.has_data"
   ]
  },
  {
   "cell_type": "code",
   "execution_count": null,
   "id": "cc970bf8",
   "metadata": {},
   "outputs": [],
   "source": []
  }
 ],
 "metadata": {
  "kernelspec": {
   "display_name": "Python 3 (ipykernel)",
   "language": "python",
   "name": "python3"
  },
  "language_info": {
   "codemirror_mode": {
    "name": "ipython",
    "version": 3
   },
   "file_extension": ".py",
   "mimetype": "text/x-python",
   "name": "python",
   "nbconvert_exporter": "python",
   "pygments_lexer": "ipython3",
   "version": "3.7.11"
  }
 },
 "nbformat": 4,
 "nbformat_minor": 5
}
