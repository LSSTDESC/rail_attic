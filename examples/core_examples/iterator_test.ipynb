{
 "cells": [
  {
   "cell_type": "markdown",
   "id": "8cab252c",
   "metadata": {},
   "source": [
    "# iterator_test notebook\n",
    "\n",
    "author: Eric Charles\n",
    "last run successfully: April 26, 2022\n",
    "\n",
    "This notebook demonstrates three ways to iterate over tabular data\n",
    "\n",
    "1. Using the `tables_io.iteratorNative` function\n",
    "2. Using the `rail.core.data.TableHandle` data handle object\n",
    "3. Using the `rail.core.stage.RailStage` functionality"
   ]
  },
  {
   "cell_type": "code",
   "execution_count": null,
   "id": "8d67b31a",
   "metadata": {},
   "outputs": [],
   "source": [
    "# Basic imports\n",
    "import os\n",
    "import rail\n",
    "import tables_io\n",
    "from rail.core.stage import RailStage\n",
    "from rail.core.data import TableHandle"
   ]
  },
  {
   "cell_type": "markdown",
   "id": "40332abb",
   "metadata": {},
   "source": [
    "### Get access to the rail DataStore, and set it to allow use to overwrite data\n",
    "\n",
    "Allowing overwrites will prevent errors when re-running cells in the notebook"
   ]
  },
  {
   "cell_type": "code",
   "execution_count": null,
   "id": "eaeec566",
   "metadata": {},
   "outputs": [],
   "source": [
    "DS = RailStage.data_store\n",
    "DS.__class__.allow_overwrite = True"
   ]
  },
  {
   "cell_type": "markdown",
   "id": "508ddd31",
   "metadata": {},
   "source": [
    "### Set up the path to the test data"
   ]
  },
  {
   "cell_type": "code",
   "execution_count": null,
   "id": "8ec1cb98",
   "metadata": {},
   "outputs": [],
   "source": [
    "from rail.core.utils import RAILDIR\n",
    "pdfs_file = os.path.join(RAILDIR, \"rail/examples_data/testdata/test_dc2_training_9816.hdf5\")"
   ]
  },
  {
   "cell_type": "markdown",
   "id": "f60cfe60",
   "metadata": {},
   "source": [
    "### Get access to the data directly, using the DataStore.read_file function\n",
    "\n",
    "This will load the entire table from the file we are reading"
   ]
  },
  {
   "cell_type": "code",
   "execution_count": null,
   "id": "3c1067fe",
   "metadata": {},
   "outputs": [],
   "source": [
    "data = DS.read_file('input', TableHandle, pdfs_file)"
   ]
  },
  {
   "cell_type": "code",
   "execution_count": null,
   "id": "60c869a7",
   "metadata": {},
   "outputs": [],
   "source": [
    "print(data())"
   ]
  },
  {
   "cell_type": "markdown",
   "id": "5728e08a",
   "metadata": {},
   "source": [
    "### Iterate using the tables_io.iteratorNative function\n",
    "\n",
    "This will open the HDF5 file, and iterate over the file, returning chunks of data"
   ]
  },
  {
   "cell_type": "code",
   "execution_count": null,
   "id": "93df5f7b",
   "metadata": {},
   "outputs": [],
   "source": [
    "# set up the iterator, and see what type of objec the iterator is\n",
    "x = tables_io.iteratorNative(pdfs_file, groupname='photometry', chunk_size=1000)\n",
    "print(x)\n",
    "for xx in x:\n",
    "    print(xx[0], xx[1], xx[2]['id'][0])"
   ]
  },
  {
   "cell_type": "markdown",
   "id": "d3dfcb10",
   "metadata": {},
   "source": [
    "### Iterate using the rail.core.data.TableHandle data handle object\n",
    "\n",
    "This will create a TableHandle object that points to the correct file, which can be use to iterate over that file."
   ]
  },
  {
   "cell_type": "code",
   "execution_count": null,
   "id": "255f7007",
   "metadata": {},
   "outputs": [],
   "source": [
    "th = TableHandle('data', path=pdfs_file)\n",
    "x = th.iterator(groupname='photometry', chunk_size=1000)\n",
    "print(x)\n",
    "for xx in x:\n",
    "    print(xx[0], xx[1], xx[2]['id'][0])"
   ]
  },
  {
   "cell_type": "markdown",
   "id": "b251b43e",
   "metadata": {},
   "source": [
    "### Iterator using the rail.core.stage.RailStage functionality\n",
    "\n",
    "This will create a RailStage pipeline stage, which takes as input an HDF5 file, \n",
    "so the `input_iterator` function can be used to iterate over that file."
   ]
  },
  {
   "cell_type": "code",
   "execution_count": null,
   "id": "2f0543b0",
   "metadata": {},
   "outputs": [],
   "source": [
    "from rail.core.utilStages import ColumnMapper"
   ]
  },
  {
   "cell_type": "code",
   "execution_count": null,
   "id": "7a9451bb",
   "metadata": {},
   "outputs": [],
   "source": [
    "cm = ColumnMapper.make_stage(input=pdfs_file, chunk_size=1000, hdf5_groupname='photometry', columns=dict(id='bob'))\n",
    "x = cm.input_iterator('input')\n",
    "for  xx in x:\n",
    "    print(xx[0], xx[1], xx[2]['id'][0])"
   ]
  },
  {
   "cell_type": "code",
   "execution_count": null,
   "id": "cc970bf8",
   "metadata": {},
   "outputs": [],
   "source": []
  }
 ],
 "metadata": {
  "kernelspec": {
   "display_name": "Python 3 (ipykernel)",
   "language": "python",
   "name": "python3"
  },
  "language_info": {
   "codemirror_mode": {
    "name": "ipython",
    "version": 3
   },
   "file_extension": ".py",
   "mimetype": "text/x-python",
   "name": "python",
   "nbconvert_exporter": "python",
   "pygments_lexer": "ipython3",
   "version": "3.10.10"
  }
 },
 "nbformat": 4,
 "nbformat_minor": 5
}
