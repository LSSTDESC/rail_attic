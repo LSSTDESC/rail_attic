{
 "cells": [
  {
   "cell_type": "code",
   "execution_count": 1,
   "id": "ae65f4e6-e7b3-4669-a6fa-e6e8d8592681",
   "metadata": {
    "tags": []
   },
   "outputs": [],
   "source": [
    "import matplotlib.pyplot as plt\n",
    "import os\n",
    "import tables_io\n",
    "import tempfile\n",
    "from rail.core.stage import RailStage\n",
    "from rail.core.data import TableHandle\n",
    "from rail.core.utils import RAILDIR\n",
    "from rail.core.utilStages import LSSTFluxToMagConverter, Dereddener"
   ]
  },
  {
   "cell_type": "code",
   "execution_count": 2,
   "id": "0ce08f0d-15f2-418b-8b3d-94937918b865",
   "metadata": {
    "tags": []
   },
   "outputs": [],
   "source": [
    "DS = RailStage.data_store\n",
    "example_file = os.path.join(RAILDIR, \"rail\", \"examples_data\", \"testdata\", \"rubin_dm_dc2_example.pq\")\n",
    "test_data = DS.read_file(\"test_data\", TableHandle, example_file)"
   ]
  },
  {
   "cell_type": "code",
   "execution_count": 3,
   "id": "67da5095-a5d6-4979-a2a0-5fba0d3e5c58",
   "metadata": {
    "tags": []
   },
   "outputs": [
    {
     "name": "stdout",
     "output_type": "stream",
     "text": [
      "<class 'pandas.core.frame.DataFrame'>\n",
      "RangeIndex: 100 entries, 0 to 99\n",
      "Data columns (total 15 columns):\n",
      " #   Column            Non-Null Count  Dtype  \n",
      "---  ------            --------------  -----  \n",
      " 0   objectId          100 non-null    int64  \n",
      " 1   ra                100 non-null    float64\n",
      " 2   decl              100 non-null    float64\n",
      " 3   u_gaap1p0Flux     100 non-null    float64\n",
      " 4   u_gaap1p0FluxErr  100 non-null    float64\n",
      " 5   g_gaap1p0Flux     100 non-null    float64\n",
      " 6   g_gaap1p0FluxErr  100 non-null    float64\n",
      " 7   r_gaap1p0Flux     100 non-null    float64\n",
      " 8   r_gaap1p0FluxErr  100 non-null    float64\n",
      " 9   i_gaap1p0Flux     100 non-null    float64\n",
      " 10  i_gaap1p0FluxErr  100 non-null    float64\n",
      " 11  z_gaap1p0Flux     100 non-null    float64\n",
      " 12  z_gaap1p0FluxErr  100 non-null    float64\n",
      " 13  y_gaap1p0Flux     100 non-null    float64\n",
      " 14  y_gaap1p0FluxErr  100 non-null    float64\n",
      "dtypes: float64(14), int64(1)\n",
      "memory usage: 11.8 KB\n"
     ]
    }
   ],
   "source": [
    "test_data().info()"
   ]
  },
  {
   "cell_type": "markdown",
   "id": "6c235d20-74bd-4acb-957a-d2f24faa5827",
   "metadata": {},
   "source": [
    "To convert mags to fluxes, we need to specify patterns for the `flux_name` and `flux_err_name` columns to be converted, and the `mag_name` and `mag_err_name` columsn that will store the newly created magnitudes.  This is done as below, by specifying a string listing the bands, and `{band}` in the patterns where the individual bands will go.  The dictionary below duplicates the default behavior of the converter, but is written out explicitly as an example:"
   ]
  },
  {
   "cell_type": "code",
   "execution_count": 4,
   "id": "b5d5ec2c-6a07-48c9-897e-b6e0a1025096",
   "metadata": {
    "tags": []
   },
   "outputs": [],
   "source": [
    "# convert \"gaap\" fluxes to magnitudes:\n",
    "ftomagdict = dict(bands = \"ugrizy\",\n",
    "                  flux_name=\"{band}_gaap1p0Flux\",\n",
    "                  flux_err_name=\"{band}_gaap1p0FluxErr\",\n",
    "                  mag_name=\"mag_{band}_lsst\",\n",
    "                  mag_err_name=\"mag_err_{band}_lsst\",\n",
    "                  copy_cols=[\"ra\", \"decl\", \"objectId\"])\n",
    "fluxToMag = LSSTFluxToMagConverter.make_stage(name='flux2mag', **ftomagdict)"
   ]
  },
  {
   "cell_type": "code",
   "execution_count": 5,
   "id": "bbba7488-4f85-4361-8aac-f2a71b6b95d1",
   "metadata": {
    "tags": []
   },
   "outputs": [
    {
     "name": "stdout",
     "output_type": "stream",
     "text": [
      "Inserting handle into data store.  output_flux2mag: inprogress_output_flux2mag.hdf5, flux2mag\n"
     ]
    },
    {
     "name": "stderr",
     "output_type": "stream",
     "text": [
      "/Users/sam/TMP/fluxmag/RAIL/src/rail/core/utilStages.py:141: RuntimeWarning: invalid value encountered in log10\n",
      "  return -2.5*np.log10(flux_vals) + self.config.mag_offset\n"
     ]
    }
   ],
   "source": [
    "mags_data = fluxToMag(test_data)"
   ]
  },
  {
   "cell_type": "code",
   "execution_count": 6,
   "id": "f37c80cf-1593-454a-a5ab-ad903eba6f2e",
   "metadata": {
    "tags": []
   },
   "outputs": [
    {
     "data": {
      "text/plain": [
       "['mag_u_lsst',\n",
       " 'mag_err_u_lsst',\n",
       " 'mag_g_lsst',\n",
       " 'mag_err_g_lsst',\n",
       " 'mag_r_lsst',\n",
       " 'mag_err_r_lsst',\n",
       " 'mag_i_lsst',\n",
       " 'mag_err_i_lsst',\n",
       " 'mag_z_lsst',\n",
       " 'mag_err_z_lsst',\n",
       " 'mag_y_lsst',\n",
       " 'mag_err_y_lsst',\n",
       " 'ra',\n",
       " 'decl',\n",
       " 'objectId']"
      ]
     },
     "execution_count": 6,
     "metadata": {},
     "output_type": "execute_result"
    }
   ],
   "source": [
    "list(mags_data().keys())"
   ]
  },
  {
   "cell_type": "markdown",
   "id": "7214fc16-3555-4553-9a0f-b145c21d86d0",
   "metadata": {},
   "source": [
    "To deredden magnitudes we need to grab one of the dust maps used by the `dustmaps` package.  We'll grab the default Schlegel-Finkbeiner-Davis \"SFD\" map.  NOTE: This will download a file to your machine containing the SFD data!"
   ]
  },
  {
   "cell_type": "code",
   "execution_count": 7,
   "id": "d36856d9-bb1d-427a-a9fe-a68e22394757",
   "metadata": {
    "tags": []
   },
   "outputs": [
    {
     "name": "stdout",
     "output_type": "stream",
     "text": [
      "Downloading SFD data file to /Users/sam/TMP/fluxmag/RAIL/examples/core_examples/sfd/SFD_dust_4096_ngp.fits\n",
      "Downloading data to '/Users/sam/TMP/fluxmag/RAIL/examples/core_examples/sfd/SFD_dust_4096_ngp.fits' ...\n",
      "Downloading https://dataverse.harvard.edu/api/access/datafile/2902687 ...\n"
     ]
    },
    {
     "name": "stderr",
     "output_type": "stream",
     "text": [
      " 64.0 MiB of 64.0 MiB |  26.2 MiB/s |###################| 100% | ETA:  00:00:00"
     ]
    },
    {
     "name": "stdout",
     "output_type": "stream",
     "text": [
      "Downloading SFD data file to /Users/sam/TMP/fluxmag/RAIL/examples/core_examples/sfd/SFD_dust_4096_sgp.fits\n",
      "Downloading data to '/Users/sam/TMP/fluxmag/RAIL/examples/core_examples/sfd/SFD_dust_4096_sgp.fits' ...\n",
      "Downloading https://dataverse.harvard.edu/api/access/datafile/2902695 ...\n"
     ]
    },
    {
     "name": "stderr",
     "output_type": "stream",
     "text": [
      " 61.4 MiB of 64.0 MiB |  25.7 MiB/s |################## |  95% | ETA:   0:00:00"
     ]
    }
   ],
   "source": [
    "from dustmaps.config import config\n",
    "config['data_dir'] = \"./\"\n",
    "import dustmaps.sfd\n",
    "dustmaps.sfd.fetch()"
   ]
  },
  {
   "cell_type": "markdown",
   "id": "6394d1ce-df67-4da3-a64e-e21a3cbfffd3",
   "metadata": {},
   "source": [
    "We need to feed the location of the directory containing the newly created \"sfd\" maps to the stage, as we downloaded the data to the present working directory with the command above, that directory is just `\"./\"`"
   ]
  },
  {
   "cell_type": "code",
   "execution_count": 8,
   "id": "a1c7aef0-50aa-4cb0-907a-db7bca3843ab",
   "metadata": {
    "tags": []
   },
   "outputs": [
    {
     "name": "stdout",
     "output_type": "stream",
     "text": [
      "Inserting handle into data store.  output_dereddener: inprogress_output_dereddener.hdf5, dereddener\n"
     ]
    }
   ],
   "source": [
    "dustmap_dir = \"./\"\n",
    "\n",
    "dereddener = Dereddener.make_stage(name='dereddener', dustmap_dir=dustmap_dir)\n",
    "deredden_data = dereddener(mags_data)"
   ]
  },
  {
   "cell_type": "code",
   "execution_count": 9,
   "id": "a96eba23-6905-4300-846f-aa2ea8389e27",
   "metadata": {
    "tags": []
   },
   "outputs": [
    {
     "data": {
      "text/plain": [
       "dict_keys(['mag_u_lsst', 'mag_g_lsst', 'mag_r_lsst', 'mag_i_lsst', 'mag_z_lsst', 'mag_y_lsst'])"
      ]
     },
     "execution_count": 9,
     "metadata": {},
     "output_type": "execute_result"
    }
   ],
   "source": [
    "deredden_data().keys()"
   ]
  },
  {
   "cell_type": "markdown",
   "id": "31c25a3d-ef3a-4877-8e88-286eeabe74c4",
   "metadata": {},
   "source": [
    "We see that the deredden stage returns us a dictionary with the dereddened magnitudes. Let's plot the difference of the un-dereddened magnitudes and the dereddened ones for u-band to see if they are, indeed, slightly brighter:"
   ]
  },
  {
   "cell_type": "code",
   "execution_count": 10,
   "id": "cc1300f4-9053-4af1-adf2-23dd1be62418",
   "metadata": {
    "tags": []
   },
   "outputs": [
    {
     "data": {
      "image/png": "[encoded data removed]",
      "text/plain": [
       "<Figure size 800x600 with 1 Axes>"
      ]
     },
     "metadata": {},
     "output_type": "display_data"
    }
   ],
   "source": [
    "delta_u_mag = mags_data()['mag_u_lsst'] - deredden_data()['mag_u_lsst']\n",
    "plt.figure(figsize=(8,6))\n",
    "plt.scatter(mags_data()['mag_u_lsst'], delta_u_mag, s=15)\n",
    "plt.xlabel(\"orignal u-band mag\", fontsize=12)\n",
    "plt.ylabel(\"u - deredden_u\");"
   ]
  },
  {
   "cell_type": "code",
   "execution_count": 11,
   "id": "258a6b15-56ed-47ba-838e-2a829612d573",
   "metadata": {
    "tags": []
   },
   "outputs": [],
   "source": [
    "# for cleanup, let's delete the SFD map files that we downloaded, uncomment the line below to delete that map directory\n",
    "#! rm -rf sfd/"
   ]
  },
  {
   "cell_type": "code",
   "execution_count": null,
   "id": "b5bf769a-1b43-4576-b411-13b02e74cf28",
   "metadata": {},
   "outputs": [],
   "source": []
  }
 ],
 "metadata": {
  "kernelspec": {
   "display_name": "Python 3 (ipykernel)",
   "language": "python",
   "name": "python3"
  },
  "language_info": {
   "codemirror_mode": {
    "name": "ipython",
    "version": 3
   },
   "file_extension": ".py",
   "mimetype": "text/x-python",
   "name": "python",
   "nbconvert_exporter": "python",
   "pygments_lexer": "ipython3",
   "version": "3.9.16"
  }
 },
 "nbformat": 4,
 "nbformat_minor": 5
}
