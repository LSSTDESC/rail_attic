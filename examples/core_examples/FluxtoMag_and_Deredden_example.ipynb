{
 "cells": [
  {
   "cell_type": "markdown",
   "id": "21af28b2",
   "metadata": {},
   "source": [
    "author: Sam Schmidt<br>\n",
    "Last successfully run: Apr 26, 2023<br>"
   ]
  },
  {
   "cell_type": "code",
   "execution_count": null,
   "id": "ae65f4e6-e7b3-4669-a6fa-e6e8d8592681",
   "metadata": {
    "tags": []
   },
   "outputs": [],
   "source": [
    "import matplotlib.pyplot as plt\n",
    "import os\n",
    "import tables_io\n",
    "import tempfile\n",
    "from rail.core.stage import RailStage\n",
    "from rail.core.data import TableHandle\n",
    "from rail.core.utils import RAILDIR\n",
    "from rail.core.utilStages import LSSTFluxToMagConverter, Dereddener"
   ]
  },
  {
   "cell_type": "code",
   "execution_count": null,
   "id": "0ce08f0d-15f2-418b-8b3d-94937918b865",
   "metadata": {
    "tags": []
   },
   "outputs": [],
   "source": [
    "DS = RailStage.data_store\n",
    "example_file = os.path.join(RAILDIR, \"rail\", \"examples_data\", \"testdata\", \"rubin_dm_dc2_example.pq\")\n",
    "test_data = DS.read_file(\"test_data\", TableHandle, example_file)"
   ]
  },
  {
   "cell_type": "code",
   "execution_count": null,
   "id": "67da5095-a5d6-4979-a2a0-5fba0d3e5c58",
   "metadata": {
    "tags": []
   },
   "outputs": [],
   "source": [
    "test_data().info()"
   ]
  },
  {
   "cell_type": "markdown",
   "id": "6c235d20-74bd-4acb-957a-d2f24faa5827",
   "metadata": {},
   "source": [
    "To convert mags to fluxes, we need to specify patterns for the `flux_name` and `flux_err_name` columns to be converted, and the `mag_name` and `mag_err_name` columsn that will store the newly created magnitudes.  This is done as below, by specifying a string listing the bands, and `{band}` in the patterns where the individual bands will go.  The dictionary below duplicates the default behavior of the converter, but is written out explicitly as an example:"
   ]
  },
  {
   "cell_type": "code",
   "execution_count": null,
   "id": "b5d5ec2c-6a07-48c9-897e-b6e0a1025096",
   "metadata": {
    "tags": []
   },
   "outputs": [],
   "source": [
    "# convert \"gaap\" fluxes to magnitudes:\n",
    "ftomagdict = dict(bands = \"ugrizy\",\n",
    "                  flux_name=\"{band}_gaap1p0Flux\",\n",
    "                  flux_err_name=\"{band}_gaap1p0FluxErr\",\n",
    "                  mag_name=\"mag_{band}_lsst\",\n",
    "                  mag_err_name=\"mag_err_{band}_lsst\",\n",
    "                  copy_cols=dict(ra='ra', decl='decl', objectId='objectId'))\n",
    "fluxToMag = LSSTFluxToMagConverter.make_stage(name='flux2mag', **ftomagdict)"
   ]
  },
  {
   "cell_type": "code",
   "execution_count": null,
   "id": "bbba7488-4f85-4361-8aac-f2a71b6b95d1",
   "metadata": {
    "tags": []
   },
   "outputs": [],
   "source": [
    "mags_data = fluxToMag(test_data)"
   ]
  },
  {
   "cell_type": "code",
   "execution_count": null,
   "id": "f37c80cf-1593-454a-a5ab-ad903eba6f2e",
   "metadata": {
    "tags": []
   },
   "outputs": [],
   "source": [
    "list(mags_data().keys())"
   ]
  },
  {
   "cell_type": "markdown",
   "id": "7214fc16-3555-4553-9a0f-b145c21d86d0",
   "metadata": {},
   "source": [
    "To deredden magnitudes we need to grab one of the dust maps used by the `dustmaps` package.  We'll grab the default Schlegel-Finkbeiner-Davis \"SFD\" map.  NOTE: This will download a file to your machine containing the SFD data!"
   ]
  },
  {
   "cell_type": "markdown",
   "id": "6394d1ce-df67-4da3-a64e-e21a3cbfffd3",
   "metadata": {},
   "source": [
    "We need to feed the location of the directory containing the newly created \"sfd\" maps to the stage, as we downloaded the data to the present working directory with the command above, that directory is just `\"./\"`"
   ]
  },
  {
   "cell_type": "code",
   "execution_count": null,
   "id": "a1c7aef0-50aa-4cb0-907a-db7bca3843ab",
   "metadata": {
    "tags": []
   },
   "outputs": [],
   "source": [
    "dustmap_dir = \"./\"\n",
    "\n",
    "dereddener = Dereddener.make_stage(name='dereddener', dustmap_dir=dustmap_dir)\n",
    "dereddener.fetch_map()"
   ]
  },
  {
   "cell_type": "code",
   "execution_count": null,
   "id": "07e8a025",
   "metadata": {},
   "outputs": [],
   "source": [
    "deredden_data = dereddener(mags_data)"
   ]
  },
  {
   "cell_type": "code",
   "execution_count": null,
   "id": "a96eba23-6905-4300-846f-aa2ea8389e27",
   "metadata": {
    "tags": []
   },
   "outputs": [],
   "source": [
    "deredden_data().keys()"
   ]
  },
  {
   "cell_type": "markdown",
   "id": "31c25a3d-ef3a-4877-8e88-286eeabe74c4",
   "metadata": {},
   "source": [
    "We see that the deredden stage returns us a dictionary with the dereddened magnitudes. Let's plot the difference of the un-dereddened magnitudes and the dereddened ones for u-band to see if they are, indeed, slightly brighter:"
   ]
  },
  {
   "cell_type": "code",
   "execution_count": null,
   "id": "cc1300f4-9053-4af1-adf2-23dd1be62418",
   "metadata": {
    "tags": []
   },
   "outputs": [],
   "source": [
    "delta_u_mag = mags_data()['mag_u_lsst'] - deredden_data()['mag_u_lsst']\n",
    "plt.figure(figsize=(8,6))\n",
    "plt.scatter(mags_data()['mag_u_lsst'], delta_u_mag, s=15)\n",
    "plt.xlabel(\"orignal u-band mag\", fontsize=12)\n",
    "plt.ylabel(\"u - deredden_u\");"
   ]
  },
  {
   "cell_type": "markdown",
   "id": "7f4f0def-0ea4-4aa9-9e0f-35b1710e1e41",
   "metadata": {
    "tags": []
   },
   "source": [
    "## for cleanup, uncomment the line below to delete that SFD map directory downloaded in this example\n"
   ]
  },
  {
   "cell_type": "code",
   "execution_count": null,
   "id": "b5bf769a-1b43-4576-b411-13b02e74cf28",
   "metadata": {
    "tags": []
   },
   "outputs": [],
   "source": [
    "#! rm -rf sfd/"
   ]
  },
  {
   "cell_type": "code",
   "execution_count": null,
   "id": "028193ea",
   "metadata": {},
   "outputs": [],
   "source": []
  }
 ],
 "metadata": {
  "kernelspec": {
   "display_name": "Python 3 (ipykernel)",
   "language": "python",
   "name": "python3"
  },
  "language_info": {
   "codemirror_mode": {
    "name": "ipython",
    "version": 3
   },
   "file_extension": ".py",
   "mimetype": "text/x-python",
   "name": "python",
   "nbconvert_exporter": "python",
   "pygments_lexer": "ipython3",
   "version": "3.10.10"
  }
 },
 "nbformat": 4,
 "nbformat_minor": 5
}
