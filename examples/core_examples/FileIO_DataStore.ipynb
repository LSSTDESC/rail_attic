{
 "cells": [
  {
   "cell_type": "markdown",
   "metadata": {},
   "source": [
    "# Data, files, IO, and RAIL\n",
    "\n",
    "author: Sam Schmidt<br>\n",
    "Last successfully run: Apr 26, 2023<br>\n",
    "\n",
    "The switchover to a `ceci`-based backend has increased the complexity of methods of data access and IO, this notebook will demonstrate a variety of ways that users may interact with data in RAIL<br>\n",
    "\n",
    "In addition to the main RAIL code, we have developed another companion package, `tables_io` [available here on Github](https://github.com/LSSTDESC/tables_io/). <br>\n",
    "\n",
    "`tables_io` aims to simplify IO for reading/writing to some of the most common file formats used within DESC: HDF5 files, parquet files, Astropy tables, and `qp` ensembles.  There are several examples of tables_io usage in the [nb directory](https://github.com/LSSTDESC/tables_io/tree/main/nb) of the `tables_io` repository, but we will demonstrate usage in several places in this notebook as well.  For furthe examples consult the tables_io nb examples.  \n",
    "\n",
    "In short, `tables_io` aims to simplify fileIO, and much of the io is automatically sorted out for you if your files have the appriorate extensions: that is, you can simply do a tables_io.read(\"file.fits\") to read in a fits file or tables_io.read(\"newfile.pq\") to read in a dataframe in parquet format.  Similarly, you can specify the output format via the extension as well.  This functionality is extended to `qp` and `RAIL` through their use of `tables_io`, and file extensions will control how files are read and written unless explicitly overridden.\n",
    "\n",
    "Another concept used in the `ceci`-based RAIL when used in a Jupyter Notebook is the DataStore and DataHandle file specifications (see [RAIL/rail/core/data.py](https://github.com/LSSTDESC/RAIL/blob/main/rail/core/data.py) for the actual code implementing these).  `ceci` requires that each pipeline stage have defined `input` and `output` files, and is primarily geared toward pipelines rather than interactive runs with a jupyter notebook.  The DataStore enables interactive use of files in Jupyter.  We will demonstrate some useful features of the DataStore below.\n",
    "\n",
    "Let's start out with some imports:"
   ]
  },
  {
   "cell_type": "code",
   "execution_count": null,
   "metadata": {},
   "outputs": [],
   "source": [
    "import os\n",
    "import tables_io\n",
    "import rail\n",
    "import qp\n",
    "import numpy as np\n",
    "import pandas as pd\n",
    "import matplotlib.pyplot as plt\n",
    "%matplotlib inline"
   ]
  },
  {
   "cell_type": "markdown",
   "metadata": {},
   "source": [
    "First, let's use tables_io to read in some example data.  There are two example files that ship with RAIL containing a small amount of cosmoDC2 data from healpix pixel `9816`, it is located in the `RAIL/tests/data/` directory in the RAIL repository, one for \"training\" and one for \"validation\".  Let's read in one of those data files with tables_io:\n",
    "\n",
    "(NOTE: for historical reasons, our examples files have data that is in hdf5 format where all of the data arrays are actually in a single hdf5 group named \"photometry\".  We will grab the data specifically from that hdf5 group by reading in the file and specifying [\"photometry\"] as the group in the cell below.  We'll call our dataset \"traindata_io\" to indicate that we've read it in via tables_io, and distinguish it from the data that we'll place in the DataStore in later steps:"
   ]
  },
  {
   "cell_type": "code",
   "execution_count": null,
   "metadata": {},
   "outputs": [],
   "source": [
    "from rail.core.utils import RAILDIR\n",
    "trainFile = os.path.join(RAILDIR, 'rail/examples_data/testdata/test_dc2_training_9816.hdf5')\n",
    "testFile = os.path.join(RAILDIR, 'rail/examples_data/testdata/test_dc2_validation_9816.hdf5')\n",
    "\n",
    "traindata_io = tables_io.read(trainFile)[\"photometry\"]"
   ]
  },
  {
   "cell_type": "markdown",
   "metadata": {},
   "source": [
    "tables_io reads this data in as an ordered dictionary of numpy arrays by default, though you can be converted to other data formats, such as a pandas dataframe as well.  Let's print out the keys in the ordered dict showing the available columns, then convert the data to a pandas dataframe and look at a few of the columns as a demo:"
   ]
  },
  {
   "cell_type": "code",
   "execution_count": null,
   "metadata": {},
   "outputs": [],
   "source": [
    "traindata_io.keys()"
   ]
  },
  {
   "cell_type": "code",
   "execution_count": null,
   "metadata": {},
   "outputs": [],
   "source": [
    "traindata_pq = tables_io.convert(traindata_io, tables_io.types.PD_DATAFRAME)"
   ]
  },
  {
   "cell_type": "code",
   "execution_count": null,
   "metadata": {},
   "outputs": [],
   "source": [
    "traindata_pq.head()"
   ]
  },
  {
   "cell_type": "markdown",
   "metadata": {},
   "source": [
    "Next, let's set up the Data Store, so that our RAIL module will know where to fetch data.  We will set \"allow overwrite\" so that we can overwrite data files and not throw errors while in our jupyter notebook:"
   ]
  },
  {
   "cell_type": "code",
   "execution_count": null,
   "metadata": {},
   "outputs": [],
   "source": [
    "#import RailStage stuff\n",
    "from rail.core.data import TableHandle\n",
    "from rail.core.stage import RailStage"
   ]
  },
  {
   "cell_type": "code",
   "execution_count": null,
   "metadata": {},
   "outputs": [],
   "source": [
    "DS = RailStage.data_store\n",
    "DS.__class__.allow_overwrite = True"
   ]
  },
  {
   "cell_type": "markdown",
   "metadata": {},
   "source": [
    "We need to add our data to the DataStore, we can add previously read data, like our `traindata_pq`, or add data to the DataStore directly via the `DS.read_file` method, which we will do with our \"test data\".  We can add data with `DS.add_data` for the data already in memory, we want our data in a Numpy Ordered Dict, so we will specify the type as a TableHandle.  If, instead, we were storing a qp ensemble then we would set the handle as a `QPHandle`.  The DataHandles are defined in [RAIL/rail/core/data.py](https://github.com/LSSTDESC/RAIL/blob/main/rail/core/data.py), and you can see the specific code and DataHandles there."
   ]
  },
  {
   "cell_type": "code",
   "execution_count": null,
   "metadata": {},
   "outputs": [],
   "source": [
    "#add data that is already read in\n",
    "train_data = DS.add_data(\"train_data\", traindata_io, TableHandle )"
   ]
  },
  {
   "cell_type": "markdown",
   "metadata": {},
   "source": [
    "To read in data from file, we can use `DS.read_file`, once again we want a TableHandle, and we can feed it the `testFile` path defined in Cell #2 above:"
   ]
  },
  {
   "cell_type": "code",
   "execution_count": null,
   "metadata": {},
   "outputs": [],
   "source": [
    "#add test data directly to datastore from file:\n",
    "test_data = DS.read_file(\"test_data\", TableHandle, testFile)"
   ]
  },
  {
   "cell_type": "markdown",
   "metadata": {},
   "source": [
    "Let's list the data abailable to us in the DataStore:"
   ]
  },
  {
   "cell_type": "code",
   "execution_count": null,
   "metadata": {},
   "outputs": [],
   "source": [
    "DS"
   ]
  },
  {
   "cell_type": "markdown",
   "metadata": {},
   "source": [
    "Note that the DataStore is just a dictionary of the files.  Each Handle object contains the actual data, which is accessible via the `.data` property for that file.  While not particularly designed for it, you can manipulate the data via these dictionaries, which is handy for on-the-fly exploration in notebooks.<br>\n",
    "For example, say we want to add an additional column to the train_data, say \"FakeID\" with a more simple identifier than the long ObjID that is contained the `id` column:"
   ]
  },
  {
   "cell_type": "code",
   "execution_count": null,
   "metadata": {},
   "outputs": [],
   "source": [
    "train_data().keys()\n",
    "numgals = len(train_data()['id'])\n",
    "train_data()['FakeID'] = np.arange(numgals)"
   ]
  },
  {
   "cell_type": "markdown",
   "metadata": {},
   "source": [
    "Let's convert our train_data to a pandas dataframe with tables_io, and our new \"FakeID\" column should now be present:"
   ]
  },
  {
   "cell_type": "code",
   "execution_count": null,
   "metadata": {},
   "outputs": [],
   "source": [
    "train_table = tables_io.convertObj(train_data(), tables_io.types.PD_DATAFRAME)\n",
    "train_table.head()"
   ]
  },
  {
   "cell_type": "markdown",
   "metadata": {},
   "source": [
    "And there it is, a new \"FakeID\" column is now added to the end of the dataset, success!"
   ]
  },
  {
   "cell_type": "markdown",
   "metadata": {},
   "source": [
    "# Using the data in a pipeline stage: photo-z estimation example\n",
    "\n",
    "Now that we have our data in place, we can use it in a RAIL stage.  As an example, we'll estimate photo-z's for our data.  Let's train the `KNearNeighPDF` algorithm with our train_data, and then estimate photo-z's for the test_data.  We need to make the RAIL stages for each of these steps, first we need to train/inform our nearest neighbor algorithm with the train_data:"
   ]
  },
  {
   "cell_type": "code",
   "execution_count": null,
   "metadata": {},
   "outputs": [],
   "source": [
    "from rail.estimation.algos.knnpz import Inform_KNearNeighPDF, KNearNeighPDF"
   ]
  },
  {
   "cell_type": "code",
   "execution_count": null,
   "metadata": {},
   "outputs": [],
   "source": [
    "inform_knn = Inform_KNearNeighPDF.make_stage(name='inform_knn', input='train_data', \n",
    "                                            nondetect_val=99.0, model='knnpz.pkl',\n",
    "                                            hdf5_groupname='')\n"
   ]
  },
  {
   "cell_type": "code",
   "execution_count": null,
   "metadata": {},
   "outputs": [],
   "source": [
    "inform_knn.inform(train_data)"
   ]
  },
  {
   "cell_type": "markdown",
   "metadata": {},
   "source": [
    "Running the `inform` method on the training data has crated the \"knnpz.pkl\" file, which contains our trained tree, along with the `sigma` bandwidth parameter and the `numneigh` (number of neighbors to use in the PDF estimation).  In the future, you could skip the `inform` stage and simply load this pkl file directly into the estimation stage to save time.\n",
    "\n",
    "Now, let's stage and run the actual PDF estimation on the test data: NOTE: we have set hdf5_groupname to \"photometry\", as the original data does have all our our needed photometry in a single hdf5 group named \"photometry\"!"
   ]
  },
  {
   "cell_type": "code",
   "execution_count": null,
   "metadata": {},
   "outputs": [],
   "source": [
    "estimate_knn = KNearNeighPDF.make_stage(name='estimate_knn', hdf5_groupname='photometry', nondetect_val=99.0,\n",
    "                                        model='knnpz.pkl', output=\"KNNPZ_estimates.hdf5\")"
   ]
  },
  {
   "cell_type": "markdown",
   "metadata": {},
   "source": [
    "Note that we have specified the name of the output file here with the kwarg `output=\"KNNPZ_estimates.hdf5\"`  *if no output is specified* then the DataStore will construct its own name based on the name of the stage, and it will also default to a particular storage format, in the case of many of the estimator codes this is a FITS file titled \"output_[stage name].fits\".  "
   ]
  },
  {
   "cell_type": "code",
   "execution_count": null,
   "metadata": {},
   "outputs": [],
   "source": [
    "knn_estimated = estimate_knn.estimate(test_data)"
   ]
  },
  {
   "cell_type": "markdown",
   "metadata": {},
   "source": [
    "We have successfully estimated PDFs for the ~20,000 galaxies in the test file!  Note that the PDFs are in `qp` format!  Also note that they have been written to disk as \"KNNPZ_estimate.hdf5\"; however, they are also still available to us via the `knn_estimated` dataset in the datastore. Let's plot an example PDF from our data in the DataStore:"
   ]
  },
  {
   "cell_type": "markdown",
   "metadata": {},
   "source": [
    "We can do a quick plot to check our photo-z's. Our qp Ensemble can be called by `knn_estimated()` and is subsecuently stored in `knn_estimated.data`, and the Ensemble can calculate the mode of each PDF if we give it a grid of redshift values to check, which we can plot against our true redshifts from the test data:"
   ]
  },
  {
   "cell_type": "code",
   "execution_count": null,
   "metadata": {},
   "outputs": [],
   "source": [
    "pzmodes = knn_estimated().mode(grid=np.linspace(0,3,301)).flatten()\n",
    "true_zs = test_data()['photometry']['redshift']"
   ]
  },
  {
   "cell_type": "code",
   "execution_count": null,
   "metadata": {},
   "outputs": [],
   "source": [
    "plt.figure(figsize=(8,8))\n",
    "plt.scatter(true_zs, pzmodes, label='photoz mode for KNearNeigh',s=2)\n",
    "plt.xlabel(\"redshift\", fontsize=15)\n",
    "plt.ylabel(\"photoz mode\", fontsize=15)\n",
    "plt.legend(loc='upper center', fontsize=12)"
   ]
  },
  {
   "cell_type": "markdown",
   "metadata": {},
   "source": [
    "As an alternative, we can read the data from file and make the same plot to show that you don't need to use the DataStore, you can, instead, operate on the output files:"
   ]
  },
  {
   "cell_type": "code",
   "execution_count": null,
   "metadata": {},
   "outputs": [],
   "source": [
    "newens = qp.read(\"KNNPZ_estimates.hdf5\")\n",
    "newpzmodes = newens.mode(grid=np.linspace(0,3,301))"
   ]
  },
  {
   "cell_type": "code",
   "execution_count": null,
   "metadata": {},
   "outputs": [],
   "source": [
    "plt.figure(figsize=(8,8))\n",
    "plt.scatter(true_zs, newpzmodes, label='photoz mode for KNearNeigh',s=2)\n",
    "plt.xlabel(\"redshift\", fontsize=15)\n",
    "plt.ylabel(\"photoz mode\", fontsize=15)\n",
    "plt.legend(loc='upper center', fontsize=12)"
   ]
  },
  {
   "cell_type": "markdown",
   "metadata": {},
   "source": [
    "That's about it.  For more usages, including how to chain together multiple stages, feeding results one into the other with the DataStore names, see goldenspike.ipynb in the examples/goldenspike directory."
   ]
  },
  {
   "cell_type": "code",
   "execution_count": null,
   "metadata": {},
   "outputs": [],
   "source": []
  },
  {
   "cell_type": "code",
   "execution_count": null,
   "metadata": {},
   "outputs": [],
   "source": []
  }
 ],
 "metadata": {
  "kernelspec": {
   "display_name": "Python 3 (ipykernel)",
   "language": "python",
   "name": "python3"
  },
  "language_info": {
   "codemirror_mode": {
    "name": "ipython",
    "version": 3
   },
   "file_extension": ".py",
   "mimetype": "text/x-python",
   "name": "python",
   "nbconvert_exporter": "python",
   "pygments_lexer": "ipython3",
   "version": "3.10.10"
  }
 },
 "nbformat": 4,
 "nbformat_minor": 4
}
