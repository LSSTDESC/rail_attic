{
 "cells": [
  {
   "cell_type": "markdown",
   "id": "ec47ab0a",
   "metadata": {},
   "source": [
    "# Run_Pipe, example of running a rail pipeline\n",
    "\n",
    "author: Eric Charles\n",
    "last run successfully: April 26, 2023\n",
    "    \n",
    "This notbook shows how to:\n",
    "1. Load that pipeline from a saved yaml file\n",
    "4. Run the loaded pipeline"
   ]
  },
  {
   "cell_type": "code",
   "execution_count": null,
   "id": "a29a1b21",
   "metadata": {},
   "outputs": [],
   "source": [
    "import ceci"
   ]
  },
  {
   "cell_type": "code",
   "execution_count": null,
   "id": "2657aca0",
   "metadata": {},
   "outputs": [],
   "source": [
    "p = ceci.Pipeline.read('pipe_example.yml')"
   ]
  },
  {
   "cell_type": "code",
   "execution_count": null,
   "id": "38e445de",
   "metadata": {},
   "outputs": [],
   "source": [
    "p.run()"
   ]
  },
  {
   "cell_type": "markdown",
   "id": "cb8a7120",
   "metadata": {},
   "source": [
    "### Yep, that's it."
   ]
  },
  {
   "cell_type": "code",
   "execution_count": null,
   "id": "10da003b",
   "metadata": {},
   "outputs": [],
   "source": []
  }
 ],
 "metadata": {
  "kernelspec": {
   "display_name": "Python 3 (ipykernel)",
   "language": "python",
   "name": "python3"
  },
  "language_info": {
   "codemirror_mode": {
    "name": "ipython",
    "version": 3
   },
   "file_extension": ".py",
   "mimetype": "text/x-python",
   "name": "python",
   "nbconvert_exporter": "python",
   "pygments_lexer": "ipython3",
   "version": "3.10.10"
  }
 },
 "nbformat": 4,
 "nbformat_minor": 5
}
