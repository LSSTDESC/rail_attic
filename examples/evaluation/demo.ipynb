{
 "cells": [
  {
   "cell_type": "markdown",
   "metadata": {},
   "source": [
    "# Demo: RAIL Evaluation \n",
    "\n",
    "The purpose of this notebook is to demonstrate the application of the metrics scripts to be used on the photo-z PDF catalogs produced by the PZ working group. The first implementation of the _evaluation_ module is based on the refactoring of the code used in [Schmidt et al. 2020](https://arxiv.org/pdf/2001.03621.pdf), available on Github repository [PZDC1paper](https://github.com/LSSTDESC/PZDC1paper). \n",
    "\n",
    "To run this notebook, you must install qp and have the notebook in the same directory as `utils.py` (available in RAIL's examples directrory). You must also have installed all RAIL dependencies, particularly for the estimation codes that you want to run, as well as ceci, qp, tables_io, etc...  See the RAIL installation instructions for more info.\n",
    "\n",
    "### Contents\n",
    "\n",
    "* [Data](#data)\n",
    " - [Photo-z Results](#fzboost)\n",
    "* [CDF-based metrics](#metrics)\n",
    " - [PIT](#pit) \n",
    " - [QQ plot](#qq) \n",
    "* [Summary statistics of CDF-based metrics](#summary_stats)\n",
    "  - [KS](#ks) \n",
    "  - [CvM](#cvm) \n",
    "  - [AD](#ad) \n",
    "  - [KLD](#kld) \n",
    "* [CDE loss](#cde_loss)  "
   ]
  },
  {
   "cell_type": "code",
   "execution_count": 9,
   "metadata": {},
   "outputs": [],
   "source": [
    "import rail\n",
    "from rail.evaluation.metrics.pit import *\n",
    "from rail.evaluation.metrics.cdeloss import *\n",
    "from rail.evaluation.evaluator import Evaluator\n",
    "from rail.core.data import QPHandle, TableHandle\n",
    "from rail.core.stage import RailStage\n",
    "from utils import plot_pit_qq, ks_plot\n",
    "import qp \n",
    "import os\n",
    "%matplotlib inline\n",
    "%reload_ext autoreload\n",
    "%autoreload 2"
   ]
  },
  {
   "cell_type": "markdown",
   "metadata": {},
   "source": [
    "Let's set up the data store, for more information on the data store, see the golden spike example notebook in RAIL/examples/goldenspike/goldenspike.ipynb"
   ]
  },
  {
   "cell_type": "code",
   "execution_count": 10,
   "metadata": {},
   "outputs": [],
   "source": [
    "DS = RailStage.data_store\n",
    "DS.__class__.allow_overwrite = True"
   ]
  },
  {
   "cell_type": "markdown",
   "metadata": {},
   "source": [
    "<a class=\"anchor\" id=\"data\"></a>\n",
    "# Data  \n",
    "\n",
    "\n",
    "To compute the photo-z metrics of a given test sample, it is necessary to read the output of a photo-z code containing galaxies' photo-z PDFs. Let's use the toy data available in `tests/data/` (**test_dc2_training_9816.hdf5** and **test_dc2_validation_9816.hdf5**) to generate a small sample of photo-z PDFs using the **FZBoost** algorithm available on RAIL's _estimation_ module."
   ]
  },
  {
   "cell_type": "markdown",
   "metadata": {},
   "source": [
    "<a class=\"anchor\" id=\"fzboost\"></a>\n",
    "### Photo-z Results\n",
    "#### Run FZBoost\n",
    "\n",
    "Go to dir  `<your_path>/RAIL/examples/estimation/` and run the notebook `RAIL_estimation_demo.ipynb`, this will produce a file `output_fzboost.fits`\n",
    "\n",
    "writen at the location:<br> \n",
    "`<your_path>/RAIL/examples/estimation/output_fzboost.fits`. \n",
    "This will read in the FZBoost PDF results as a qp Ensemble.\n"
   ]
  },
  {
   "cell_type": "markdown",
   "metadata": {},
   "source": [
    "Next we need to set up some  paths for the Data Store:"
   ]
  },
  {
   "cell_type": "code",
   "execution_count": 11,
   "metadata": {},
   "outputs": [],
   "source": [
    "RAIL_DIR = os.path.join(os.path.dirname(rail.__file__), '..')\n",
    "pdfs_file =  os.path.join(RAIL_DIR, \"examples/estimation/output_fzboost.fits\")\n",
    "ztrue_file =  os.path.join(RAIL_DIR, \"tests/data/test_dc2_validation_9816.hdf5\")"
   ]
  },
  {
   "cell_type": "markdown",
   "metadata": {},
   "source": [
    "Read the data in, note that the fzdata is a `qp` Ensemble, and thus we should read it in as a `QPHandle` type file, while the ztrue_data is tabular data, and should be read in as a `Tablehandle` when adding to the data store"
   ]
  },
  {
   "cell_type": "code",
   "execution_count": 12,
   "metadata": {},
   "outputs": [],
   "source": [
    "fzdata = DS.read_file('pdfs_data', QPHandle, pdfs_file)\n",
    "ztrue_data = DS.read_file('ztrue_data', TableHandle, ztrue_file)"
   ]
  },
  {
   "cell_type": "code",
   "execution_count": 13,
   "metadata": {},
   "outputs": [],
   "source": [
    "ztrue = ztrue_data.data['photometry']['redshift']\n",
    "zgrid = fzdata.data.metadata()['xvals'].ravel()\n",
    "photoz_mode = fzdata.data.mode(grid=zgrid)"
   ]
  },
  {
   "cell_type": "code",
   "execution_count": 14,
   "metadata": {},
   "outputs": [],
   "source": [
    "truth = DS.add_data('truth', ztrue_data.data['photometry'], TableHandle)\n",
    "ensemble = DS.add_data('ensemble', fzdata, QPHandle)"
   ]
  },
  {
   "cell_type": "code",
   "execution_count": 15,
   "metadata": {},
   "outputs": [
    {
     "data": {
      "text/plain": [
       "dict_keys(['pdfs_data', 'ztrue_data', 'truth', 'ensemble'])"
      ]
     },
     "execution_count": 15,
     "metadata": {},
     "output_type": "execute_result"
    }
   ],
   "source": [
    "DS.keys()"
   ]
  },
  {
   "cell_type": "markdown",
   "metadata": {},
   "source": [
    "# Make an evaulator stage"
   ]
  },
  {
   "cell_type": "markdown",
   "metadata": {},
   "source": [
    "Now let's set up the Evaluator stage to compute our metrics for the FZBoost data"
   ]
  },
  {
   "cell_type": "code",
   "execution_count": 16,
   "metadata": {},
   "outputs": [],
   "source": [
    "FZB_eval = Evaluator.make_stage(name='FZB_eval', truth=truth)"
   ]
  },
  {
   "cell_type": "code",
   "execution_count": 17,
   "metadata": {},
   "outputs": [
    {
     "name": "stderr",
     "output_type": "stream",
     "text": [
      "/Users/echarles/software/vro/RAIL/rail/evaluation/metrics/pit.py:188: UserWarning: p-value floored: true value smaller than 0.001\n",
      "  ad_results = stats.anderson_ksamp([pits_clean, uniform_yvals])\n"
     ]
    },
    {
     "name": "stdout",
     "output_type": "stream",
     "text": [
      "Inserting handle into data store.  output_FZB_eval: inprogress_output_FZB_eval.hdf5, FZB_eval\n",
      "Warning.  Failed to convert column 'list' object has no attribute 'dtype'\n",
      "Warning.  Failed to convert column 'list' object has no attribute 'dtype'\n",
      "Warning.  Failed to convert column 'list' object has no attribute 'dtype'\n",
      "Warning.  Failed to convert column 'list' object has no attribute 'dtype'\n",
      "Warning.  Failed to convert column 'list' object has no attribute 'dtype'\n",
      "Warning.  Failed to convert column 'list' object has no attribute 'dtype'\n",
      "Warning.  Failed to convert column 'list' object has no attribute 'dtype'\n",
      "Warning.  Failed to convert column 'list' object has no attribute 'dtype'\n",
      "Warning.  Failed to convert column 'list' object has no attribute 'dtype'\n",
      "Warning.  Failed to convert column 'list' object has no attribute 'dtype'\n",
      "Warning.  Failed to convert column 'list' object has no attribute 'dtype'\n"
     ]
    }
   ],
   "source": [
    "FZB_results = FZB_eval.evaluate(ensemble.data, truth)"
   ]
  },
  {
   "cell_type": "markdown",
   "metadata": {},
   "source": [
    "We can view the results as a pandas dataframe:"
   ]
  },
  {
   "cell_type": "code",
   "execution_count": 18,
   "metadata": {},
   "outputs": [
    {
     "data": {
      "text/html": [
       "<div>\n",
       "<style scoped>\n",
       "    .dataframe tbody tr th:only-of-type {\n",
       "        vertical-align: middle;\n",
       "    }\n",
       "\n",
       "    .dataframe tbody tr th {\n",
       "        vertical-align: top;\n",
       "    }\n",
       "\n",
       "    .dataframe thead th {\n",
       "        text-align: right;\n",
       "    }\n",
       "</style>\n",
       "<table border=\"1\" class=\"dataframe\">\n",
       "  <thead>\n",
       "    <tr style=\"text-align: right;\">\n",
       "      <th></th>\n",
       "      <th>PIT_KS_stat</th>\n",
       "      <th>PIT_KS_pval</th>\n",
       "      <th>PIT_CvM_stat</th>\n",
       "      <th>PIT_CvM_pval</th>\n",
       "      <th>PIT_OutRate</th>\n",
       "      <th>POINT_SimgaIQR</th>\n",
       "      <th>POINT_Bias</th>\n",
       "      <th>POINT_OutlierRate</th>\n",
       "      <th>POINT_SigmaMAD</th>\n",
       "      <th>CDE_stat</th>\n",
       "      <th>CDE_pval</th>\n",
       "    </tr>\n",
       "  </thead>\n",
       "  <tbody>\n",
       "    <tr>\n",
       "      <th>0</th>\n",
       "      <td>0.042509</td>\n",
       "      <td>1.512931e-32</td>\n",
       "      <td>8.40511</td>\n",
       "      <td>6.998502e-11</td>\n",
       "      <td>0.061404</td>\n",
       "      <td>0.020893</td>\n",
       "      <td>0.000068</td>\n",
       "      <td>0.108856</td>\n",
       "      <td>0.020883</td>\n",
       "      <td>-6.698394</td>\n",
       "      <td>NaN</td>\n",
       "    </tr>\n",
       "  </tbody>\n",
       "</table>\n",
       "</div>"
      ],
      "text/plain": [
       "   PIT_KS_stat   PIT_KS_pval  PIT_CvM_stat  PIT_CvM_pval  PIT_OutRate  \\\n",
       "0     0.042509  1.512931e-32       8.40511  6.998502e-11     0.061404   \n",
       "\n",
       "   POINT_SimgaIQR  POINT_Bias  POINT_OutlierRate  POINT_SigmaMAD  CDE_stat  \\\n",
       "0        0.020893    0.000068           0.108856        0.020883 -6.698394   \n",
       "\n",
       "   CDE_pval  \n",
       "0       NaN  "
      ]
     },
     "execution_count": 18,
     "metadata": {},
     "output_type": "execute_result"
    }
   ],
   "source": [
    "import tables_io\n",
    "results_df= tables_io.convertObj(FZB_results.data, tables_io.types.PD_DATAFRAME)\n",
    "results_df"
   ]
  },
  {
   "cell_type": "markdown",
   "metadata": {},
   "source": [
    "So, there we have it, a way to generate all of our summary statistics for FZBoost. And note also that the results file has been written out to `output_FZB_eval.hdf5`, the name we specified when we ran `make_stage` (with output_ prepended).<br>\n",
    "\n",
    "As an alternative, and to allow for a little more explanation for each individual metric, we can calculate the metrics using functions from the evaluation class separate from the stage infrastructure.  Here are some examples below."
   ]
  },
  {
   "cell_type": "markdown",
   "metadata": {},
   "source": [
    "*** \n",
    "<a class=\"anchor\" id=\"metrics\"></a>\n",
    "# Metrics\n",
    "\n"
   ]
  },
  {
   "cell_type": "markdown",
   "metadata": {},
   "source": [
    "<a class=\"anchor\" id=\"pit\"></a>\n",
    "## PIT\n",
    "\n",
    "The Probability Integral Transform (PIT), is the Cumulative Distribution Function (CDF) of the photo-z PDF \n",
    "\n",
    "$$ \\mathrm{CDF}(f, q)\\ =\\ \\int_{-\\infty}^{q}\\ f(z)\\ dz $$\n",
    "\n",
    "evaluated at the galaxy's true redshift for every galaxy $i$ in the catalog.\n",
    "\n",
    "$$ \\mathrm{PIT}(p_{i}(z);\\ z_{i})\\ =\\ \\int_{-\\infty}^{z^{true}_{i}}\\ p_{i}(z)\\ dz $$ \n"
   ]
  },
  {
   "cell_type": "code",
   "execution_count": 19,
   "metadata": {},
   "outputs": [
    {
     "name": "stderr",
     "output_type": "stream",
     "text": [
      "/Users/echarles/software/vro/RAIL/rail/evaluation/metrics/pit.py:188: UserWarning: p-value floored: true value smaller than 0.001\n",
      "  ad_results = stats.anderson_ksamp([pits_clean, uniform_yvals])\n"
     ]
    }
   ],
   "source": [
    "pitobj = PIT(fzdata.data, ztrue)\n",
    "quant_ens, metamets = pitobj.evaluate()"
   ]
  },
  {
   "cell_type": "markdown",
   "metadata": {},
   "source": [
    "The _evaluate_ method PIT class returns two objects, a quantile distribution based on the full set of PIT values (a frozen distribution object), and a dictionary of meta metrics associated to PIT (to be detailed below). "
   ]
  },
  {
   "cell_type": "code",
   "execution_count": 20,
   "metadata": {},
   "outputs": [
    {
     "data": {
      "text/plain": [
       "<qp.ensemble.Ensemble at 0x7fd103682be0>"
      ]
     },
     "execution_count": 20,
     "metadata": {},
     "output_type": "execute_result"
    }
   ],
   "source": [
    "quant_ens"
   ]
  },
  {
   "cell_type": "code",
   "execution_count": 21,
   "metadata": {},
   "outputs": [
    {
     "data": {
      "text/plain": [
       "{(rail.evaluation.metrics.pit.PITOutRate, 'default'): 0.061403879955140045,\n",
       " (rail.evaluation.metrics.pit.PITAD,\n",
       "  'default'): stat_crit_sig(statistic=103.1364249925523, critical_values=array([0.325, 1.226, 1.961, 2.718, 3.752, 4.592, 6.546]), significance_level=0.001)}"
      ]
     },
     "execution_count": 21,
     "metadata": {},
     "output_type": "execute_result"
    }
   ],
   "source": [
    "metamets"
   ]
  },
  {
   "cell_type": "markdown",
   "metadata": {},
   "source": [
    "PIT values"
   ]
  },
  {
   "cell_type": "code",
   "execution_count": 22,
   "metadata": {},
   "outputs": [
    {
     "data": {
      "text/plain": [
       "array([0.0886598 , 0.3307324 , 0.44348546, ..., 1.        , 0.81210334,\n",
       "       0.5283682 ])"
      ]
     },
     "execution_count": 22,
     "metadata": {},
     "output_type": "execute_result"
    }
   ],
   "source": [
    "pit_vals = np.array(pitobj._pit_samps)\n",
    "pit_vals"
   ]
  },
  {
   "cell_type": "markdown",
   "metadata": {},
   "source": [
    "### PIT outlier rate\n",
    "\n",
    "The PIT outlier rate is a global metric defined as the fraction of galaxies in the sample with extreme PIT values. The lower and upper limits for considering a PIT as outlier are optional parameters set at the Metrics instantiation (default values are: PIT $<10^{-4}$ or PIT $>0.9999$). "
   ]
  },
  {
   "cell_type": "code",
   "execution_count": 23,
   "metadata": {},
   "outputs": [
    {
     "name": "stdout",
     "output_type": "stream",
     "text": [
      "PIT outlier rate of this sample: 0.061404\n"
     ]
    }
   ],
   "source": [
    "pit_out_rate = PITOutRate(pit_vals, quant_ens).evaluate()\n",
    "print(f\"PIT outlier rate of this sample: {pit_out_rate:.6f}\") "
   ]
  },
  {
   "cell_type": "markdown",
   "metadata": {},
   "source": [
    "<a class=\"anchor\" id=\"qq\"></a>\n",
    "## PIT-QQ plot"
   ]
  },
  {
   "cell_type": "markdown",
   "metadata": {},
   "source": [
    "The histogram of PIT values is a useful tool for a qualitative assessment of PDFs quality. It shows whether the PDFs are:\n",
    "* biased (tilted PIT histogram)\n",
    "* under-dispersed (excess counts close to the boudaries 0 and 1)\n",
    "* over-dispersed (lack of counts close the boudaries 0 and 1)\n",
    "* well-calibrated (flat histogram)\n",
    "\n",
    "Following the standards in DC1 paper, the PIT histogram is accompanied by the quantile-quantile (QQ), which can be used to compare qualitatively the PIT distribution obtained with the PDFs agaist the ideal case (uniform distribution). The closer the QQ plot is to the diagonal, the better is the PDFs calibration. "
   ]
  },
  {
   "cell_type": "code",
   "execution_count": 24,
   "metadata": {},
   "outputs": [
    {
     "name": "stderr",
     "output_type": "stream",
     "text": [
      "/Users/echarles/software/vro/RAIL/rail/evaluation/metrics/pit.py:188: UserWarning: p-value floored: true value smaller than 0.001\n",
      "  ad_results = stats.anderson_ksamp([pits_clean, uniform_yvals])\n"
     ]
    },
    {
     "data": {
      "image/png": "[encoded data removed]",
      "text/plain": [
       "<Figure size 288x360 with 3 Axes>"
      ]
     },
     "metadata": {
      "needs_background": "light"
     },
     "output_type": "display_data"
    }
   ],
   "source": [
    "pdfs = fzdata.data.objdata()['yvals']\n",
    "plot_pit_qq(pdfs, zgrid, ztrue, title=\"PIT-QQ - toy data\", code=\"FZBoost\",\n",
    "                pit_out_rate=pit_out_rate, savefig=False)"
   ]
  },
  {
   "cell_type": "markdown",
   "metadata": {},
   "source": [
    "The black horizontal line represents the ideal case where the PIT histogram would behave as a uniform distribution U(0,1). \n",
    "***"
   ]
  },
  {
   "cell_type": "markdown",
   "metadata": {},
   "source": [
    "<a class=\"anchor\" id=\"summary_stats\"></a>\n",
    "# Summary statistics of CDF-based metrics\n",
    "\n",
    "To evaluate globally the quality of PDFs estimates, `rail.evaluation` provides a set of metrics to compare the empirical distributions of PIT values with the reference uniform distribution, U(0,1). "
   ]
  },
  {
   "cell_type": "markdown",
   "metadata": {},
   "source": [
    "<a class=\"anchor\" id=\"ks\"></a>\n",
    "### Kolmogorov-Smirnov  \n",
    "\n",
    "Let's start with the traditional Kolmogorov-Smirnov (KS) statistic test, which is the maximum difference between the empirical and the expected cumulative distributions of PIT values:\n",
    "\n",
    "$$\n",
    "\\mathrm{KS} \\equiv \\max_{PIT} \\Big( \\left| \\ \\mathrm{CDF} \\small[ \\hat{f}, z \\small] - \\mathrm{CDF} \\small[ \\tilde{f}, z \\small] \\  \\right| \\Big)\n",
    "$$\n",
    "\n",
    "Where $\\hat{f}$ is the PIT distribution and $\\tilde{f}$ is U(0,1). Therefore, the smaller value of KS the closer the PIT distribution is to be uniform. The `evaluate` method of the PITKS class returns a named tuple with the statistic and p-value. "
   ]
  },
  {
   "cell_type": "code",
   "execution_count": 25,
   "metadata": {},
   "outputs": [],
   "source": [
    "ksobj = PITKS(pit_vals, quant_ens)\n",
    "ks_stat_and_pval = ksobj.evaluate()"
   ]
  },
  {
   "cell_type": "code",
   "execution_count": 26,
   "metadata": {},
   "outputs": [
    {
     "data": {
      "text/plain": [
       "stat_and_pval(statistic=0.042509362580575916, p_value=1.5129305435652397e-32)"
      ]
     },
     "execution_count": 26,
     "metadata": {},
     "output_type": "execute_result"
    }
   ],
   "source": [
    "ks_stat_and_pval"
   ]
  },
  {
   "cell_type": "markdown",
   "metadata": {},
   "source": [
    "Visual interpretation of the KS statistic:"
   ]
  },
  {
   "cell_type": "code",
   "execution_count": 27,
   "metadata": {},
   "outputs": [
    {
     "name": "stderr",
     "output_type": "stream",
     "text": [
      "/Users/echarles/software/vro/RAIL/rail/evaluation/metrics/pit.py:188: UserWarning: p-value floored: true value smaller than 0.001\n",
      "  ad_results = stats.anderson_ksamp([pits_clean, uniform_yvals])\n"
     ]
    },
    {
     "data": {
      "image/png": "[encoded data removed]",
      "text/plain": [
       "<Figure size 288x288 with 1 Axes>"
      ]
     },
     "metadata": {
      "needs_background": "light"
     },
     "output_type": "display_data"
    }
   ],
   "source": [
    "ks_plot(pitobj)"
   ]
  },
  {
   "cell_type": "code",
   "execution_count": 28,
   "metadata": {},
   "outputs": [
    {
     "name": "stdout",
     "output_type": "stream",
     "text": [
      "KS metric of this sample: 0.0425\n"
     ]
    }
   ],
   "source": [
    "print(f\"KS metric of this sample: {ks_stat_and_pval.statistic:.4f}\") "
   ]
  },
  {
   "cell_type": "markdown",
   "metadata": {},
   "source": [
    "<a class=\"anchor\" id=\"cvm\"></a>\n",
    "### Cramer-von Mises\n",
    "\n",
    "Similarly, let's calculate the Cramer-von Mises (CvM) test, a variant of the KS statistic defined as the mean-square difference between the CDFs of an empirical PDF and the true PDFs:\n",
    "\n",
    "$$ \\mathrm{CvM}^2 \\equiv \\int_{-\\infty}^{\\infty} \\Big( \\mathrm{CDF} \\small[ \\hat{f}, z \\small] \\ - \\ \\mathrm{CDF} \\small[ \\tilde{f}, z \\small] \\Big)^{2} \\mathrm{dCDF}(\\tilde{f}, z) $$ \n",
    "\n",
    "\n",
    "on the distribution of PIT values, which should be uniform if the PDFs are perfect."
   ]
  },
  {
   "cell_type": "code",
   "execution_count": 29,
   "metadata": {},
   "outputs": [],
   "source": [
    "cvmobj = PITCvM(pit_vals, quant_ens)\n",
    "cvm_stat_and_pval = cvmobj.evaluate()"
   ]
  },
  {
   "cell_type": "code",
   "execution_count": 30,
   "metadata": {},
   "outputs": [
    {
     "name": "stdout",
     "output_type": "stream",
     "text": [
      "CvM metric of this sample: 8.4051\n"
     ]
    }
   ],
   "source": [
    "print(f\"CvM metric of this sample: {cvm_stat_and_pval.statistic:.4f}\") "
   ]
  },
  {
   "cell_type": "markdown",
   "metadata": {},
   "source": [
    "<a class=\"anchor\" id=\"ad\"></a>\n",
    "### Anderson-Darling \n",
    "\n",
    "Another variation of the KS statistic is the Anderson-Darling (AD) test, a weighted mean-squared difference featuring enhanced sensitivity to discrepancies in the tails of the distribution. \n",
    "\n",
    "$$ \\mathrm{AD}^2 \\equiv N_{tot} \\int_{-\\infty}^{\\infty} \\frac{\\big( \\mathrm{CDF} \\small[ \\hat{f}, z \\small] \\ - \\ \\mathrm{CDF} \\small[ \\tilde{f}, z \\small] \\big)^{2}}{\\mathrm{CDF} \\small[ \\tilde{f}, z \\small] \\big( 1 \\ - \\ \\mathrm{CDF} \\small[ \\tilde{f}, z \\small] \\big)}\\mathrm{dCDF}(\\tilde{f}, z) $$ \n",
    "\n"
   ]
  },
  {
   "cell_type": "code",
   "execution_count": 31,
   "metadata": {},
   "outputs": [
    {
     "name": "stderr",
     "output_type": "stream",
     "text": [
      "/Users/echarles/software/vro/RAIL/rail/evaluation/metrics/pit.py:188: UserWarning: p-value floored: true value smaller than 0.001\n",
      "  ad_results = stats.anderson_ksamp([pits_clean, uniform_yvals])\n"
     ]
    },
    {
     "data": {
      "text/plain": [
       "stat_crit_sig(statistic=103.1364249925523, critical_values=array([0.325, 1.226, 1.961, 2.718, 3.752, 4.592, 6.546]), significance_level=0.001)"
      ]
     },
     "execution_count": 31,
     "metadata": {},
     "output_type": "execute_result"
    }
   ],
   "source": [
    "adobj = PITAD(pit_vals, quant_ens)\n",
    "ad_stat_crit_sig = adobj.evaluate()\n",
    "ad_stat_crit_sig"
   ]
  },
  {
   "cell_type": "code",
   "execution_count": 32,
   "metadata": {},
   "outputs": [
    {
     "data": {
      "text/plain": [
       "stat_crit_sig(statistic=103.1364249925523, critical_values=array([0.325, 1.226, 1.961, 2.718, 3.752, 4.592, 6.546]), significance_level=0.001)"
      ]
     },
     "execution_count": 32,
     "metadata": {},
     "output_type": "execute_result"
    }
   ],
   "source": [
    "ad_stat_crit_sig"
   ]
  },
  {
   "cell_type": "code",
   "execution_count": 33,
   "metadata": {},
   "outputs": [
    {
     "name": "stdout",
     "output_type": "stream",
     "text": [
      "AD metric of this sample: 103.1364\n"
     ]
    }
   ],
   "source": [
    "print(f\"AD metric of this sample: {ad_stat_crit_sig.statistic:.4f}\") "
   ]
  },
  {
   "cell_type": "markdown",
   "metadata": {},
   "source": [
    "It is possible to remove catastrophic outliers before calculating the integral for the sake of preserving numerical instability. For instance, Schmidt et al. computed the Anderson-Darling statistic within the interval (0.01, 0.99)."
   ]
  },
  {
   "cell_type": "code",
   "execution_count": 34,
   "metadata": {},
   "outputs": [
    {
     "name": "stdout",
     "output_type": "stream",
     "text": [
      "2062 PITs removed from the sample.\n",
      "AD metric of this sample: 103.1364\n",
      "AD metric for 0.01 < PIT < 0.99: 81.3491\n"
     ]
    }
   ],
   "source": [
    "ad_stat_crit_sig_cut = adobj.evaluate(pit_min=0.01, pit_max=0.99)\n",
    "print(f\"AD metric of this sample: {ad_stat_crit_sig.statistic:.4f}\") \n",
    "print(f\"AD metric for 0.01 < PIT < 0.99: {ad_stat_crit_sig_cut.statistic:.4f}\") "
   ]
  },
  {
   "cell_type": "markdown",
   "metadata": {},
   "source": [
    "<a class=\"anchor\" id=\"cde_loss\"></a>\n",
    "# CDE Loss\n",
    "\n",
    "\n",
    "\n",
    "In the absence of true photo-z posteriors, the metric used to evaluate individual PDFs is the **Conditional Density Estimate (CDE) Loss**, a metric analogue to the root-mean-squared-error:\n",
    "\n",
    "$$ L(f, \\hat{f}) \\equiv  \\int \\int {\\big(f(z | x) - \\hat{f}(z | x) \\big)}^{2} dzdP(x), $$ \n",
    "\n",
    "where $f(z | x)$ is the true photo-z PDF and $\\hat{f}(z | x)$ is the estimated PDF in terms of the photometry $x$. Since $f(z | x)$  is unknown, we estimate the **CDE Loss** as described in [Izbicki & Lee, 2017 (arXiv:1704.08095)](https://arxiv.org/abs/1704.08095). :\n",
    "\n",
    "$$ \\mathrm{CDE} = \\mathbb{E}\\big(  \\int{{\\hat{f}(z | X)}^2 dz} \\big) - 2{\\mathbb{E}}_{X, Z}\\big(\\hat{f}(Z, X) \\big) + K_{f},  $$\n",
    "\n",
    "\n",
    "where the first term is the expectation value of photo-z posterior with respect to the marginal distribution of the covariates X, and the second term is the expectation value  with respect to the joint distribution of observables X and the space Z of all possible redshifts (in practice, the centroids of the PDF bins), and the third term is a constant depending on the true conditional densities $f(z | x)$. "
   ]
  },
  {
   "cell_type": "code",
   "execution_count": 35,
   "metadata": {},
   "outputs": [],
   "source": [
    "cdelossobj = CDELoss(fzdata.data, zgrid, ztrue)"
   ]
  },
  {
   "cell_type": "code",
   "execution_count": 36,
   "metadata": {},
   "outputs": [
    {
     "data": {
      "text/plain": [
       "stat_and_pval(statistic=-6.680898910510939, p_value=nan)"
      ]
     },
     "execution_count": 36,
     "metadata": {},
     "output_type": "execute_result"
    }
   ],
   "source": [
    "cde_stat_and_pval = cdelossobj.evaluate()\n",
    "cde_stat_and_pval"
   ]
  },
  {
   "cell_type": "code",
   "execution_count": 37,
   "metadata": {},
   "outputs": [
    {
     "name": "stdout",
     "output_type": "stream",
     "text": [
      "CDE loss of this sample: -6.68\n"
     ]
    }
   ],
   "source": [
    "print(f\"CDE loss of this sample: {cde_stat_and_pval.statistic:.2f}\") "
   ]
  },
  {
   "cell_type": "markdown",
   "metadata": {},
   "source": [
    "We note that all of the quantities as run individually are identical to the quantities in our summary table, a nice check that things have run properly"
   ]
  },
  {
   "cell_type": "code",
   "execution_count": null,
   "metadata": {},
   "outputs": [],
   "source": []
  }
 ],
 "metadata": {
  "kernelspec": {
   "display_name": "Python 3 (ipykernel)",
   "language": "python",
   "name": "python3"
  },
  "language_info": {
   "codemirror_mode": {
    "name": "ipython",
    "version": 3
   },
   "file_extension": ".py",
   "mimetype": "text/x-python",
   "name": "python",
   "nbconvert_exporter": "python",
   "pygments_lexer": "ipython3",
   "version": "3.8.12"
  }
 },
 "nbformat": 4,
 "nbformat_minor": 4
}
