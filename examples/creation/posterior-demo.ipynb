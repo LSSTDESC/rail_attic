{
 "cells": [
  {
   "cell_type": "markdown",
   "metadata": {},
   "source": [
    "# Using a Creator to Calculate True Posteriors for a Galaxy Sample\n",
    "\n",
    "This notebook demonstrates how to use a RAIL Creator to calculate true posteriors for galaxy samples drawn from the same Creator. Note that this notebook assumes you have already read through `degradation-demo.ipynb`.\n",
    "\n",
    "Calculating posteriors is more complicated than drawing samples, because it requires more knowledge of the engine that underlies the Creator. In this example, we will use the same engine we used in Degradation demo: `FlowEngine` which wraps a normalizing flow from the [pzflow](https://github.com/jfcrenshaw/pzflow) package.\n",
    "\n",
    "This notebook will cover three scenarios of increasing complexity:\n",
    "1. [**Calculating posteriors without errors**](#NoErrors)\n",
    "2. [**Calculating posteriors while convolving errors**](#ErrConv)\n",
    "3. [**Calculating posteriors with missing bands**](#MissingBands)"
   ]
  },
  {
   "cell_type": "code",
   "execution_count": 1,
   "metadata": {},
   "outputs": [
    {
     "name": "stdout",
     "output_type": "stream",
     "text": [
      "Found classifier FZBoost\n",
      "Found classifier randomPZ\n",
      "Found classifier simpleNN\n",
      "Found classifier trainZ\n",
      "Found classifier BPZ_lite\n"
     ]
    }
   ],
   "source": [
    "from pzflow.examples import get_example_flow\n",
    "from rail.creation import Creator, engines\n",
    "from rail.creation.degradation import LSSTErrorModel, InvRedshiftIncompleteness, LineConfusion, BandCut\n",
    "import matplotlib.pyplot as plt\n",
    "import numpy as np\n",
    "import pandas as pd"
   ]
  },
  {
   "cell_type": "markdown",
   "metadata": {},
   "source": [
    "# NOTE\n",
    "\n",
    "This notebook is currently a mess. I decided not to plot the same galaxies for all, because I want to include a 99 band cut to show how to cut those galaxies out if you want. However, at the end, I can make a plot showing true, err conv, err conv w/ band missing as a demo.\n",
    "\n",
    "Need to walk through this stuff again and make sure it all works. I think I stopped working half way through an edit!"
   ]
  },
  {
   "cell_type": "markdown",
   "metadata": {},
   "source": [
    "<a id=\"NoErrors\"></a>\n",
    "## 1. Calculating posteriors without errors\n",
    "\n",
    "For a basic first example, let's make a Creator with no degradation and draw a sample."
   ]
  },
  {
   "cell_type": "code",
   "execution_count": 2,
   "metadata": {},
   "outputs": [],
   "source": [
    "# create the FlowEngine\n",
    "flowEngine = engines.FlowEngine(get_example_flow())\n",
    "# create the Creator for the true distribution\n",
    "creator_truth = Creator(flowEngine)\n",
    "# draw a few samples\n",
    "samples_truth = creator_truth.sample(6, seed=1)"
   ]
  },
  {
   "cell_type": "markdown",
   "metadata": {},
   "source": [
    "Now, let's calculate true posteriors for this sample. Note the important fact here: these are literally the true posteriors for the sample because pzflow gives us direct access to the probability distribution from which the sample was drawn!\n",
    "\n",
    "When calculating posteriors, the Creator will always require `data`, which is a pandas DataFrame of the galaxies for which we are calculating posteriors. Creator also requires `column` which is the name of the variable for which we are calculating posteriors. (Normally in RAIL we are calculating redshift posteriors, but you can use the Creator to calculate posteriors for the photometry as well if you wish)\n",
    "\n",
    "`data` and `column` are required for posterior calculation, no matter the engine that underlies the Creator. However, because we are using `FlowEngine`, and because `FlowEngine` calculates posteriors over a grid, we must also provide `grid`.\n",
    "\n",
    "Let's calculate posteriors for every galaxy in our sample:"
   ]
  },
  {
   "cell_type": "code",
   "execution_count": 27,
   "metadata": {},
   "outputs": [],
   "source": [
    "grid = np.linspace(0, 2.5, 100)\n",
    "pdfs = creator_truth.get_posterior(samples_truth, \"redshift\", grid=grid)"
   ]
  },
  {
   "cell_type": "markdown",
   "metadata": {},
   "source": [
    "Note that Creator returns the pdfs as a [qp](https://github.com/LSSTDESC/qp) Ensemble:"
   ]
  },
  {
   "cell_type": "code",
   "execution_count": 28,
   "metadata": {},
   "outputs": [
    {
     "data": {
      "text/plain": [
       "<qp.ensemble.Ensemble at 0x7fe711cbdc10>"
      ]
     },
     "execution_count": 28,
     "metadata": {},
     "output_type": "execute_result"
    }
   ],
   "source": [
    "pdfs"
   ]
  },
  {
   "cell_type": "markdown",
   "metadata": {},
   "source": [
    "Let's plot these pdfs: "
   ]
  },
  {
   "cell_type": "code",
   "execution_count": 29,
   "metadata": {},
   "outputs": [
    {
     "data": {
      "image/png": "[encoded data removed]",
      "text/plain": [
       "<Figure size 720x480 with 6 Axes>"
      ]
     },
     "metadata": {
      "needs_background": "light"
     },
     "output_type": "display_data"
    }
   ],
   "source": [
    "fig, axes = plt.subplots(2, 3, constrained_layout=True, dpi=120)\n",
    "\n",
    "for i, ax in enumerate(axes.flatten()):\n",
    "\n",
    "    # plot the pdf\n",
    "    pdfs[i].plot_native(axes=ax)\n",
    "\n",
    "    # plot the true redshift\n",
    "    ax.axvline(samples_truth[\"redshift\"][i], c=\"C3\", ls=\"--\")\n",
    "\n",
    "    # remove x-ticks on top row\n",
    "    if i < 3:\n",
    "        ax.set(xticks=[])\n",
    "    # set x-label on bottom row\n",
    "    else:\n",
    "        ax.set(xlabel=\"redshift\")\n",
    "    # set y-label on far left column\n",
    "    if i % 3 == 0:\n",
    "        ax.set(ylabel=\"p(z)\")"
   ]
  },
  {
   "cell_type": "markdown",
   "metadata": {},
   "source": [
    "<a id=\"ErrConv\"></a>\n",
    "## 2. Calculating posteriors while convolving errors\n",
    "Now, let's get a little more sophisticated.\n",
    "\n",
    "Let's recreate the Creator we were using at the end of the Degradation demo. \n",
    "\n",
    "I will make one change however:\n",
    "the LSST Error Model sometimes results in non-detections for faint galaxies.\n",
    "These non-detections are flagged with the value 99.\n",
    "Calculating posteriors for galaxies with missing magnitudes is more complicated, so for now, I will add one additional BandCut to remove any galaxies with missing magnitudes.\n",
    "To see how to calculate posteriors for galaxies with missing magnitudes, see [Section 3](#MissingBands)."
   ]
  },
  {
   "cell_type": "code",
   "execution_count": 7,
   "metadata": {},
   "outputs": [],
   "source": [
    "# set up the error model\n",
    "errorModel = LSSTErrorModel(bandNames={f\"lsst_{b}\": b for b in \"ugrizy\"})\n",
    "\n",
    "def degrader_cut_nondetects(data: pd.DataFrame, seed: int = None) -> pd.DataFrame:\n",
    "    # apply the error model\n",
    "    data = errorModel(data, seed)\n",
    "\n",
    "    # make a cut on the observed i band\n",
    "    data = BandCut({\"i\": 25.3})(data, seed)\n",
    "\n",
    "    # introduce redshift incompleteness\n",
    "    data = InvRedshiftIncompleteness(0.8)(data, seed)\n",
    "\n",
    "    # introduce spectroscopic errors\n",
    "    # Oxygen lines (in angstroms)\n",
    "    OII = 3727\n",
    "    OIII = 5007\n",
    "    # 2% OII -> OIII confusion\n",
    "    data = LineConfusion(true_wavelen=OII, wrong_wavelen=OIII, frac_wrong=0.02)(data, seed)\n",
    "    # 1% OIII -> OII confusion\n",
    "    data = LineConfusion(true_wavelen=OIII, wrong_wavelen=OII, frac_wrong=0.01)(data, seed)\n",
    "\n",
    "    # remove all galaxies with missing magnitudes\n",
    "    data = BandCut({band: 99 for band in \"ugrizy\"})(data, seed)\n",
    "\n",
    "    return data"
   ]
  },
  {
   "cell_type": "code",
   "execution_count": 8,
   "metadata": {},
   "outputs": [],
   "source": [
    "creator_degraded = Creator(flowEngine, degrader=degrader_cut_nondetects)"
   ]
  },
  {
   "cell_type": "markdown",
   "metadata": {},
   "source": [
    "Now let's draw a degraded sample:"
   ]
  },
  {
   "cell_type": "code",
   "execution_count": 9,
   "metadata": {},
   "outputs": [
    {
     "data": {
      "text/html": [
       "<div>\n",
       "<style scoped>\n",
       "    .dataframe tbody tr th:only-of-type {\n",
       "        vertical-align: middle;\n",
       "    }\n",
       "\n",
       "    .dataframe tbody tr th {\n",
       "        vertical-align: top;\n",
       "    }\n",
       "\n",
       "    .dataframe thead th {\n",
       "        text-align: right;\n",
       "    }\n",
       "</style>\n",
       "<table border=\"1\" class=\"dataframe\">\n",
       "  <thead>\n",
       "    <tr style=\"text-align: right;\">\n",
       "      <th></th>\n",
       "      <th>redshift</th>\n",
       "      <th>u</th>\n",
       "      <th>u_err</th>\n",
       "      <th>g</th>\n",
       "      <th>g_err</th>\n",
       "      <th>r</th>\n",
       "      <th>r_err</th>\n",
       "      <th>i</th>\n",
       "      <th>i_err</th>\n",
       "      <th>z</th>\n",
       "      <th>z_err</th>\n",
       "      <th>y</th>\n",
       "      <th>y_err</th>\n",
       "    </tr>\n",
       "  </thead>\n",
       "  <tbody>\n",
       "    <tr>\n",
       "      <th>0</th>\n",
       "      <td>1.272837</td>\n",
       "      <td>25.929161</td>\n",
       "      <td>0.181109</td>\n",
       "      <td>25.286169</td>\n",
       "      <td>0.032071</td>\n",
       "      <td>24.510694</td>\n",
       "      <td>0.016107</td>\n",
       "      <td>23.880899</td>\n",
       "      <td>0.013863</td>\n",
       "      <td>23.332024</td>\n",
       "      <td>0.014915</td>\n",
       "      <td>22.796236</td>\n",
       "      <td>0.020717</td>\n",
       "    </tr>\n",
       "    <tr>\n",
       "      <th>1</th>\n",
       "      <td>0.766616</td>\n",
       "      <td>25.588285</td>\n",
       "      <td>0.132537</td>\n",
       "      <td>25.285575</td>\n",
       "      <td>0.032054</td>\n",
       "      <td>24.822778</td>\n",
       "      <td>0.020953</td>\n",
       "      <td>24.041698</td>\n",
       "      <td>0.015778</td>\n",
       "      <td>23.766106</td>\n",
       "      <td>0.021453</td>\n",
       "      <td>23.770953</td>\n",
       "      <td>0.049304</td>\n",
       "    </tr>\n",
       "    <tr>\n",
       "      <th>2</th>\n",
       "      <td>0.578591</td>\n",
       "      <td>26.644203</td>\n",
       "      <td>0.349175</td>\n",
       "      <td>26.350709</td>\n",
       "      <td>0.084127</td>\n",
       "      <td>25.633463</td>\n",
       "      <td>0.043019</td>\n",
       "      <td>25.210058</td>\n",
       "      <td>0.043822</td>\n",
       "      <td>25.092259</td>\n",
       "      <td>0.070466</td>\n",
       "      <td>25.185758</td>\n",
       "      <td>0.180068</td>\n",
       "    </tr>\n",
       "    <tr>\n",
       "      <th>3</th>\n",
       "      <td>0.480902</td>\n",
       "      <td>24.645506</td>\n",
       "      <td>0.056197</td>\n",
       "      <td>23.628989</td>\n",
       "      <td>0.008685</td>\n",
       "      <td>22.404392</td>\n",
       "      <td>0.005526</td>\n",
       "      <td>21.826375</td>\n",
       "      <td>0.005423</td>\n",
       "      <td>21.557643</td>\n",
       "      <td>0.005778</td>\n",
       "      <td>21.356251</td>\n",
       "      <td>0.007419</td>\n",
       "    </tr>\n",
       "    <tr>\n",
       "      <th>4</th>\n",
       "      <td>0.989111</td>\n",
       "      <td>26.416320</td>\n",
       "      <td>0.283212</td>\n",
       "      <td>26.724954</td>\n",
       "      <td>0.118529</td>\n",
       "      <td>25.868717</td>\n",
       "      <td>0.053256</td>\n",
       "      <td>25.249043</td>\n",
       "      <td>0.045397</td>\n",
       "      <td>24.623952</td>\n",
       "      <td>0.046005</td>\n",
       "      <td>24.569785</td>\n",
       "      <td>0.102275</td>\n",
       "    </tr>\n",
       "    <tr>\n",
       "      <th>5</th>\n",
       "      <td>0.987142</td>\n",
       "      <td>26.505486</td>\n",
       "      <td>0.307387</td>\n",
       "      <td>26.079838</td>\n",
       "      <td>0.065689</td>\n",
       "      <td>24.864404</td>\n",
       "      <td>0.021719</td>\n",
       "      <td>23.887102</td>\n",
       "      <td>0.013931</td>\n",
       "      <td>23.133976</td>\n",
       "      <td>0.012762</td>\n",
       "      <td>22.828902</td>\n",
       "      <td>0.021308</td>\n",
       "    </tr>\n",
       "  </tbody>\n",
       "</table>\n",
       "</div>"
      ],
      "text/plain": [
       "   redshift          u     u_err          g     g_err          r     r_err  \\\n",
       "0  1.272837  25.929161  0.181109  25.286169  0.032071  24.510694  0.016107   \n",
       "1  0.766616  25.588285  0.132537  25.285575  0.032054  24.822778  0.020953   \n",
       "2  0.578591  26.644203  0.349175  26.350709  0.084127  25.633463  0.043019   \n",
       "3  0.480902  24.645506  0.056197  23.628989  0.008685  22.404392  0.005526   \n",
       "4  0.989111  26.416320  0.283212  26.724954  0.118529  25.868717  0.053256   \n",
       "5  0.987142  26.505486  0.307387  26.079838  0.065689  24.864404  0.021719   \n",
       "\n",
       "           i     i_err          z     z_err          y     y_err  \n",
       "0  23.880899  0.013863  23.332024  0.014915  22.796236  0.020717  \n",
       "1  24.041698  0.015778  23.766106  0.021453  23.770953  0.049304  \n",
       "2  25.210058  0.043822  25.092259  0.070466  25.185758  0.180068  \n",
       "3  21.826375  0.005423  21.557643  0.005778  21.356251  0.007419  \n",
       "4  25.249043  0.045397  24.623952  0.046005  24.569785  0.102275  \n",
       "5  23.887102  0.013931  23.133976  0.012762  22.828902  0.021308  "
      ]
     },
     "execution_count": 9,
     "metadata": {},
     "output_type": "execute_result"
    }
   ],
   "source": [
    "samples_degraded = creator_degraded.sample(6, seed=1)\n",
    "samples_degraded"
   ]
  },
  {
   "cell_type": "markdown",
   "metadata": {},
   "source": [
    "This sample has photometric errors that we would like to convolve in the redshift posteriors, so that the posteriors are fully consistent with the errors. We can perform this convolution by sampling from the error distributions, calculating posteriors, and averaging.\n",
    "\n",
    "`FlowEngine` has this functionality already built in - we just have to provide `err_samples` to the `get_posterior` method.\n",
    "\n",
    "Let's calculate posteriors with a variable number of error samples."
   ]
  },
  {
   "cell_type": "code",
   "execution_count": 15,
   "metadata": {},
   "outputs": [],
   "source": [
    "\n",
    "pdfs_errs_convolved = {\n",
    "    err_samples:\n",
    "    creator_truth.get_posterior(samples_degraded, \"redshift\", grid=grid, err_samples=err_samples)\n",
    "    for err_samples in [1, 10, 100, 1000]\n",
    "}"
   ]
  },
  {
   "cell_type": "code",
   "execution_count": 70,
   "metadata": {},
   "outputs": [
    {
     "ename": "AttributeError",
     "evalue": "'AxesSubplot' object has no property 'xlabel_fontsize'",
     "output_type": "error",
     "traceback": [
      "\u001b[0;31m---------------------------------------------------------------------------\u001b[0m",
      "\u001b[0;31mAttributeError\u001b[0m                            Traceback (most recent call last)",
      "\u001b[0;32m<ipython-input-70-5509ca7e44ae>\u001b[0m in \u001b[0;36m<module>\u001b[0;34m\u001b[0m\n\u001b[1;32m     34\u001b[0m     \u001b[0mxlim\u001b[0m\u001b[0;34m[\u001b[0m\u001b[0;36m0\u001b[0m\u001b[0;34m]\u001b[0m \u001b[0;34m-=\u001b[0m \u001b[0;36m0.2\u001b[0m\u001b[0;34m\u001b[0m\u001b[0;34m\u001b[0m\u001b[0m\n\u001b[1;32m     35\u001b[0m     \u001b[0mxlim\u001b[0m\u001b[0;34m[\u001b[0m\u001b[0;36m1\u001b[0m\u001b[0;34m]\u001b[0m \u001b[0;34m+=\u001b[0m \u001b[0;36m0.2\u001b[0m\u001b[0;34m\u001b[0m\u001b[0;34m\u001b[0m\u001b[0m\n\u001b[0;32m---> 36\u001b[0;31m     \u001b[0max\u001b[0m\u001b[0;34m.\u001b[0m\u001b[0mset\u001b[0m\u001b[0;34m(\u001b[0m\u001b[0mxlim\u001b[0m\u001b[0;34m=\u001b[0m\u001b[0mxlim\u001b[0m\u001b[0;34m,\u001b[0m \u001b[0mxlabel_fontsize\u001b[0m\u001b[0;34m=\u001b[0m\u001b[0;36m10\u001b[0m\u001b[0;34m)\u001b[0m\u001b[0;34m\u001b[0m\u001b[0;34m\u001b[0m\u001b[0m\n\u001b[0m",
      "\u001b[0;32m~/.conda/envs/rail/lib/python3.8/site-packages/matplotlib/artist.py\u001b[0m in \u001b[0;36mset\u001b[0;34m(self, **kwargs)\u001b[0m\n\u001b[1;32m   1111\u001b[0m         \u001b[0;32mif\u001b[0m \u001b[0mmove_color_to_start\u001b[0m\u001b[0;34m:\u001b[0m\u001b[0;34m\u001b[0m\u001b[0;34m\u001b[0m\u001b[0m\n\u001b[1;32m   1112\u001b[0m             \u001b[0mkwargs\u001b[0m \u001b[0;34m=\u001b[0m \u001b[0;34m{\u001b[0m\u001b[0;34m\"color\"\u001b[0m\u001b[0;34m:\u001b[0m \u001b[0mkwargs\u001b[0m\u001b[0;34m.\u001b[0m\u001b[0mpop\u001b[0m\u001b[0;34m(\u001b[0m\u001b[0;34m\"color\"\u001b[0m\u001b[0;34m)\u001b[0m\u001b[0;34m,\u001b[0m \u001b[0;34m**\u001b[0m\u001b[0mkwargs\u001b[0m\u001b[0;34m}\u001b[0m\u001b[0;34m\u001b[0m\u001b[0;34m\u001b[0m\u001b[0m\n\u001b[0;32m-> 1113\u001b[0;31m         \u001b[0;32mreturn\u001b[0m \u001b[0mself\u001b[0m\u001b[0;34m.\u001b[0m\u001b[0mupdate\u001b[0m\u001b[0;34m(\u001b[0m\u001b[0mkwargs\u001b[0m\u001b[0;34m)\u001b[0m\u001b[0;34m\u001b[0m\u001b[0;34m\u001b[0m\u001b[0m\n\u001b[0m\u001b[1;32m   1114\u001b[0m \u001b[0;34m\u001b[0m\u001b[0m\n\u001b[1;32m   1115\u001b[0m     \u001b[0;32mdef\u001b[0m \u001b[0mfindobj\u001b[0m\u001b[0;34m(\u001b[0m\u001b[0mself\u001b[0m\u001b[0;34m,\u001b[0m \u001b[0mmatch\u001b[0m\u001b[0;34m=\u001b[0m\u001b[0;32mNone\u001b[0m\u001b[0;34m,\u001b[0m \u001b[0minclude_self\u001b[0m\u001b[0;34m=\u001b[0m\u001b[0;32mTrue\u001b[0m\u001b[0;34m)\u001b[0m\u001b[0;34m:\u001b[0m\u001b[0;34m\u001b[0m\u001b[0;34m\u001b[0m\u001b[0m\n",
      "\u001b[0;32m~/.conda/envs/rail/lib/python3.8/site-packages/matplotlib/artist.py\u001b[0m in \u001b[0;36mupdate\u001b[0;34m(self, props)\u001b[0m\n\u001b[1;32m    994\u001b[0m                     \u001b[0mfunc\u001b[0m \u001b[0;34m=\u001b[0m \u001b[0mgetattr\u001b[0m\u001b[0;34m(\u001b[0m\u001b[0mself\u001b[0m\u001b[0;34m,\u001b[0m \u001b[0;34mf\"set_{k}\"\u001b[0m\u001b[0;34m,\u001b[0m \u001b[0;32mNone\u001b[0m\u001b[0;34m)\u001b[0m\u001b[0;34m\u001b[0m\u001b[0;34m\u001b[0m\u001b[0m\n\u001b[1;32m    995\u001b[0m                     \u001b[0;32mif\u001b[0m \u001b[0;32mnot\u001b[0m \u001b[0mcallable\u001b[0m\u001b[0;34m(\u001b[0m\u001b[0mfunc\u001b[0m\u001b[0;34m)\u001b[0m\u001b[0;34m:\u001b[0m\u001b[0;34m\u001b[0m\u001b[0;34m\u001b[0m\u001b[0m\n\u001b[0;32m--> 996\u001b[0;31m                         raise AttributeError(f\"{type(self).__name__!r} object \"\n\u001b[0m\u001b[1;32m    997\u001b[0m                                              f\"has no property {k!r}\")\n\u001b[1;32m    998\u001b[0m                     \u001b[0mret\u001b[0m\u001b[0;34m.\u001b[0m\u001b[0mappend\u001b[0m\u001b[0;34m(\u001b[0m\u001b[0mfunc\u001b[0m\u001b[0;34m(\u001b[0m\u001b[0mv\u001b[0m\u001b[0;34m)\u001b[0m\u001b[0;34m)\u001b[0m\u001b[0;34m\u001b[0m\u001b[0;34m\u001b[0m\u001b[0m\n",
      "\u001b[0;31mAttributeError\u001b[0m: 'AxesSubplot' object has no property 'xlabel_fontsize'"
     ]
    },
    {
     "data": {
      "image/png": "[encoded data removed]",
      "text/plain": [
       "<Figure size 720x480 with 6 Axes>"
      ]
     },
     "metadata": {
      "needs_background": "light"
     },
     "output_type": "display_data"
    }
   ],
   "source": [
    "fig, axes = plt.subplots(2, 3, constrained_layout=True, dpi=120)\n",
    "\n",
    "for i, ax in enumerate(axes.flatten()):\n",
    "\n",
    "    xlim = [3, 0]\n",
    "\n",
    "    for pdfs_ in pdfs_errs_convolved.values():\n",
    "        # plot the pdf\n",
    "        pdfs_[i].plot_native(axes=ax)\n",
    "        # get the min and max values\n",
    "        xmin = grid[np.argmax(pdfs_[i].pdf(grid)[0] > 1e-2)]\n",
    "        if xmin < xlim[0]:\n",
    "            xlim[0] = xmin\n",
    "        xmax = grid[-np.argmax(pdfs_[i].pdf(grid)[0, ::-1] > 1e-2)]\n",
    "        if xmax > xlim[1]:\n",
    "            xlim[1] = xmax\n",
    "\n",
    "    # plot the true redshift\n",
    "    z_true = samples_degraded[\"redshift\"][i]\n",
    "    ax.axvline(z_true, c=\"k\", ls=\"--\")\n",
    "\n",
    "    # remove x-ticks on top row\n",
    "    if i < 3:\n",
    "        #ax.set(xticks=[])\n",
    "        pass\n",
    "    # set x-label on bottom row\n",
    "    else:\n",
    "        ax.set(xlabel=\"redshift\")\n",
    "    # set y-label on far left column\n",
    "    if i % 3 == 0:\n",
    "        ax.set(ylabel=\"p(z)\")\n",
    "\n",
    "    # set the x-limits so we can see more detail\n",
    "    xlim[0] -= 0.2\n",
    "    xlim[1] += 0.2\n",
    "    ax.set(xlim=xlim)"
   ]
  },
  {
   "cell_type": "code",
   "execution_count": 71,
   "metadata": {},
   "outputs": [
    {
     "name": "stdout",
     "output_type": "stream",
     "text": [
      "Help on method set in module matplotlib.artist:\n",
      "\n",
      "set(**kwargs) method of matplotlib.axes._subplots.AxesSubplot instance\n",
      "    A property batch setter.  Pass *kwargs* to set properties.\n",
      "\n"
     ]
    }
   ],
   "source": [
    "help(ax.set)"
   ]
  },
  {
   "cell_type": "code",
   "execution_count": 57,
   "metadata": {},
   "outputs": [
    {
     "data": {
      "text/plain": [
       "0.0004313977369312612"
      ]
     },
     "execution_count": 57,
     "metadata": {},
     "output_type": "execute_result"
    }
   ],
   "source": [
    "pdfs[0].pdf(grid)[0, 76]"
   ]
  },
  {
   "cell_type": "code",
   "execution_count": 60,
   "metadata": {},
   "outputs": [
    {
     "data": {
      "text/plain": [
       "1.9444444444444444"
      ]
     },
     "execution_count": 60,
     "metadata": {},
     "output_type": "execute_result"
    }
   ],
   "source": [
    "grid[77]"
   ]
  },
  {
   "cell_type": "code",
   "execution_count": null,
   "metadata": {},
   "outputs": [],
   "source": []
  }
 ],
 "metadata": {
  "interpreter": {
   "hash": "33169e9e67880b1853f4eac3eefbf27d2cf9aef466064efe02e233d73165a438"
  },
  "kernelspec": {
   "display_name": "Python 3.8.6 64-bit ('rail': conda)",
   "name": "python3"
  },
  "language_info": {
   "codemirror_mode": {
    "name": "ipython",
    "version": 3
   },
   "file_extension": ".py",
   "mimetype": "text/x-python",
   "name": "python",
   "nbconvert_exporter": "python",
   "pygments_lexer": "ipython3",
   "version": "3.8.6"
  },
  "orig_nbformat": 4
 },
 "nbformat": 4,
 "nbformat_minor": 2
}
