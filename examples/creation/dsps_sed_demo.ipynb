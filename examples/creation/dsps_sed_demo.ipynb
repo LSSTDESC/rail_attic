{
 "cells": [
  {
   "cell_type": "markdown",
   "source": [
    "# Demo of SED and photometry calculations with DSPS\n",
    "author: Luca Tortorelli, Andrew Hearin\n",
    "\n",
    "last run successfully: Nov 7, 2022\n",
    "\n",
    "This notebook demonstrates some basic usage of the DSPS library. In particular, for a galaxy with some arbitrary star formation history, we'll see how to calculate its restframe SED, and its absolute and apparent magnitude in some band.\n",
    "\n",
    "Andrew:\n",
    "Warning: At present, DSPS is mostly just a collection of JAX kernels and does not have much in the way of a user-interface or documentation. The API shown here is very likely to evolve in the coming year. I expect that a stable interface with end-user docs will not arrive until spring 2023 at the earliest.\n",
    "\n",
    "SPS calculations are based on a set of template SEDs of simple stellar populations (SSPs). Supplying such templates is outside the planned scope of the DSPS package, and so they will need to be retrieved from some other library. For example, the FSPS library supplies such templates in a convenient form."
   ],
   "metadata": {
    "collapsed": false
   }
  },
  {
   "cell_type": "code",
   "execution_count": null,
   "outputs": [],
   "source": [
    "import rail\n",
    "from rail.core.stage import RailStage\n",
    "from src.rail.creation.galaxy_modelling.dsps_sed_modeler import DSPSSingleSedModeler, DSPSPopulationSedModeler\n",
    "from src.rail.creation.galaxy_modelling.dsps_photometry_creator import DSPSPhotometryCreator\n",
    "from dsps.load_fsps_data import load_fsps_testing_data\n",
    "import numpy as np\n",
    "import os\n",
    "from dsps.utils import _jax_get_dt_array"
   ],
   "metadata": {
    "collapsed": false
   }
  },
  {
   "cell_type": "code",
   "execution_count": null,
   "outputs": [],
   "source": [
    "DS = RailStage.data_store\n",
    "DS.__class__.allow_overwrite = True"
   ],
   "metadata": {
    "collapsed": false
   }
  },
  {
   "cell_type": "markdown",
   "source": [
    "The data that are required to generate a single SED model are stored in /src/rail/examples/testdata/dsps_data and are loaded from .npy files. The required data are:\n",
    "- the fluxes of the single stellar populations (SSP), ssp_fluxes\n",
    "- the corresponding SSP wavelengths, ssp_wavelengths\n",
    "- the age grid of the SSP in units of log10(Age[Gyr]), age_grid\n",
    "- the metallicity grid of the SSP in units of log10(Z*/Z*_solar), metallicity_grid\n",
    "- the galaxy star-formation history in units of log10(M*/M*_solar) per time step in units of Gyr, star_formation_history\n",
    "- the cosmic time age grid up to the Universe age in Gyr, cosmic_time_grid\n",
    "- keyword to choose between total formed stellar mass or surviving stellar mass, stellar_mass_type\n",
    "- the galaxy stellar mass build-up table to-be-used when stellar_mass_type=\"surviving\", stellar_mass_table\n",
    "- galaxy age at the time of observation in Gyr, galaxy_age\n",
    "- galaxy metallicity at the time of observation in log10(Z*/Z*_solar), galaxy_metallicity\n",
    "- log normal scatter of the galaxy metallicity at the time of observation, galaxy_metallicity_scatter"
   ],
   "metadata": {
    "collapsed": false
   }
  },
  {
   "cell_type": "markdown",
   "source": [
    "To better clarify the meaning of the parameters above, we provide an example of how to generate the required npy files"
   ],
   "metadata": {
    "collapsed": false
   }
  },
  {
   "cell_type": "code",
   "execution_count": null,
   "outputs": [],
   "source": [
    "# the SSP fluxes and wavelengths were provided by Andrew and generated using FSPS\n",
    "DRN = '/src/rail/examples/testdata/dsps_data/'\n",
    "ssp_flux = np.load(os.path.join(DRN, \"ssp_spec_flux_lines.npy\"))\n",
    "ssp_wave = np.load(os.path.join(DRN, \"ssp_spec_wave.npy\"))"
   ],
   "metadata": {
    "collapsed": false
   }
  },
  {
   "cell_type": "code",
   "execution_count": null,
   "outputs": [],
   "source": [
    "# DSPS contains a function to load the grid of ages and metallicities from SSPs created with FSPS, as well as the LSST filters\n",
    "filter_data, __, lgZsun_bin_mids, log_age_gyr = load_fsps_testing_data(DRN)"
   ],
   "metadata": {
    "collapsed": false
   }
  },
  {
   "cell_type": "code",
   "execution_count": null,
   "outputs": [],
   "source": [
    "# print the grid of metallicities and ages and the array shape of the SSP fluxes\n",
    "print(lgZsun_bin_mids)\n",
    "print(log_age_gyr)\n",
    "print(ssp_flux.shape)"
   ],
   "metadata": {
    "collapsed": false
   }
  },
  {
   "cell_type": "code",
   "execution_count": null,
   "outputs": [],
   "source": [
    "# optionally save the age and metallicity grids in npy files\n",
    "# np.save(os.path.join(DRN, 'metallicity_grid.npy'), lgZsun_bin_mids)\n",
    "# np.save(os.path.join(DRN, 'age_grid.npy'), log_age_gyr)"
   ],
   "metadata": {
    "collapsed": false
   }
  },
  {
   "cell_type": "code",
   "execution_count": null,
   "outputs": [],
   "source": [
    "# create the SFH and stellar mass build-up of a dummy galaxy\n",
    "n_t = 100 # number of cosmic age time steps\n",
    "T0 = 13.8 # Universe age today\n",
    "t_table = np.linspace(0.1, T0, n_t)\n",
    "dt_table = _jax_get_dt_array(t_table)\n",
    "sfh_table = np.random.uniform(0, 10, t_table.size) # star-formation history with units as above\n",
    "logsm_table = np.log10(np.cumsum(sfh_table*dt_table)) + 9.0 # total formed stellar mass"
   ],
   "metadata": {
    "collapsed": false
   }
  },
  {
   "cell_type": "code",
   "execution_count": null,
   "outputs": [],
   "source": [
    "# optionally save data in npy files\n",
    "# np.save(os.path.join(DRN, 'SFH.npy'), sfh_table)\n",
    "# np.save(os.path.join(DRN, 'cosmic_time_table.npy'), t_table)\n",
    "# np.save(os.path.join(DRN, 'stellar_mass_table.npy'), logsm_table)"
   ],
   "metadata": {
    "collapsed": false
   }
  },
  {
   "cell_type": "markdown",
   "source": [
    "### Class initialization for the creation of single SED model with DSPS"
   ],
   "metadata": {
    "collapsed": false
   }
  },
  {
   "cell_type": "code",
   "execution_count": null,
   "outputs": [],
   "source": [
    "single_sed_model = DSPSSingleSedModeler.make_stage(name='DSPS single SED model', age_grid=os.path.join(DRN, 'age_grid.npy'),\n",
    "                                                   metallicity_grid=os.path.join(DRN, 'metallicity_grid.npy'),\n",
    "                                                   ssp_wavelengths=os.path.join(DRN, \"ssp_spec_wave.npy\"),\n",
    "                                                   ssp_fluxes=os.path.join(DRN, \"ssp_spec_flux_lines.npy\"),\n",
    "                                                   star_formation_history=os.path.join(DRN, 'SFH.npy'),\n",
    "                                                   cosmic_time_grid=os.path.join(DRN, 'cosmic_time_table.npy'),\n",
    "                                                   stellar_mass_type='formed',\n",
    "                                                   stellar_mass_table=os.path.join(DRN, 'stellar_mass_table.npy'),\n",
    "                                                   galaxy_age=7, galaxy_metallicity=0.0,\n",
    "                                                   galaxy_metallicity_scatter=0.2)"
   ],
   "metadata": {
    "collapsed": false
   }
  },
  {
   "cell_type": "markdown",
   "source": [
    "Run() and fit_model() to generate the actual rest-frame SED in units of L_solar/Hz. Since the output is a ModelHandle, the rest-frame SED is stored into a .pkl file"
   ],
   "metadata": {
    "collapsed": false
   }
  },
  {
   "cell_type": "code",
   "execution_count": null,
   "outputs": [],
   "source": [
    "data_handle = single_sed_model.fit_model()"
   ],
   "metadata": {
    "collapsed": false
   }
  },
  {
   "cell_type": "code",
   "execution_count": null,
   "outputs": [],
   "source": [
    "print(data_handle.data)"
   ],
   "metadata": {
    "collapsed": false
   }
  },
  {
   "cell_type": "markdown",
   "source": [
    "### Class initialization for the creation of a population of SEDs with DSPS"
   ],
   "metadata": {
    "collapsed": false
   }
  },
  {
   "cell_type": "markdown",
   "source": [
    "In case we would like to generate a population of model rest-frame SEDs, we need to invoke the DSPSPopulationSedModeler class. In this case, the npy files for the star-formation history, cosmic time grid and stellar mass build-up array have shape (n_gal_population, n_features), where n_features is the shape of the arrays in the single SED case. Additionally, now also the galaxy age, metallicity and log normal scatter need to be passed as npy files storing arrays of shape (n_gal_populations). Examples npy files for this case are also stored in /src/rail/examples/testdata/dsps_data"
   ],
   "metadata": {
    "collapsed": false
   }
  },
  {
   "cell_type": "code",
   "execution_count": null,
   "outputs": [],
   "source": [
    "population_sed_model = DSPSPopulationSedModeler.make_stage(name='DSPS_pop_sed_model',\n",
    "                                                           age_grid=os.path.join(DRN, 'age_grid.npy'),\n",
    "                                                           metallicity_grid=os.path.join(DRN, 'metallicity_grid.npy'),\n",
    "                                                           ssp_wavelengths=os.path.join(DRN, \"ssp_spec_wave.npy\"),\n",
    "                                                           ssp_fluxes=os.path.join(DRN, \"ssp_spec_flux_lines.npy\"),\n",
    "                                                           star_formation_history=os.path.join(DRN, 'SFHs.npy'),\n",
    "                                                           cosmic_time_grid=os.path.join(DRN, 'cosmic_times_table.npy'),\n",
    "                                                           stellar_mass_type='formed',\n",
    "                                                           stellar_mass_table=os.path.join(DRN, 'stellar_masses_table.npy'),\n",
    "                                                           galaxy_age=os.path.join(DRN, 'galaxy_population_ages.npy'),\n",
    "                                                           galaxy_metallicity=os.path.join(DRN, 'galaxy_population_metallicities.npy'),\n",
    "                                                           galaxy_metallicity_scatter=os.path.join(DRN, 'galaxy_population_metallicity_scatters.npy'))"
   ],
   "metadata": {
    "collapsed": false
   }
  },
  {
   "cell_type": "code",
   "execution_count": null,
   "outputs": [],
   "source": [
    "model_handle = population_sed_model.fit_model()"
   ],
   "metadata": {
    "collapsed": false
   }
  },
  {
   "cell_type": "code",
   "execution_count": null,
   "outputs": [],
   "source": [
    "print(model_handle.data)"
   ],
   "metadata": {
    "collapsed": false
   }
  },
  {
   "cell_type": "markdown",
   "source": [
    "### Observed photometry generation with DSPS"
   ],
   "metadata": {
    "collapsed": false
   }
  },
  {
   "cell_type": "markdown",
   "source": [
    "Generating the observed photometry with DSPS is simple and requires only few input from the user in npy file format, except for the ModelHandle from the SedModeler classes that are stored in .pkl files. The required data are:\n",
    "- filter wavebands, filter_data\n",
    "- rest-frame sed models, rest_frame_sed_models\n",
    "- galaxy redshifts, galaxy_redshifts\n",
    "- Omega matter today, Om0\n",
    "- Omega lambda today,\n",
    "- dark energy equation of state today's value, w0\n",
    "- dark energy equation of state linear slope, wa\n",
    "- Hubble parameter h = H_0/100, h\n",
    "- keywork to set the previous cosmological parameters to Planck values, use_planck_cosmology\n",
    "- number of galaxies in the population, n_galaxies"
   ],
   "metadata": {
    "collapsed": false
   }
  },
  {
   "cell_type": "code",
   "execution_count": null,
   "outputs": [],
   "source": [
    "n_gal_population = 10\n",
    "phot_creator = DSPSPhotometryCreator.make_stage(filter_data=os.path.join(DRN, 'lsst_filters.npy'),\n",
    "                                                rest_frame_sed_models='model_DSPS_pop_sed_model.pkl',\n",
    "                                                rest_frame_wavelengths=os.path.join(DRN, \"ssp_spec_wave.npy\"),\n",
    "                                                galaxy_redshifts=os.path.join(DRN, 'galaxy_redshifts.npy'),\n",
    "                                                Om0=0.3, Ode0=0.7, w0=-1, wa=0, h=0.7,\n",
    "                                                use_planck_cosmology=True, n_galaxies=n_gal_population)"
   ],
   "metadata": {
    "collapsed": false
   }
  },
  {
   "cell_type": "markdown",
   "source": [
    "The sample() method computes the absolute magnitudes and the observed magnitudes in the AB system for all the provided filters and for all the galaxies and store the results in a fits table"
   ],
   "metadata": {
    "collapsed": false
   }
  },
  {
   "cell_type": "code",
   "execution_count": null,
   "outputs": [],
   "source": [
    "out_table = phot_creator.sample()"
   ],
   "metadata": {
    "collapsed": false
   }
  },
  {
   "cell_type": "code",
   "execution_count": null,
   "outputs": [],
   "source": [
    "print(out_table.data)"
   ],
   "metadata": {
    "collapsed": false
   }
  }
 ],
 "metadata": {
  "kernelspec": {
   "display_name": "Python 3",
   "language": "python",
   "name": "python3"
  },
  "language_info": {
   "codemirror_mode": {
    "name": "ipython",
    "version": 2
   },
   "file_extension": ".py",
   "mimetype": "text/x-python",
   "name": "python",
   "nbconvert_exporter": "python",
   "pygments_lexer": "ipython2",
   "version": "2.7.6"
  }
 },
 "nbformat": 4,
 "nbformat_minor": 0
}
