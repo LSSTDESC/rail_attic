{
 "cells": [
  {
   "cell_type": "markdown",
   "metadata": {},
   "source": [
    "# Degrading a simulated data set in a controled way"
   ]
  },
  {
   "cell_type": "markdown",
   "metadata": {},
   "source": [
    "This notebook shows how to use two basic degraders together with a creator to generate degraded data sets."
   ]
  },
  {
   "cell_type": "code",
   "execution_count": null,
   "metadata": {},
   "outputs": [],
   "source": [
    "from pzflow.examples import example_flow\n",
    "from rail.creation import Creator, engines\n",
    "from rail.creation.degradation import InvRedshiftIncompleteness, LineConfusion\n",
    "import numpy as np\n",
    "import matplotlib.pyplot as plt\n",
    "import matplotlib.patches as mpl_patches"
   ]
  },
  {
   "cell_type": "markdown",
   "metadata": {},
   "source": [
    "First, we will demonstrate the `InvRedshiftIncompleteness` degrader. It applies a selection function, which keeps galaxies with probability $p_{\\text{keep}}(z) = \\min(1, \\frac{z_p}{z})$, where $z_p$ is the ''pivot'' redshift. We'll use $z_p = 0.8$.\n",
    "\n",
    "Let's create a samples from a creator with and without this selection function, and compare their redshift distributions."
   ]
  },
  {
   "cell_type": "code",
   "execution_count": null,
   "metadata": {},
   "outputs": [],
   "source": [
    "flow = engines.FlowEngine(example_flow())\n",
    "creator = Creator(flow)\n",
    "degraded_creator = Creator(flow, degrader=InvRedshiftIncompleteness(0.8))"
   ]
  },
  {
   "cell_type": "code",
   "execution_count": null,
   "metadata": {},
   "outputs": [],
   "source": [
    "samples = creator.sample(100000)\n",
    "degraded_samples = degraded_creator.sample(100000)"
   ]
  },
  {
   "cell_type": "code",
   "execution_count": null,
   "metadata": {},
   "outputs": [],
   "source": [
    "fig, ax = plt.subplots(figsize=(4.5,4.5), dpi=100)\n",
    "ax.hist(samples['redshift'], bins=20, range=(0,2.3), histtype='step', label=\"Unbiased samples\")\n",
    "ax.hist(degraded_samples['redshift'], bins=20, range=(0,2.3), histtype='step', label=\"Degraded samples\")\n",
    "ax.legend()\n",
    "ax.set(xlabel=\"Redshift\", ylabel=\"Number of galaxies\", xlim=(0,2.3))\n",
    "plt.show()"
   ]
  },
  {
   "cell_type": "markdown",
   "metadata": {},
   "source": [
    "We can see that the biased samples have more low redshift galaxies, and a deficit of galaxies with redshift > 1.\n",
    "\n",
    "Also note that, despite the selection function, both sets have the same number of galaxies:"
   ]
  },
  {
   "cell_type": "code",
   "execution_count": null,
   "metadata": {},
   "outputs": [],
   "source": [
    "degraded_samples.shape == samples.shape"
   ]
  },
  {
   "cell_type": "markdown",
   "metadata": {},
   "source": [
    "This is because the creator keeps re-sampling and applying the selection function until it has the same number of samples you requested when you called `creator.sample()`"
   ]
  },
  {
   "cell_type": "markdown",
   "metadata": {},
   "source": [
    "Now, let's demonstrate `LineConfusion`. This is a degrader that simulates spectroscopic errors resulting from the confusion of different emission lines.\n",
    "\n",
    "Let's use the `LineConfusion` degrader to create an `OxygenLineConfusion` degrader, in which 2% of [OII] lines are mistaken as [OIII] lines, and 1% of [OIII] lines are mistaken as [OII] lines.\n",
    "\n",
    "Again, we will make samples with and without this degradation, this time comparing the spec-z's"
   ]
  },
  {
   "cell_type": "code",
   "execution_count": null,
   "metadata": {},
   "outputs": [],
   "source": [
    "def OxygenLineConfusion(data, seed=None):\n",
    "    OII = 3727\n",
    "    OIII = 5007\n",
    "    \n",
    "    data = LineConfusion(true_wavelen=OII, wrong_wavelen=OIII, frac_wrong=0.02)(data, seed)\n",
    "    data = LineConfusion(true_wavelen=OIII, wrong_wavelen=OII, frac_wrong=0.01)(data, seed)\n",
    "    return data"
   ]
  },
  {
   "cell_type": "code",
   "execution_count": null,
   "metadata": {},
   "outputs": [],
   "source": [
    "flow = engines.FlowEngine(example_flow())\n",
    "creator = Creator(flow)\n",
    "degraded_creator = Creator(flow, degrader=OxygenLineConfusion)"
   ]
  },
  {
   "cell_type": "code",
   "execution_count": null,
   "metadata": {},
   "outputs": [],
   "source": [
    "samples = creator.sample(100000, seed=0)\n",
    "degraded_samples = degraded_creator.sample(100000, seed=0)"
   ]
  },
  {
   "cell_type": "code",
   "execution_count": null,
   "metadata": {},
   "outputs": [],
   "source": [
    "fig, ax = plt.subplots(figsize=(4.5,4.5), dpi=100)\n",
    "ax.scatter(samples[\"redshift\"], degraded_samples[\"redshift\"], s=0.1)\n",
    "ax.set(xlabel=\"True spec-z\", ylabel=\"Erroneous spec-z\")\n",
    "plt.show()"
   ]
  },
  {
   "cell_type": "markdown",
   "metadata": {},
   "source": [
    "The galaxies above the line y=x are the [OII] -> [OIII] galaxies, while the ones below are the [OIII] -> [OII] galaxies."
   ]
  },
  {
   "cell_type": "code",
   "execution_count": null,
   "metadata": {},
   "outputs": [],
   "source": []
  }
 ],
 "metadata": {
  "kernelspec": {
   "display_name": "Python 3",
   "language": "python",
   "name": "python3"
  },
  "language_info": {
   "codemirror_mode": {
    "name": "ipython",
    "version": 3
   },
   "file_extension": ".py",
   "mimetype": "text/x-python",
   "name": "python",
   "nbconvert_exporter": "python",
   "pygments_lexer": "ipython3",
   "version": "3.8.8"
  }
 },
 "nbformat": 4,
 "nbformat_minor": 4
}
