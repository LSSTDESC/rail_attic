{
 "cells": [
  {
   "cell_type": "markdown",
   "metadata": {},
   "source": [
    "# Basic Creation Demo"
   ]
  },
  {
   "cell_type": "markdown",
   "metadata": {},
   "source": [
    "This notebook shows how to load a normalizing flow from pzflow, wrap it for rail.creation, and draw galaxy samples with redshift posteriors."
   ]
  },
  {
   "cell_type": "code",
   "execution_count": null,
   "metadata": {},
   "outputs": [],
   "source": [
    "from pzflow.examples import example_flow\n",
    "from rail.creation import Creator, engines\n",
    "import numpy as np\n",
    "import matplotlib.pyplot as plt\n",
    "import matplotlib.patches as mpl_patches"
   ]
  },
  {
   "cell_type": "markdown",
   "metadata": {},
   "source": [
    "Let's load the example galaxy redshift flow from pzflow. To see the construction of this flow, look at this pzflow [example notebook](https://github.com/jfcrenshaw/pzflow/blob/main/examples/redshift_example.ipynb). This flow will be wrapped in a `FlowEngine`, which is a wrapper so that the methods of the flow match the methods expected by the `Creator` object"
   ]
  },
  {
   "cell_type": "code",
   "execution_count": null,
   "metadata": {},
   "outputs": [],
   "source": [
    "flow = engines.FlowEngine(example_flow())\n",
    "creator = Creator(flow)"
   ]
  },
  {
   "cell_type": "markdown",
   "metadata": {},
   "source": [
    "Now we can draw samples from the creator:"
   ]
  },
  {
   "cell_type": "code",
   "execution_count": null,
   "metadata": {},
   "outputs": [],
   "source": [
    "samples = creator.sample(n_samples=10000, seed=0)\n",
    "samples"
   ]
  },
  {
   "cell_type": "markdown",
   "metadata": {},
   "source": [
    "These samples don't include redshift posteriors. If we want posteriors, we need to set`include_pdf==True`:"
   ]
  },
  {
   "cell_type": "code",
   "execution_count": null,
   "metadata": {},
   "outputs": [],
   "source": [
    "samples_w_pdfs = creator.sample(n_samples=10000, seed=0, include_pdf=True)\n",
    "samples_w_pdfs"
   ]
  },
  {
   "cell_type": "markdown",
   "metadata": {},
   "source": [
    "The last column of the samples are the true redshift posteriors. You can also access the grid over which the posteriors were calculated:"
   ]
  },
  {
   "cell_type": "code",
   "execution_count": null,
   "metadata": {},
   "outputs": [],
   "source": [
    "samples_w_pdfs.attrs['pz_grid']"
   ]
  },
  {
   "cell_type": "markdown",
   "metadata": {},
   "source": [
    "This is the default redshift grid, but we can also define our own grid:"
   ]
  },
  {
   "cell_type": "code",
   "execution_count": null,
   "metadata": {},
   "outputs": [],
   "source": [
    "grid = np.arange(0, 2.5, 0.5)\n",
    "samples_w_pdfs2 = creator.sample(n_samples=10000, seed=0, include_pdf=True, pz_grid=grid)\n",
    "samples_w_pdfs2"
   ]
  },
  {
   "cell_type": "code",
   "execution_count": null,
   "metadata": {},
   "outputs": [],
   "source": [
    "samples_w_pdfs2.attrs['pz_grid']"
   ]
  },
  {
   "cell_type": "markdown",
   "metadata": {},
   "source": [
    "Let's plot a few of the pdf's"
   ]
  },
  {
   "cell_type": "code",
   "execution_count": null,
   "metadata": {},
   "outputs": [],
   "source": [
    "fig,axes = plt.subplots(4, 3, figsize=(15,20))\n",
    "\n",
    "axes = axes.flatten()\n",
    "\n",
    "for idx, ax in enumerate(axes):\n",
    "    \n",
    "    zs = samples_w_pdfs.attrs['pz_grid']\n",
    "    redshift, u, g, r, i, z, y, pz = samples_w_pdfs.loc[idx]\n",
    "    ax.plot(zs, pz)\n",
    "    \n",
    "    ax.axvline(redshift, c='C3', ls='--', zorder=0)\n",
    "    \n",
    "    # create legend with magnitudes\n",
    "    handles = [mpl_patches.Rectangle((0, 0), 1, 1, fc=\"white\", ec=\"white\", lw=0, alpha=0)] * 6\n",
    "    labels = []\n",
    "    band_labels = ['u', 'g', 'r', 'i', 'z', 'y']\n",
    "    for band,mag in zip(band_labels, [u,g,r,i,z,y]):\n",
    "        labels.append(f'{band} = {mag:.2f}')\n",
    "    ax.legend(handles, labels, loc='best', \n",
    "              fancybox=True, framealpha=0.7, \n",
    "              handlelength=0, handletextpad=0)\n",
    "    \n",
    "    ax.set_xlim(0,2)\n",
    "    ax.set_ylim(0,30)\n",
    "    ax.set_xlabel(\"Redshift\")\n",
    "    ax.set_ylabel(\"$p(z \\,|\\, ugrizy)$\")"
   ]
  },
  {
   "cell_type": "markdown",
   "metadata": {},
   "source": [
    "Let's look at the point estimates"
   ]
  },
  {
   "cell_type": "code",
   "execution_count": null,
   "metadata": {},
   "outputs": [],
   "source": [
    "z_map = []\n",
    "for pz in samples_w_pdfs['pz_pdf']:\n",
    "    z_map.append(samples_w_pdfs.attrs['pz_grid'][pz.argmax()])"
   ]
  },
  {
   "cell_type": "code",
   "execution_count": null,
   "metadata": {},
   "outputs": [],
   "source": [
    "fig,ax = plt.subplots(figsize=(4,4), constrained_layout=True)\n",
    "ax.scatter(samples_w_pdfs['redshift'], z_map, s=1)\n",
    "ax.set_xlabel('True redshift')\n",
    "ax.set_ylabel('$z_\\mathrm{MAP}$')\n",
    "ax.set_xlim(0,2)\n",
    "ax.set_ylim(0,2)"
   ]
  },
  {
   "cell_type": "code",
   "execution_count": null,
   "metadata": {},
   "outputs": [],
   "source": []
  }
 ],
 "metadata": {
  "kernelspec": {
   "display_name": "Python 3",
   "language": "python",
   "name": "python3"
  },
  "language_info": {
   "codemirror_mode": {
    "name": "ipython",
    "version": 3
   },
   "file_extension": ".py",
   "mimetype": "text/x-python",
   "name": "python",
   "nbconvert_exporter": "python",
   "pygments_lexer": "ipython3",
   "version": "3.8.8"
  }
 },
 "nbformat": 4,
 "nbformat_minor": 4
}
