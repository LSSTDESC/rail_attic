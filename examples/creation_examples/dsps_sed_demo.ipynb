{
 "cells": [
  {
   "cell_type": "markdown",
   "metadata": {},
   "source": [
    "# Demo of SED and photometry calculations with DSPS\n",
    "author: Luca Tortorelli, Andrew Hearin\n",
    "\n",
    "last run successfully: Nov 7, 2022\n",
    "\n",
    "This notebook demonstrates some basic usage of the DSPS library. In particular, for a galaxy with some arbitrary star formation history, we'll see how to calculate its restframe SED, and its absolute and apparent magnitude in some band.\n",
    "\n",
    "Andrew:\n",
    "Warning: At present, DSPS is mostly just a collection of JAX kernels and does not have much in the way of a user-interface or documentation. The API shown here is very likely to evolve in the coming year. I expect that a stable interface with end-user docs will not arrive until spring 2023 at the earliest.\n",
    "\n",
    "SPS calculations are based on a set of template SEDs of simple stellar populations (SSPs). Supplying such templates is outside the planned scope of the DSPS package, and so they will need to be retrieved from some other library. For example, the FSPS library supplies such templates in a convenient form."
   ]
  },
  {
   "cell_type": "code",
   "execution_count": null,
   "metadata": {},
   "outputs": [],
   "source": [
    "import numpy as np\n",
    "import h5py\n",
    "import os\n",
    "from rail.core.stage import RailStage\n",
    "from src.rail.creation.engines.dsps_sed_modeler import DSPSSingleSedModeler, DSPSPopulationSedModeler\n",
    "from src.rail.creation.engines.dsps_photometry_creator import DSPSPhotometryCreator\n",
    "from rail.core.utils import RAILDIR\n",
    "import ceci"
   ]
  },
  {
   "cell_type": "code",
   "execution_count": null,
   "metadata": {},
   "outputs": [],
   "source": [
    "DS = RailStage.data_store\n",
    "DS.__class__.allow_overwrite = True"
   ]
  },
  {
   "cell_type": "markdown",
   "metadata": {},
   "source": [
    "The SSP library that is required to generate an SED model is stored in /src/rail/examples_data/creation_data/data/dsps_default_data. Dummy input galaxy population properties to be used by DSPS to create galaxy SEDs can be generated via this notebook. The required data are:\n",
    "- the fluxes of the single stellar populations (SSP)\n",
    "- the corresponding SSP wavelengths\n",
    "- the age grid of the SSP in units of log10(Age[Gyr])\n",
    "- the metallicity grid of the SSP in units of log10(Z*/Z*_solar)\n",
    "- the galaxy star-formation history in units of log10(M*/M*_solar) per time step in units of Gyr\n",
    "- the cosmic time age grid up to the Universe age in Gyr\n",
    "- galaxy age at the time of observation in Gyr\n",
    "- galaxy metallicity at the time of observation in log10(Z*/Z*_solar)\n",
    "- log normal scatter of the galaxy metallicity at the time of observation"
   ]
  },
  {
   "cell_type": "markdown",
   "metadata": {},
   "source": [
    "To better clarify the meaning of the parameters above, we provide an example of how to generate a dummy hdf5 input galaxy properties table."
   ]
  },
  {
   "cell_type": "code",
   "execution_count": null,
   "outputs": [],
   "source": [
    "default_files_folder = os.path.join(RAILDIR, 'rail', 'examples_data', 'creation_data', 'data', 'dsps_default_data')"
   ],
   "metadata": {
    "collapsed": false
   }
  },
  {
   "cell_type": "code",
   "execution_count": null,
   "metadata": {},
   "outputs": [],
   "source": [
    "n_galaxies = 10\n",
    "\n",
    "redshift = np.arange(0.1, 1.1, 0.1)\n",
    "\n",
    "gal_t_table = np.linspace(0.05, 13.8, 100) # age of the universe in Gyr\n",
    "gal_sfr_table = np.random.uniform(0, 10, gal_t_table.size) # SFR in Msun/yr\n",
    "\n",
    "gal_lgmet = -2.0 # log10(Z)\n",
    "gal_lgmet_scatter = 0.2 # lognormal scatter in the metallicity distribution function\n",
    "\n",
    "cosmic_time_grid = np.full((n_galaxies, len(gal_t_table)), gal_t_table)\n",
    "star_formation_history = np.full((n_galaxies, len(gal_sfr_table)), gal_sfr_table)\n",
    "stellar_metallicity = np.full(n_galaxies, gal_lgmet)\n",
    "stellar_metallicity_scatter = np.full(n_galaxies, gal_lgmet_scatter)\n",
    "\n",
    "with h5py.File(os.path.join(default_files_folder, 'input_galaxy_properties_dsps.h5'), 'w') as h5table:\n",
    "    h5table.create_dataset(name='redshift', data=redshift)\n",
    "    h5table.create_dataset(name='cosmic_time_grid', data=cosmic_time_grid)\n",
    "    h5table.create_dataset(name='star_formation_history', data=star_formation_history)\n",
    "    h5table.create_dataset(name='stellar_metallicity', data=stellar_metallicity)\n",
    "    h5table.create_dataset(name='stellar_metallicity_scatter', data=stellar_metallicity_scatter)"
   ]
  },
  {
   "cell_type": "markdown",
   "metadata": {},
   "source": [
    "### Class initialization for the creation of single SED models with DSPS\n",
    "\n",
    "The parallelization in this class is done using MPI"
   ]
  },
  {
   "cell_type": "code",
   "execution_count": null,
   "metadata": {},
   "outputs": [],
   "source": [
    "single_sed_model = DSPSSingleSedModeler.make_stage(name='DSPS_single_SED_model',\n",
    "                                                   ssp_templates_file=os.path.join(RAILDIR,\n",
    "                                                                                   'rail/examples_data/creation_data/data/dsps_default_data/ssp_data_fsps_v3.2_lgmet_age.h5'),\n",
    "                                                   redshift_key='redshift',\n",
    "                                                   cosmic_time_grid_key='cosmic_time_grid',\n",
    "                                                   star_formation_history_key='star_formation_history',\n",
    "                                                   stellar_metallicity_key='stellar_metallicity',\n",
    "                                                   stellar_metallicity_scatter_key='stellar_metallicity_scatter',\n",
    "                                                   restframe_sed_key='restframe_seds')"
   ]
  },
  {
   "cell_type": "markdown",
   "source": [
    "Passing input galaxy properties"
   ],
   "metadata": {
    "collapsed": false
   }
  },
  {
   "cell_type": "code",
   "execution_count": null,
   "outputs": [],
   "source": [
    "trainFile = os.path.join(default_files_folder, 'input_galaxy_properties_dsps.h5')\n",
    "h5table = h5py.File(trainFile, 'r')\n",
    "single_sed_model.add_data('input', h5table)"
   ],
   "metadata": {
    "collapsed": false
   }
  },
  {
   "cell_type": "markdown",
   "metadata": {},
   "source": [
    "Run() and fit_model() to generate the actual rest-frame SED in units of L_solar/Hz. Since the output is a Hdf5Handle, the rest-frame SED is stored into a .hdf5 file"
   ]
  },
  {
   "cell_type": "code",
   "execution_count": null,
   "metadata": {},
   "outputs": [],
   "source": [
    "single_sed_model.fit_model()\n",
    "h5table.close()"
   ]
  },
  {
   "cell_type": "code",
   "execution_count": null,
   "metadata": {},
   "outputs": [],
   "source": [
    "rest_frame_sed_models = single_sed_model.get_data('model')\n",
    "print(rest_frame_sed_models)"
   ]
  },
  {
   "cell_type": "markdown",
   "source": [
    "### Class initialization for the creation of single SED models with DSPS using Ceci"
   ],
   "metadata": {
    "collapsed": false
   }
  },
  {
   "cell_type": "code",
   "execution_count": null,
   "outputs": [],
   "source": [
    "DSPS_single_SED_model = DSPSSingleSedModeler.make_stage(name='DSPS_single_SED_model',\n",
    "                                                        ssp_templates_file=os.path.join(RAILDIR, 'rail/examples_data/creation_data/data/dsps_default_data/ssp_data_fsps_v3.2_lgmet_age.h5'),\n",
    "                                                        redshift_key='redshift',\n",
    "                                                        cosmic_time_grid_key='cosmic_time_grid',\n",
    "                                                        star_formation_history_key='star_formation_history',\n",
    "                                                        stellar_metallicity_key='stellar_metallicity',\n",
    "                                                        stellar_metallicity_scatter_key='stellar_metallicity_scatter',\n",
    "                                                        restframe_sed_key='restframe_seds')"
   ],
   "metadata": {
    "collapsed": false
   }
  },
  {
   "cell_type": "code",
   "execution_count": null,
   "outputs": [],
   "source": [
    "pipe = ceci.Pipeline.interactive()\n",
    "stages = [DSPS_single_SED_model]\n",
    "for stage in stages:\n",
    "    pipe.add_stage(stage)"
   ],
   "metadata": {
    "collapsed": false
   }
  },
  {
   "cell_type": "code",
   "execution_count": null,
   "outputs": [],
   "source": [
    "trainFile = os.path.join(default_files_folder, 'input_galaxy_properties_dsps.h5')\n",
    "pipe.initialize(dict(input=trainFile), dict(output_dir='./temp_output_dspsv3.0.0', log_dir='./logs_dspsv3.0.0',\n",
    "                                            resume=False, nprocess=2), None)"
   ],
   "metadata": {
    "collapsed": false
   }
  },
  {
   "cell_type": "code",
   "execution_count": null,
   "outputs": [],
   "source": [
    "pipe.save('./temp_output_dspsv3.0.0/pipe_saved.yml')\n",
    "pr = ceci.Pipeline.read('./temp_output_dspsv3.0.0/pipe_saved.yml')\n",
    "pr.run()"
   ],
   "metadata": {
    "collapsed": false
   }
  },
  {
   "cell_type": "markdown",
   "metadata": {},
   "source": [
    "### Class initialization for the creation of a population of SEDs with DSPS"
   ]
  },
  {
   "cell_type": "markdown",
   "metadata": {},
   "source": [
    "In case we would like to generate a population of model rest-frame SEDs, we need to invoke the DSPSPopulationSedModeler class. In this case, the parallelization is managed by JAX."
   ]
  },
  {
   "cell_type": "code",
   "execution_count": null,
   "metadata": {},
   "outputs": [],
   "source": [
    "DSPS_population_SED_model = DSPSPopulationSedModeler.make_stage(name='DSPS_population_SED_model',\n",
    "                                                                ssp_templates_file=os.path.join(RAILDIR, 'rail/examples_data/creation_data/data/dsps_default_data/ssp_data_fsps_v3.2_lgmet_age.h5'),\n",
    "                                                                redshift_key='redshift',\n",
    "                                                                cosmic_time_grid_key='cosmic_time_grid',\n",
    "                                                                star_formation_history_key='star_formation_history',\n",
    "                                                                stellar_metallicity_key='stellar_metallicity',\n",
    "                                                                stellar_metallicity_scatter_key='stellar_metallicity_scatter',\n",
    "                                                                restframe_sed_key='restframe_seds')"
   ]
  },
  {
   "cell_type": "code",
   "execution_count": null,
   "metadata": {},
   "outputs": [],
   "source": [
    "trainFile = trainFile = os.path.join(default_files_folder, 'input_galaxy_properties_dsps.h5')\n",
    "h5table = h5py.File(trainFile, 'r')\n",
    "DSPS_population_SED_model.add_data('input', h5table)"
   ]
  },
  {
   "cell_type": "code",
   "execution_count": null,
   "metadata": {},
   "outputs": [],
   "source": [
    "DSPS_population_SED_model.fit_model()\n",
    "h5table.close()"
   ]
  },
  {
   "cell_type": "code",
   "execution_count": null,
   "outputs": [],
   "source": [
    "rest_frame_sed_models = DSPS_population_SED_model.get_data('model')\n",
    "print(rest_frame_sed_models)"
   ],
   "metadata": {
    "collapsed": false
   }
  },
  {
   "cell_type": "markdown",
   "source": [
    "### Class initialization for the creation of a population of SEDs with DSPS using ceci\n"
   ],
   "metadata": {
    "collapsed": false
   }
  },
  {
   "cell_type": "code",
   "execution_count": null,
   "outputs": [],
   "source": [
    "DSPS_population_SED_model = DSPSPopulationSedModeler.make_stage(name='DSPS_population_SED_model',\n",
    "                                                                ssp_templates_file=os.path.join(RAILDIR, 'rail/examples_data/creation_data/data/dsps_default_data/ssp_data_fsps_v3.2_lgmet_age.h5'),\n",
    "                                                                redshift_key='redshift',\n",
    "                                                                cosmic_time_grid_key='cosmic_time_grid',\n",
    "                                                                star_formation_history_key='star_formation_history',\n",
    "                                                                stellar_metallicity_key='stellar_metallicity',\n",
    "                                                                stellar_metallicity_scatter_key='stellar_metallicity_scatter',\n",
    "                                                                restframe_sed_key='restframe_seds')"
   ],
   "metadata": {
    "collapsed": false
   }
  },
  {
   "cell_type": "code",
   "execution_count": null,
   "outputs": [],
   "source": [
    "pipe = ceci.Pipeline.interactive()\n",
    "stages = [DSPS_population_SED_model]\n",
    "for stage in stages:\n",
    "    pipe.add_stage(stage)"
   ],
   "metadata": {
    "collapsed": false
   }
  },
  {
   "cell_type": "code",
   "execution_count": null,
   "outputs": [],
   "source": [
    "pipe.initialize(dict(input=trainFile), dict(output_dir='./temp_output_dspsv3.0.0', log_dir='./logs_dspsv3.0.0',\n",
    "                                            resume=False, nprocess=2), None)"
   ],
   "metadata": {
    "collapsed": false
   }
  },
  {
   "cell_type": "code",
   "execution_count": null,
   "outputs": [],
   "source": [
    "pipe.save('./temp_output_dspsv3.0.0/pipe_saved.yml')\n",
    "pr = ceci.Pipeline.read('./temp_output_dspsv3.0.0/pipe_saved.yml')\n",
    "pr.run()"
   ],
   "metadata": {
    "collapsed": false
   }
  },
  {
   "cell_type": "markdown",
   "metadata": {},
   "source": [
    "### Observed photometry generation with DSPS"
   ]
  },
  {
   "cell_type": "markdown",
   "metadata": {},
   "source": [
    "Generating the observed photometry with DSPS is simple and requires only few input from the user. The required data are:\n",
    "- filter wavebands\n",
    "- instrument name\n",
    "- rest-frame sed models\n",
    "- galaxy redshifts\n",
    "- wCDM cosmological parameters"
   ]
  },
  {
   "cell_type": "code",
   "execution_count": null,
   "metadata": {},
   "outputs": [],
   "source": [
    "DSPS_photometry_creator = DSPSPhotometryCreator.make_stage(name='DSPS_photometry_creator',\n",
    "                                                           redshift_key='redshift',\n",
    "                                                           restframe_sed_key='restframe_seds',\n",
    "                                                           absolute_mags_key='rest_frame_absolute_mags',\n",
    "                                                           apparent_mags_key='apparent_mags',\n",
    "                                                           filter_folder=os.path.join(RAILDIR, 'rail/examples_data/creation_data/data/dsps_default_data/filters'),\n",
    "                                                           instrument_name='lsst',\n",
    "                                                           wavebands='u,g,r,i,z',\n",
    "                                                           ssp_templates_file=os.path.join(RAILDIR, 'rail/examples_data/creation_data/data/dsps_default_data/ssp_data_fsps_v3.2_lgmet_age.h5'))"
   ]
  },
  {
   "cell_type": "code",
   "execution_count": null,
   "metadata": {},
   "outputs": [],
   "source": [
    "trainFile = os.path.join(default_files_folder, 'model_DSPS_single_SED_model.hdf5')\n",
    "h5table = h5py.File(trainFile, 'r')\n",
    "DSPS_photometry_creator.add_data('model', h5table)"
   ]
  },
  {
   "cell_type": "markdown",
   "metadata": {},
   "source": [
    "The sample() method computes the absolute magnitudes and the observed magnitudes in the AB system for all the provided filters and for all the galaxies and store the results in a hdf5 table"
   ]
  },
  {
   "cell_type": "code",
   "execution_count": null,
   "metadata": {},
   "outputs": [],
   "source": [
    "output_mags = DSPS_photometry_creator.sample()\n",
    "h5table.close()"
   ]
  },
  {
   "cell_type": "code",
   "execution_count": null,
   "metadata": {},
   "outputs": [],
   "source": [
    "print(output_mags.data)"
   ]
  },
  {
   "cell_type": "markdown",
   "source": [
    "### Observed photometry generation with DSPS using ceci"
   ],
   "metadata": {
    "collapsed": false
   }
  },
  {
   "cell_type": "code",
   "execution_count": null,
   "outputs": [],
   "source": [
    "DSPS_photometry_creator = DSPSPhotometryCreator.make_stage(name='DSPS_photometry_creator',\n",
    "                                                           redshift_key='redshifts',\n",
    "                                                           restframe_sed_key='restframe_seds',\n",
    "                                                           absolute_mags_key='rest_frame_absolute_mags',\n",
    "                                                           apparent_mags_key='apparent_mags',\n",
    "                                                           filter_folder=os.path.join(RAILDIR, 'rail/examples_data/creation_data/data/dsps_default_data/filters'),\n",
    "                                                           instrument_name='lsst',\n",
    "                                                           wavebands='u,g,r,i,z',\n",
    "                                                           ssp_templates_file=os.path.join(RAILDIR, 'rail/examples_data/creation_data/data/dsps_default_data/ssp_data_fsps_v3.2_lgmet_age.h5'))"
   ],
   "metadata": {
    "collapsed": false
   }
  },
  {
   "cell_type": "code",
   "execution_count": null,
   "outputs": [],
   "source": [
    "pipe = ceci.Pipeline.interactive()\n",
    "stages = [DSPS_photometry_creator]\n",
    "for stage in stages:\n",
    "    pipe.add_stage(stage)"
   ],
   "metadata": {
    "collapsed": false
   }
  },
  {
   "cell_type": "code",
   "execution_count": null,
   "outputs": [],
   "source": [
    "trainFile = os.path.join(default_files_folder, 'model_DSPS_single_SED_model.hdf5')\n",
    "pipe.initialize(dict(model=trainFile), dict(output_dir='./temp_output_dspsv3.0.0', log_dir='./logs_dspsv3.0.0',\n",
    "                                            resume=False, nprocess=2), None)"
   ],
   "metadata": {
    "collapsed": false
   }
  },
  {
   "cell_type": "code",
   "execution_count": null,
   "outputs": [],
   "source": [
    "pipe.save('./temp_output_dspsv3.0.0/pipe_saved.yml')\n",
    "pr = ceci.Pipeline.read('./temp_output_dspsv3.0.0/pipe_saved.yml')\n",
    "pr.run()"
   ],
   "metadata": {
    "collapsed": false
   }
  }
 ],
 "metadata": {
  "kernelspec": {
   "display_name": "Python 3 (ipykernel)",
   "language": "python",
   "name": "python3"
  },
  "language_info": {
   "codemirror_mode": {
    "name": "ipython",
    "version": 3
   },
   "file_extension": ".py",
   "mimetype": "text/x-python",
   "name": "python",
   "nbconvert_exporter": "python",
   "pygments_lexer": "ipython3",
   "version": "3.10.10"
  }
 },
 "nbformat": 4,
 "nbformat_minor": 1
}
