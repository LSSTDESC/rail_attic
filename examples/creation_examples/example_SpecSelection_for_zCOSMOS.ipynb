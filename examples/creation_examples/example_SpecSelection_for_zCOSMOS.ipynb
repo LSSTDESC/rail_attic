{
 "cells": [
  {
   "cell_type": "markdown",
   "id": "b0ad4fb1-2bcf-4ff1-abf7-0ac9ca0d144a",
   "metadata": {},
   "source": [
    "# Spectroscopic selection degrader to emulate zCOSMOS training samples\n",
    "\n",
    "last run successfully: April 26, 2023\n",
    "\n",
    "The spectroscopic_selection degrader can be used to model the spectroscopic success rates in training sets based on real data.  Given a 2-dimensional grid of spec-z success ratio as a function of two variables (often magnitude, color, or redshift), the degrader will draw the appropriate fraction of samples from the input data and return a sample with incompleteness modeled.  \n",
    "\n",
    "The degrader takes the following arguments:\n",
    "- `N_tot`: number of selected sources <br>\n",
    "- `nondetect_val`: non detected magnitude value to be excluded (usually 99.0, -99.0 or NaN).<br>\n",
    "- `downsample`: If true, downsample the selected sources into a total number of N_tot. <br>\n",
    "- `success_rate_dir`: The path to the directory containing success rate files.\n",
    "- `colnames`: a dictionary that includes necessary columns (magnitudes, colors and redshift) for selection. For magnitudes, the keys are ugrizy; for colors, the keys are, for example, gr standing for g-r; for redshift, the key is 'redshift'. In this demo, zCOSMOS takes {'i':'i', 'redshift':'redshift'} as minimum necessary input\n",
    "\n",
    "In this quick notebook we'll select galaxies based on zCOSMOS selection function."
   ]
  },
  {
   "cell_type": "code",
   "execution_count": null,
   "id": "045407da-c4e1-4534-8081-580fb36ac5af",
   "metadata": {},
   "outputs": [],
   "source": [
    "import rail\n",
    "import os\n",
    "import matplotlib.pyplot as plt\n",
    "import numpy as np\n",
    "import tables_io\n",
    "import pandas as pd\n",
    "#from rail.core.data import TableHandle\n",
    "from rail.core.stage import RailStage\n",
    "%matplotlib inline "
   ]
  },
  {
   "cell_type": "code",
   "execution_count": null,
   "id": "4e1841bd-ec07-4929-9a07-88f962080677",
   "metadata": {},
   "outputs": [],
   "source": [
    "DS = RailStage.data_store\n",
    "DS.__class__.allow_overwrite = True"
   ]
  },
  {
   "cell_type": "markdown",
   "id": "b9b26602-529d-4a91-b109-885bdbc93094",
   "metadata": {},
   "source": [
    "Let's make fake data for zCOSMOS selection. "
   ]
  },
  {
   "cell_type": "code",
   "execution_count": null,
   "id": "0f019dba-bd95-4c16-af59-5675443d431c",
   "metadata": {},
   "outputs": [],
   "source": [
    "i = np.random.uniform(low=18, high=25.9675, size=(2000000,))\n",
    "gz = np.random.uniform(low=-1.98, high=5.98, size=(2000000,))\n",
    "u = np.full_like(i, 20.0, dtype=np.double)\n",
    "g = np.full_like(i, 20.0, dtype=np.double)\n",
    "r = np.full_like(i, 20.0, dtype=np.double)\n",
    "y = np.full_like(i, 20.0, dtype=np.double)\n",
    "z = g - gz\n",
    "redshift = np.random.uniform(size=len(i)) * 2"
   ]
  },
  {
   "cell_type": "markdown",
   "id": "44a42c56-9083-4815-91ec-b44585cdbf25",
   "metadata": {},
   "source": [
    "standardize the column names"
   ]
  },
  {
   "cell_type": "code",
   "execution_count": null,
   "id": "aa5d27aa-8cb2-45bc-8c34-20cfe0752397",
   "metadata": {},
   "outputs": [],
   "source": [
    "mockdict = {}\n",
    "for label, item in zip(['u', 'g','r','i', 'z','y', 'redshift'], [u,g,r,i,z,y, redshift]):\n",
    "    mockdict[f'{label}'] = item"
   ]
  },
  {
   "cell_type": "markdown",
   "id": "08ed23ea-1f52-460e-a501-029248570bb5",
   "metadata": {},
   "source": [
    "np.repeat(item, 100).flatten()"
   ]
  },
  {
   "cell_type": "code",
   "execution_count": null,
   "id": "e2d987e0-330b-4aac-adf5-6e1f40424f31",
   "metadata": {},
   "outputs": [],
   "source": [
    "df = pd.DataFrame(mockdict)"
   ]
  },
  {
   "cell_type": "code",
   "execution_count": null,
   "id": "e9594ab1-ef3b-4651-9e41-59c1533370ab",
   "metadata": {},
   "outputs": [],
   "source": [
    "df.head()"
   ]
  },
  {
   "cell_type": "markdown",
   "id": "1609355d-6464-4496-a22e-7fffa511c229",
   "metadata": {},
   "source": [
    "Now, let's import the spectroscopic_selections degrader for zCOSMOS. <br>\n",
    "The ratio file for zCOSMOS is located in the `RAIL/src/rail/examples/creation/data/success_rate_data/` directory, as we are in `RAIL/examples/creation` folder named `zCOSMOS_success.txt`; the binning in i band and redshift are given in `zCOSMOS_I_sampling.txt` and `zCOSMOS_z_sampling.txt`.<br>\n",
    "We will set a random seed for reproducibility, and set the output file to write our incomplete catalog to \"test_hsc.pq\"."
   ]
  },
  {
   "cell_type": "code",
   "execution_count": null,
   "id": "24c937c7-34e0-4b79-ad6c-1461f4ddc793",
   "metadata": {},
   "outputs": [],
   "source": [
    "import sys\n",
    "from rail.creation.degradation import spectroscopic_selections\n",
    "from importlib import reload\n",
    "from rail.creation.degradation.spectroscopic_selections import SpecSelection_zCOSMOS"
   ]
  },
  {
   "cell_type": "code",
   "execution_count": null,
   "id": "144af9b4-436b-4eda-9047-433940141f45",
   "metadata": {},
   "outputs": [],
   "source": [
    "zcosmos_selecter = SpecSelection_zCOSMOS.make_stage(downsample=False, \n",
    "                                                    colnames={'i':'i','redshift':'redshift'})"
   ]
  },
  {
   "cell_type": "markdown",
   "id": "d204aec5-ea84-4e22-82c6-95e23579b791",
   "metadata": {},
   "source": [
    "Let's run the code and see how long it takes:"
   ]
  },
  {
   "cell_type": "code",
   "execution_count": null,
   "id": "9c812a0a-8414-4f27-b463-e0292bff67b9",
   "metadata": {},
   "outputs": [],
   "source": [
    "%%time\n",
    "trim_data = zcosmos_selecter(df)"
   ]
  },
  {
   "cell_type": "code",
   "execution_count": null,
   "id": "64d1e2b3-ed98-4c91-b03f-7f498f11b650",
   "metadata": {},
   "outputs": [],
   "source": [
    "trim_data.data.info()"
   ]
  },
  {
   "cell_type": "markdown",
   "id": "78941989-b787-4b9b-9d8b-776ee07f6280",
   "metadata": {},
   "source": [
    "And we see that we've kept 503967 out of the 2,000,000 galaxies in the initial sample, so about 25% of the initial sample.  To visualize our cuts, let's read in the success ratios file and plot our sample overlaid with an alpha of 0.05, that way the strength of the black dot will give a visual indication of how many galaxies in each cell we've kept."
   ]
  },
  {
   "cell_type": "code",
   "execution_count": null,
   "id": "28e77db1-7680-4169-ac35-c8fc5656e2ac",
   "metadata": {},
   "outputs": [],
   "source": [
    "# compare to sum of ratios * 100\n",
    "ratio_file='../../src/rail/examples_data/creation_data/data/success_rate_data/zCOSMOS_success.txt'"
   ]
  },
  {
   "cell_type": "code",
   "execution_count": null,
   "id": "75a9fbb9-6560-4db7-975e-ea5e7d4e6bb5",
   "metadata": {},
   "outputs": [],
   "source": [
    "ratios = np.loadtxt(ratio_file)"
   ]
  },
  {
   "cell_type": "code",
   "execution_count": null,
   "id": "98918bd1-b996-4bcd-bc83-51120a879976",
   "metadata": {},
   "outputs": [],
   "source": [
    "ibin_ = np.arange(18, 22.4, 0.01464226, dtype=np.float64)\n",
    "zbin_ = np.arange(0, 1.4, 0.00587002, dtype=np.float64)\n",
    "\n",
    "ibin, zbin = np.meshgrid(ibin_, zbin_)"
   ]
  },
  {
   "cell_type": "code",
   "execution_count": null,
   "id": "cd6b0256-0bb6-4504-8a0d-bdf299ad3fa6",
   "metadata": {},
   "outputs": [],
   "source": [
    "trim_data.data"
   ]
  },
  {
   "cell_type": "code",
   "execution_count": null,
   "id": "2c42b2a1-b45a-4604-91d5-3053c5eef176",
   "metadata": {},
   "outputs": [],
   "source": [
    "plt.figure(figsize=(12,12))\n",
    "plt.title('zCOSMOS', fontsize=20)\n",
    "\n",
    "c = plt.pcolormesh(zbin, ibin, ratios.T, cmap='turbo',vmin=0, vmax=1, alpha=0.8)\n",
    "plt.scatter(trim_data.data['redshift'], trim_data.data['i'], s=2, c='k',alpha =.05)\n",
    "plt.xlabel(\"redshift\", fontsize=15)\n",
    "plt.ylabel(\"i band Magnitude\", fontsize=18)\n",
    "cb = plt.colorbar(c, label='success rate',orientation='horizontal', pad=0.1)\n",
    "cb.set_label(label='success rate', size=15)"
   ]
  },
  {
   "cell_type": "markdown",
   "id": "b8e0156f-ecc8-4b38-ab2c-8594fa2f16f9",
   "metadata": {},
   "source": [
    "The colormap shows the zCOSMOS success ratios and the strenth of the black dots shows how many galaxies were actually kept. We see perfect agreement between our predicted ratios and the actual number of galaxies kept, the degrader is functioning properly, and we see a nice visual representation of the resulting spectroscopic sample incompleteness."
   ]
  }
 ],
 "metadata": {
  "kernelspec": {
   "display_name": "Python 3 (ipykernel)",
   "language": "python",
   "name": "python3"
  },
  "language_info": {
   "codemirror_mode": {
    "name": "ipython",
    "version": 3
   },
   "file_extension": ".py",
   "mimetype": "text/x-python",
   "name": "python",
   "nbconvert_exporter": "python",
   "pygments_lexer": "ipython3",
   "version": "3.10.10"
  },
  "widgets": {
   "application/vnd.jupyter.widget-state+json": {
    "state": {},
    "version_major": 2,
    "version_minor": 0
   }
  }
 },
 "nbformat": 4,
 "nbformat_minor": 5
}
