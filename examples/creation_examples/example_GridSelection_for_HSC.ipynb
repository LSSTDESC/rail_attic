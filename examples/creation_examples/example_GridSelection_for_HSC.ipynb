{
 "cells": [
  {
   "cell_type": "markdown",
   "id": "b0ad4fb1-2bcf-4ff1-abf7-0ac9ca0d144a",
   "metadata": {},
   "source": [
    "# GridSelection degrader to emulate HSC training samples\n",
    "\n",
    "last run successfully: April 26, 2023\n",
    "\n",
    "The GridSelection degrader can be used to model the spectroscopic success rates in training sets based on real data.  Given a 2-dimensional grid of spec-z success ratio as a function of two variables (often magnitude or color), the degrader will draw the appropriate fraction of samples from the input data and return a sample with incompleteness modeled.  An additional redshift cut can also be applied, where all redshifts above the cutoff are also removed from the sample.\n",
    "\n",
    "The degrader takes the following arguments:\n",
    "- `ratio_file`: the name of the file containing the 2-dimensional grid of spec-z success <br>\n",
    "- `random_seed`: random seed to feed to numpy for reproducibility<br>\n",
    "- `settings_file`: path to the pickled file containing settings that define the 2-dimensional grid.  There is a mechanism to make cuts either on a single column from the input data, or a difference (i.e. either a magnitude or a color as a difference of two magnitudes). The parameters in the settings file are:<br>\n",
    "  - `x_band_1`: column name for the x-axis variable from ratios grid.  \n",
    "  - `x_band_2`: [optional] column name for the second x-axis variable.  If x_band_2 is set to '' then it is assumed that the x-axis is parameterized in terms of x_band_1.  If x_band_2 is not '' then the x-axis is compared against (x_band_1 - x_band_2)\n",
    "  -`y_band_1` and `y_band_2`: analagous to `x_band_1` and `x_band_2` but for the y-axis\n",
    "  - `x_limits` and `y_limits`: 2-element lists with the minimum and maximum values for the grid, e.g. [13, 26] if the limits in the x-axis are between magnitudes of 13 and 26.\n",
    "\n",
    "In this quick notebook we'll create a grid of mock galaxies on the same grid on which the HyperSuprimeCam Survey (HSC) spectroscopic success has been parameterized by Irene Moskowitz (and available in `RAIL/examples/creation/data`), and plot the success rate to visualize the spectroscopic success rate for HSC."
   ]
  },
  {
   "cell_type": "code",
   "execution_count": null,
   "id": "045407da-c4e1-4534-8081-580fb36ac5af",
   "metadata": {},
   "outputs": [],
   "source": [
    "import rail\n",
    "import os\n",
    "import matplotlib.pyplot as plt\n",
    "import numpy as np\n",
    "import tables_io\n",
    "import pandas as pd\n",
    "#from rail.core.data import TableHandle\n",
    "from rail.core.stage import RailStage\n",
    "%matplotlib inline "
   ]
  },
  {
   "cell_type": "code",
   "execution_count": null,
   "id": "4e1841bd-ec07-4929-9a07-88f962080677",
   "metadata": {},
   "outputs": [],
   "source": [
    "DS = RailStage.data_store\n",
    "DS.__class__.allow_overwrite = True"
   ]
  },
  {
   "cell_type": "markdown",
   "id": "b9b26602-529d-4a91-b109-885bdbc93094",
   "metadata": {},
   "source": [
    "Let's make a grid of fake data matching the grid used by HSC.  The 2D grid of spec-z success in this case is parameterized in terms of `g-z` color vs `i-band` magnitude, with `g-z` between `[-2, 6]` and `i-band` magnitude spanning `[13, 26]`.  Let's generate 100 identical objects in each of the 100x100=10,000 grid cells, for a total of 1,000,000 mock galaxies.  The only quantities that we need are `g`, `i`, `z` magnitudes and a `redshift` that we can just set to a random number between 1 and 2.5.  The only thing that we really need is consistent g-z and i-mag values, so we can just set g to 20.0 in all circumstances."
   ]
  },
  {
   "cell_type": "code",
   "execution_count": null,
   "id": "f6ef5028-14e8-4009-bed7-4f19056f00c8",
   "metadata": {},
   "outputs": [],
   "source": [
    "gridgz, gridi = np.meshgrid(np.linspace(-1.98, 5.98, 100), np.linspace(13.0325, 25.9675, 100))"
   ]
  },
  {
   "cell_type": "code",
   "execution_count": null,
   "id": "fa868c80-0798-428c-9731-20912865ade1",
   "metadata": {},
   "outputs": [],
   "source": [
    "i = gridi.flatten()\n",
    "gz = gridgz.flatten()\n",
    "g = np.full_like(i, 20.0, dtype=np.double)\n",
    "z = g - gz\n",
    "redshift = np.round(np.random.uniform(size=len(i))*2.5, 2)"
   ]
  },
  {
   "cell_type": "code",
   "execution_count": null,
   "id": "aa5d27aa-8cb2-45bc-8c34-20cfe0752397",
   "metadata": {},
   "outputs": [],
   "source": [
    "mockdict = {}\n",
    "for label, item in zip(['i', 'gz', 'g', 'z', 'redshift'], [i, gz, g, z, redshift]):\n",
    "    mockdict[f'{label}'] = np.repeat(item, 100).flatten()"
   ]
  },
  {
   "cell_type": "code",
   "execution_count": null,
   "id": "e2d987e0-330b-4aac-adf5-6e1f40424f31",
   "metadata": {},
   "outputs": [],
   "source": [
    "df = pd.DataFrame(mockdict)"
   ]
  },
  {
   "cell_type": "code",
   "execution_count": null,
   "id": "e9594ab1-ef3b-4651-9e41-59c1533370ab",
   "metadata": {},
   "outputs": [],
   "source": [
    "df.head()"
   ]
  },
  {
   "cell_type": "markdown",
   "id": "1609355d-6464-4496-a22e-7fffa511c229",
   "metadata": {},
   "source": [
    "Now, let's import the GridSelection degrader and set up the config dict parameters.  We will set a redshift cut of 5.1 so as to not cut any of our mock galaxies, if you would want a redshift cut, you would simply change this parameter as desired.  There is an optional `color_redshift_cut` that scales the number of galaxies kept, we will turn this off.  There is also a `percentile_cut` that computes percentiles in redshift of each cell and removes the highest redshift galaxies, as those are usually the most likely to not be recovered by a spectroscopic survey.  For simplicity, we will set percentile_cut to 100. to not remove any galaxies with this cut.<br>\n",
    "\n",
    "The ratio file for HSC is located in the `RAIL/examples/creation/data` directory, as we are in `RAIL/examples/creation` folder with this demo the paths for the `ratio_file` and `settings_file` are set accordingly.<br>\n",
    "We will set a random seed for reproducibility, and set the output file to write our incomplete catalog to \"test_hsc.pq\"."
   ]
  },
  {
   "cell_type": "code",
   "execution_count": null,
   "id": "9a57be3c-8d1e-4da2-82bf-0ed7912d918b",
   "metadata": {},
   "outputs": [],
   "source": [
    "from rail.creation.degradation.grid_selection import GridSelection"
   ]
  },
  {
   "cell_type": "code",
   "execution_count": null,
   "id": "cb7b98d1-c497-49fc-9af8-0a5522575e9f",
   "metadata": {},
   "outputs": [],
   "source": [
    "configdict = dict(redshift_cut=5.1, ratio_file='../../src/rail/examples_data/creation_data/data/hsc_ratios_and_specz.hdf5',\n",
    "                  settings_file='../../src/rail/examples_data/creation_data/data/HSC_grid_settings.pkl', percentile_cut=100.,\n",
    "                  color_redshift_cut=False,\n",
    "                  output=\"test_hsc.pq\", random_seed=66)"
   ]
  },
  {
   "cell_type": "code",
   "execution_count": null,
   "id": "144af9b4-436b-4eda-9047-433940141f45",
   "metadata": {},
   "outputs": [],
   "source": [
    "hsc_selecter = GridSelection.make_stage(name='hsc_cutter', **configdict)"
   ]
  },
  {
   "cell_type": "markdown",
   "id": "d204aec5-ea84-4e22-82c6-95e23579b791",
   "metadata": {},
   "source": [
    "Let's run the code and see how long it takes:"
   ]
  },
  {
   "cell_type": "code",
   "execution_count": null,
   "id": "9c812a0a-8414-4f27-b463-e0292bff67b9",
   "metadata": {},
   "outputs": [],
   "source": [
    "%%time\n",
    "trim_data = hsc_selecter(df)"
   ]
  },
  {
   "cell_type": "markdown",
   "id": "148793b8-5c09-436f-b2c7-a6e2dfb769b5",
   "metadata": {},
   "source": [
    "This took 10.1s on my home computer, not too bad for 4 million mock galaxies"
   ]
  },
  {
   "cell_type": "code",
   "execution_count": null,
   "id": "64d1e2b3-ed98-4c91-b03f-7f498f11b650",
   "metadata": {},
   "outputs": [],
   "source": [
    "trim_data().info()"
   ]
  },
  {
   "cell_type": "markdown",
   "id": "78941989-b787-4b9b-9d8b-776ee07f6280",
   "metadata": {},
   "source": [
    "And we see that we've kept 625,677 out of the 4,000,000 galaxies in the initial sample, so about 15% of the initial sample.  To visualize our cuts, let's read in the success ratios file and plot our sample overlaid with an alpha of 0.01, that way the strength of the black dot will give a visual indication of how many galaxies in each cell we've kept."
   ]
  },
  {
   "cell_type": "code",
   "execution_count": null,
   "id": "28e77db1-7680-4169-ac35-c8fc5656e2ac",
   "metadata": {},
   "outputs": [],
   "source": [
    "# compare to sum of ratios * 100\n",
    "ratio_file='../../src/rail/examples_data/creation_data/data/hsc_ratios_and_specz.hdf5'"
   ]
  },
  {
   "cell_type": "code",
   "execution_count": null,
   "id": "75a9fbb9-6560-4db7-975e-ea5e7d4e6bb5",
   "metadata": {},
   "outputs": [],
   "source": [
    "allrats = tables_io.read(ratio_file)['ratios']"
   ]
  },
  {
   "cell_type": "code",
   "execution_count": null,
   "id": "be5d58d8-49cd-4d1f-9eb7-b832c1076f06",
   "metadata": {},
   "outputs": [],
   "source": [
    "trim_data()['color'] = trim_data()['g'] - trim_data()['z']"
   ]
  },
  {
   "cell_type": "code",
   "execution_count": null,
   "id": "33799c38-685c-4ec5-8cb5-b6da045f6875",
   "metadata": {},
   "outputs": [],
   "source": [
    "bgr, bi = np.meshgrid(np.linspace(-2, 6, 101), np.linspace(13, 26, 101))"
   ]
  },
  {
   "cell_type": "code",
   "execution_count": null,
   "id": "8a3b98bd-8736-40f3-b3a8-50185c0c1af8",
   "metadata": {},
   "outputs": [],
   "source": [
    "bratios = tables_io.read(\"../../src/rail/examples_data/creation_data/data/hsc_ratios_and_specz.hdf5\")['ratios']"
   ]
  },
  {
   "cell_type": "code",
   "execution_count": null,
   "id": "2c42b2a1-b45a-4604-91d5-3053c5eef176",
   "metadata": {},
   "outputs": [],
   "source": [
    "plt.figure(figsize=(18,18))\n",
    "plt.pcolormesh(bi, bgr, bratios.T, cmap='jet', vmin=0, vmax=1,alpha=0.4)\n",
    "plt.scatter(trim_data()['i'], trim_data()['color'], s=3, c='k',alpha =.015)\n",
    "plt.xlabel(\"i-band mag\", fontsize=18)\n",
    "plt.ylabel(\"g-i\", fontsize=18)"
   ]
  },
  {
   "cell_type": "markdown",
   "id": "b8e0156f-ecc8-4b38-ab2c-8594fa2f16f9",
   "metadata": {},
   "source": [
    "The colormap shows the HSC ratios and the strenth of the black dots shows how many galaxies were actually kept. We see perfect agreement between our predicted ratios and the actual number of galaxies kept, the degrader is functioning properly, and we see a nice visual representation of the resulting spectroscopic sample incompleteness."
   ]
  },
  {
   "cell_type": "code",
   "execution_count": null,
   "id": "24dd6910-42a5-46a8-8e1d-df2a15617048",
   "metadata": {},
   "outputs": [],
   "source": [
    "# as our demo data is just a grid of mock points, let's remove it so we do not leave a large file sitting around\n",
    "os.remove(\"./test_hsc.pq\")"
   ]
  }
 ],
 "metadata": {
  "kernelspec": {
   "display_name": "Python 3 (ipykernel)",
   "language": "python",
   "name": "python3"
  },
  "language_info": {
   "codemirror_mode": {
    "name": "ipython",
    "version": 3
   },
   "file_extension": ".py",
   "mimetype": "text/x-python",
   "name": "python",
   "nbconvert_exporter": "python",
   "pygments_lexer": "ipython3",
   "version": "3.10.10"
  }
 },
 "nbformat": 4,
 "nbformat_minor": 5
}
