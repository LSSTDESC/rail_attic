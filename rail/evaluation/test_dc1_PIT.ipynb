{
 "cells": [
  {
   "cell_type": "markdown",
   "metadata": {},
   "source": [
    "# DC1 PIT\n",
    "\n",
    "This short notebook aims to show the difference in PIT values computed now and in the past (for DC1 paper). \n",
    "\n",
    "Three sets of PIT values are comapared: \n",
    "\n",
    "1. PITs computed now using qp CDF method \n",
    "2. PITs computed now using scipy.integrate.quad \n",
    "3. PITs computed in the past at the time of writing DC1 paper (reference sample).\n",
    "\n",
    "A subset of the data (1%) is used for the purpose of illustration. Computing the PITs using scipy.integrate.quad would take many hours for the ~399k galaxies present in DC1 sample.  "
   ]
  },
  {
   "cell_type": "code",
   "execution_count": null,
   "metadata": {},
   "outputs": [],
   "source": [
    "from sample import Sample\n",
    "import matplotlib.pyplot as plt\n",
    "import numpy as np\n",
    "import os\n",
    "%matplotlib inline\n",
    "%reload_ext autoreload\n",
    "%autoreload 2"
   ]
  },
  {
   "cell_type": "code",
   "execution_count": null,
   "metadata": {},
   "outputs": [],
   "source": [
    "my_path = \"/Users/julia/TESTDC1FLEXZ\"\n",
    "pdfs_file =  os.path.join(my_path, \"1pct_Mar5Flexzgold_pz.out\")\n",
    "ztrue_file =  os.path.join(my_path, \"1pct_Mar5Flexzgold_idszmag.out\")\n",
    "oldpitfile = os.path.join(my_path,\"1pct_TESTPITVALS.out\") # TESTPITVALS.out masked by object ids in 1pct files "
   ]
  },
  {
   "cell_type": "code",
   "execution_count": null,
   "metadata": {},
   "outputs": [],
   "source": [
    "%%time\n",
    "sample_qp_pit = Sample(pdfs_file, ztrue_file, code=\"FlexZBoost\", name=\"DC1 paper data\", qp_pit=True)\n",
    "print(sample_qp_pit)"
   ]
  },
  {
   "cell_type": "code",
   "execution_count": null,
   "metadata": {},
   "outputs": [],
   "source": [
    "%%time\n",
    "pit_qp = sample_qp_pit.pit"
   ]
  },
  {
   "cell_type": "code",
   "execution_count": null,
   "metadata": {},
   "outputs": [],
   "source": [
    "%%time\n",
    "sample_scipy_pit = Sample(pdfs_file, ztrue_file, code=\"FlexZBoost\", name=\"DC1 paper data\", qp_pit=False)\n",
    "print(sample_scipy_pit)"
   ]
  },
  {
   "cell_type": "code",
   "execution_count": null,
   "metadata": {},
   "outputs": [],
   "source": [
    "%%time\n",
    "pit_scipy = sample_scipy_pit.pit"
   ]
  },
  {
   "cell_type": "code",
   "execution_count": null,
   "metadata": {},
   "outputs": [],
   "source": [
    "pit_dc1 = np.loadtxt(oldpitfile, skiprows=1,usecols=(1))"
   ]
  },
  {
   "cell_type": "code",
   "execution_count": null,
   "metadata": {},
   "outputs": [],
   "source": [
    "plt.figure(figsize=[7,5])\n",
    "plt.subplot(211)\n",
    "plt.plot(pit_dc1, pit_qp - pit_dc1, 'k,')\n",
    "plt.plot([0,1], [0,0], 'r--', lw=3)\n",
    "plt.xlabel(\"PIT DC1\")\n",
    "plt.ylabel(\"PIT$_{qp}$ - PIT DC1\")\n",
    "plt.xlim(0,1)\n",
    "plt.ylim(-0.01, 0.01)\n",
    "plt.subplot(212)\n",
    "plt.plot(pit_dc1, pit_scipy - pit_dc1, 'k,')\n",
    "plt.plot([0,1], [0,0], 'r--', lw=3)\n",
    "plt.xlabel(\"PIT DC1\")\n",
    "plt.ylabel(\"PIT$_{scipy}$ - PIT DC1\")\n",
    "plt.xlim(0,1)\n",
    "plt.ylim(-0.01, 0.01)\n",
    "plt.tight_layout()"
   ]
  },
  {
   "cell_type": "markdown",
   "metadata": {},
   "source": [
    "**Conclusion:** using `qp` causes small discrepancies in the PIT values compared to the reference results (DC1), which would be negligible if using the `scipy` integration method. However, the latter is not as efficient as qp, and can make the computation unfeasible if the dataset is larger. "
   ]
  },
  {
   "cell_type": "code",
   "execution_count": null,
   "metadata": {},
   "outputs": [],
   "source": []
  },
  {
   "cell_type": "code",
   "execution_count": null,
   "metadata": {},
   "outputs": [],
   "source": []
  },
  {
   "cell_type": "code",
   "execution_count": null,
   "metadata": {},
   "outputs": [],
   "source": []
  }
 ],
 "metadata": {
  "kernelspec": {
   "display_name": "Python 3",
   "language": "python",
   "name": "python3"
  },
  "language_info": {
   "codemirror_mode": {
    "name": "ipython",
    "version": 3
   },
   "file_extension": ".py",
   "mimetype": "text/x-python",
   "name": "python",
   "nbconvert_exporter": "python",
   "pygments_lexer": "ipython3",
   "version": "3.7.9"
  }
 },
 "nbformat": 4,
 "nbformat_minor": 4
}
