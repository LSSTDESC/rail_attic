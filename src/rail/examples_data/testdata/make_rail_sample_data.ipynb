{
 "cells": [
  {
   "cell_type": "code",
   "execution_count": null,
   "metadata": {},
   "outputs": [],
   "source": [
    "import pandas as pd\n",
    "import h5py \n",
    "import numpy as np\n",
    "import os,sys\n",
    "import matplotlib.pyplot as plt\n",
    "%matplotlib inline"
   ]
  },
  {
   "cell_type": "markdown",
   "metadata": {},
   "source": [
    "Note: we could do this via GCRCatalogs, but I am just going to grab data from the hdf5 file directly.  For a quick and dirty example set, just grab data from the healpix 9816 with 10 year mock errors added, grab ~10,000 for training and ~20,000 for validation."
   ]
  },
  {
   "cell_type": "code",
   "execution_count": null,
   "metadata": {},
   "outputs": [],
   "source": [
    "pathx = \"/global/cfs/cdirs/lsst/groups/PZ/PhotoZDC2/COSMODC2v1.1.4/IMAGE/10_year_error_estimates\"\n",
    "files = ['z_0_1.step_all.healpix_9816_magwerrSNtrim.hdf5','z_1_2.step_all.healpix_9816_magwerrSNtrim.hdf5','z_2_3.step_all.healpix_9816_magwerrSNtrim.hdf5']"
   ]
  },
  {
   "cell_type": "code",
   "execution_count": null,
   "metadata": {},
   "outputs": [],
   "source": [
    "f = h5py.File(os.path.join(pathx,files[0]),'r')\n",
    "p = f['photometry']\n",
    "list(p.keys())"
   ]
  },
  {
   "cell_type": "code",
   "execution_count": null,
   "metadata": {},
   "outputs": [],
   "source": []
  },
  {
   "cell_type": "code",
   "execution_count": null,
   "metadata": {},
   "outputs": [],
   "source": [
    "for i,xfile in enumerate(files):\n",
    "    f = h5py.File(os.path.join(pathx,xfile),'r')\n",
    "    p = f['photometry']\n",
    "    if i==0:\n",
    "        pdict = {}\n",
    "        for key in p.keys():\n",
    "            pdict[f'{key}']=np.array(p[key])\n",
    "    else:\n",
    "        for key in p.keys():\n",
    "            tmpy = np.array(p[key])\n",
    "            pdict[f'{key}'] = np.concatenate([pdict[f'{key}'],tmpy])\n",
    "    f.close()"
   ]
  },
  {
   "cell_type": "code",
   "execution_count": null,
   "metadata": {},
   "outputs": [],
   "source": [
    "df = pd.DataFrame(pdict)\n",
    "df.info()"
   ]
  },
  {
   "cell_type": "code",
   "execution_count": null,
   "metadata": {},
   "outputs": [],
   "source": [
    "fig = plt.figure(figsize=(10,10))\n",
    "plt.scatter(df['mag_i_lsst'][::100],df['redshift'][::100])"
   ]
  },
  {
   "cell_type": "code",
   "execution_count": null,
   "metadata": {},
   "outputs": [],
   "source": [
    "mask = (df['mag_i_lsst']<25.3)\n",
    "golddf = df[mask]"
   ]
  },
  {
   "cell_type": "code",
   "execution_count": null,
   "metadata": {},
   "outputs": [],
   "source": [
    "golddf.info()"
   ]
  },
  {
   "cell_type": "code",
   "execution_count": null,
   "metadata": {},
   "outputs": [],
   "source": [
    "traindf = golddf[::62]\n",
    "traindf.info()"
   ]
  },
  {
   "cell_type": "code",
   "execution_count": null,
   "metadata": {},
   "outputs": [],
   "source": [
    "tmpdf = golddf[1:]\n",
    "validationdf = tmpdf[::31]"
   ]
  },
  {
   "cell_type": "code",
   "execution_count": null,
   "metadata": {},
   "outputs": [],
   "source": [
    "validationdf.info()"
   ]
  },
  {
   "cell_type": "code",
   "execution_count": null,
   "metadata": {},
   "outputs": [],
   "source": [
    "def create_output_file(outfile,xdf,num_rows):\n",
    "    outf = h5py.File(outfile,\"w\")\n",
    "    xx = outf.create_group('photometry')\n",
    "    #outf.create_dataset('id', (num_rows,), dtype='int64')\n",
    "    xx['id']=xdf['id'][:num_rows]\n",
    "    for key in xdf.keys():\n",
    "        print(key)\n",
    "        if key != 'id':\n",
    "            #outf.create_dataset(f'{key}', (num_rows,), dtype='f4')\n",
    "            xx[f'{key}'] = xdf[key][:num_rows]\n",
    "    outf.close()"
   ]
  },
  {
   "cell_type": "code",
   "execution_count": null,
   "metadata": {},
   "outputs": [],
   "source": [
    "create_output_file(\"test_dc2_training_9816.hdf5\",traindf,10_225)"
   ]
  },
  {
   "cell_type": "code",
   "execution_count": null,
   "metadata": {},
   "outputs": [],
   "source": [
    "create_output_file(\"test_dc2_validation_9816.hdf5\",validationdf,20_449)"
   ]
  },
  {
   "cell_type": "code",
   "execution_count": null,
   "metadata": {},
   "outputs": [],
   "source": []
  }
 ],
 "metadata": {
  "kernelspec": {
   "display_name": "desc-python",
   "language": "python",
   "name": "desc-python"
  },
  "language_info": {
   "codemirror_mode": {
    "name": "ipython",
    "version": 3
   },
   "file_extension": ".py",
   "mimetype": "text/x-python",
   "name": "python",
   "nbconvert_exporter": "python",
   "pygments_lexer": "ipython3",
   "version": "3.7.6"
  }
 },
 "nbformat": 4,
 "nbformat_minor": 4
}
