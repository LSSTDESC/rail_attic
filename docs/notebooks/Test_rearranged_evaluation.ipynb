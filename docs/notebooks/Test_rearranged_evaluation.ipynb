{
 "cells": [
  {
   "cell_type": "code",
   "execution_count": 1,
   "id": "62a8bb5b-28e6-4768-bdd6-786b10a8e774",
   "metadata": {},
   "outputs": [],
   "source": [
    "import sys"
   ]
  },
  {
   "cell_type": "code",
   "execution_count": 2,
   "id": "f25dc4ab-91c9-46c8-a10c-bf06bad6c984",
   "metadata": {},
   "outputs": [],
   "source": [
    "sys.path.insert(0,\"/global/cfs/cdirs/lsst/groups/PZ/users/sschmidt/Packages/EVAL_RAIL/RAIL\")\n",
    "sys.path.insert(0,\"/global/cfs/cdirs/lsst/groups/PZ/users/sschmidt/Packages/qp\")\n",
    "sys.path.insert(0,\"/global/cfs/cdirs/lsst/groups/PZ/users/sschmidt/Packages/lib/python3.8/site-packages\")"
   ]
  },
  {
   "cell_type": "code",
   "execution_count": 3,
   "id": "13c84c94-973b-4f0c-96c7-e180a2fd8650",
   "metadata": {},
   "outputs": [],
   "source": [
    "import qp"
   ]
  },
  {
   "cell_type": "code",
   "execution_count": 5,
   "id": "aef50a0d-3480-43db-ac2b-a0b3e80b8dc5",
   "metadata": {},
   "outputs": [
    {
     "name": "stdout",
     "output_type": "stream",
     "text": [
      "Found classifier FZBoost\n",
      "Found classifier trainZ\n",
      "Found classifier randomPZ\n",
      "Found classifier simpleNN\n"
     ]
    }
   ],
   "source": [
    "import rail"
   ]
  },
  {
   "cell_type": "markdown",
   "id": "8866bd2f-5313-4695-a8f4-e4ccdc93e63b",
   "metadata": {},
   "source": [
    "To demonstrate, I generated qp-formatted output for the 20k validation galaxies using FlexZBoost, which I copied to:<br>\n",
    "/global/cfs/cdirs/lsst/groups/PZ/users/sschmidt/Packages/EVAL_RAIL/TMPDATA/<br>\n",
    "files `test_FZBoost_qp.hdf5` and `test_FZBoost_qp_meta.hdf5`<br>\n",
    "Let's load that data:"
   ]
  },
  {
   "cell_type": "code",
   "execution_count": 7,
   "id": "45af120a-208a-4e46-b96b-643eb8db164f",
   "metadata": {},
   "outputs": [],
   "source": [
    "import matplotlib.pyplot as plt\n",
    "import numpy as np\n",
    "%matplotlib inline"
   ]
  },
  {
   "cell_type": "code",
   "execution_count": 8,
   "id": "82ce065b-0f78-4747-a36e-5597e826e495",
   "metadata": {},
   "outputs": [],
   "source": [
    "fzdata = qp.read(\"/global/cfs/cdirs/lsst/groups/PZ/users/sschmidt/Packages/EVAL_RAIL/TMPDATA/test_FZBoost_qp.hdf5\")"
   ]
  },
  {
   "cell_type": "code",
   "execution_count": 9,
   "id": "124e8a86-7865-47a6-9db7-20d4ecc044af",
   "metadata": {},
   "outputs": [
    {
     "name": "stdout",
     "output_type": "stream",
     "text": [
      "<qp.ensemble.Ensemble object at 0x2aaae28b2e50>\n"
     ]
    }
   ],
   "source": [
    "print(fzdata)"
   ]
  },
  {
   "cell_type": "code",
   "execution_count": 10,
   "id": "98aa12d4-e1a4-4e88-819e-0c13299283bd",
   "metadata": {},
   "outputs": [],
   "source": [
    "from rail.evaluation.metrics.pit import *"
   ]
  },
  {
   "cell_type": "markdown",
   "id": "160d4212-ebda-4834-a441-1981a033f62a",
   "metadata": {},
   "source": [
    "we also need the truth data, load the true redshifts as well:"
   ]
  },
  {
   "cell_type": "code",
   "execution_count": 11,
   "id": "cd14ef33-c078-4dd0-8f4b-4c5cfa2b7ac6",
   "metadata": {},
   "outputs": [],
   "source": [
    "truthfile = \"/global/cfs/cdirs/lsst/groups/PZ/users/sschmidt/Packages/EVAL_RAIL/RAIL/tests/data/test_dc2_validation_9816.hdf5\"\n",
    "import h5py\n",
    "with h5py.File(truthfile,\"r\") as f:\n",
    "    ztrue = np.array(f['photometry/redshift'])"
   ]
  },
  {
   "cell_type": "code",
   "execution_count": 12,
   "id": "7e14c2da-f054-45f4-8a69-e1f6e2f4e88d",
   "metadata": {},
   "outputs": [
    {
     "name": "stdout",
     "output_type": "stream",
     "text": [
      "20449\n"
     ]
    }
   ],
   "source": [
    "print(len(ztrue))"
   ]
  },
  {
   "cell_type": "markdown",
   "id": "5b716072-47ca-4d69-a684-ce4c9dd7fe2b",
   "metadata": {},
   "source": [
    "We'll create a PIT class instance, which we'll use to compute the (temporary until we get a true samples distribution) spline ensemble object.  This also computes the PIT values for all 20k galaxies "
   ]
  },
  {
   "cell_type": "code",
   "execution_count": 13,
   "id": "268e9c09-193e-4a8c-bf7e-375162482cda",
   "metadata": {},
   "outputs": [],
   "source": [
    "pitobj = PIT(fzdata, ztrue)"
   ]
  },
  {
   "cell_type": "code",
   "execution_count": 14,
   "id": "96deaaec-9652-4f47-bbc3-fb643feb2b97",
   "metadata": {},
   "outputs": [
    {
     "name": "stderr",
     "output_type": "stream",
     "text": [
      "/global/cfs/cdirs/lsst/groups/PZ/users/sschmidt/Packages/EVAL_RAIL/RAIL/rail/evaluation/metrics/pit.py:161: UserWarning: p-value floored: true value smaller than 0.001\n",
      "  ad_results = stats.anderson_ksamp([pits_clean, uniform_yvals])\n"
     ]
    }
   ],
   "source": [
    "spl_ens, metamets = pitobj.evaluate()"
   ]
  },
  {
   "cell_type": "code",
   "execution_count": 15,
   "id": "9d3be273-8a4b-41ce-b3d1-5dae000ebcd1",
   "metadata": {},
   "outputs": [],
   "source": [
    "pit_vals = np.array(pitobj._pit_samps)"
   ]
  },
  {
   "cell_type": "code",
   "execution_count": 19,
   "id": "b4203cb7-52de-4f9d-9e3f-19b8e2be8c1e",
   "metadata": {},
   "outputs": [
    {
     "data": {
      "text/plain": [
       "<matplotlib.lines.Line2D at 0x2aaaeaf3c7f0>"
      ]
     },
     "execution_count": 19,
     "metadata": {},
     "output_type": "execute_result"
    },
    {
     "data": {
      "image/png": "[encoded data removed]",
      "text/plain": [
       "<Figure size 432x288 with 1 Axes>"
      ]
     },
     "metadata": {
      "needs_background": "light"
     },
     "output_type": "display_data"
    }
   ],
   "source": [
    "plt.hist(pit_vals,bins=np.linspace(0,1,101));\n",
    "plt.axhline(204.49,color='k',lw=2)"
   ]
  },
  {
   "cell_type": "code",
   "execution_count": 20,
   "id": "3b725977-2843-4702-a316-bf16620f81cd",
   "metadata": {},
   "outputs": [],
   "source": [
    "ksobj = PITKS(spl_ens)"
   ]
  },
  {
   "cell_type": "code",
   "execution_count": 21,
   "id": "d893877e-0e1c-4919-94b5-d641cf32a801",
   "metadata": {},
   "outputs": [
    {
     "data": {
      "text/plain": [
       "stat_and_pval(statistic=0.042509362580575916, p_value=1.5129305435652397e-32)"
      ]
     },
     "execution_count": 21,
     "metadata": {},
     "output_type": "execute_result"
    }
   ],
   "source": [
    "ksobj.evaluate()"
   ]
  },
  {
   "cell_type": "code",
   "execution_count": 22,
   "id": "140d95bf-3bbf-4ddb-bee1-eb93a20cad8a",
   "metadata": {},
   "outputs": [],
   "source": [
    "adobj = PITAD(spl_ens)"
   ]
  },
  {
   "cell_type": "code",
   "execution_count": 23,
   "id": "bb1f450d-851d-4889-9bff-635e560f2b2f",
   "metadata": {},
   "outputs": [
    {
     "data": {
      "text/plain": [
       "stat_crit_sig(statistic=103.1364249925523, critical_values=array([0.325, 1.226, 1.961, 2.718, 3.752, 4.592, 6.546]), significance_level=0.001)"
      ]
     },
     "execution_count": 23,
     "metadata": {},
     "output_type": "execute_result"
    }
   ],
   "source": [
    "adobj.evaluate()"
   ]
  },
  {
   "cell_type": "code",
   "execution_count": 26,
   "id": "4f0a3739-ef35-4a8b-b0f2-e1811432c024",
   "metadata": {},
   "outputs": [
    {
     "data": {
      "image/png": "[encoded data removed]",
      "text/plain": [
       "<Figure size 432x288 with 1 Axes>"
      ]
     },
     "metadata": {
      "needs_background": "light"
     },
     "output_type": "display_data"
    }
   ],
   "source": [
    "fig, axes = qp.plotting.plot_native(spl_ens, xlim=(-.1, 1.1), label=\"norm\")\n",
    "#plt.hist(pit_vals,bins=np.linspace(0,1,101));"
   ]
  },
  {
   "cell_type": "code",
   "execution_count": 30,
   "id": "4aa09f38-a48a-4236-9c45-7ebd66a6061c",
   "metadata": {},
   "outputs": [],
   "source": [
    "vals,bins = np.histogram(pit_vals,bins=np.linspace(0,1,101))\n",
    "cents = 0.5*(bins[1:]+bins[:-1])"
   ]
  },
  {
   "cell_type": "code",
   "execution_count": 35,
   "id": "7cddbde6-8809-416f-ab89-d0369ec9199b",
   "metadata": {},
   "outputs": [
    {
     "data": {
      "text/plain": [
       "[<matplotlib.lines.Line2D at 0x2aaaeb35d220>]"
      ]
     },
     "execution_count": 35,
     "metadata": {},
     "output_type": "execute_result"
    },
    {
     "data": {
      "text/plain": [
       "<Figure size 1008x576 with 0 Axes>"
      ]
     },
     "metadata": {},
     "output_type": "display_data"
    },
    {
     "data": {
      "image/png": "[encoded data removed]",
      "text/plain": [
       "<Figure size 432x288 with 1 Axes>"
      ]
     },
     "metadata": {
      "needs_background": "light"
     },
     "output_type": "display_data"
    }
   ],
   "source": [
    "plt.figure(figsize=(14,8))\n",
    "fig, axes = qp.plotting.plot_native(spl_ens, xlim=(-.1, 1.1), label=\"norm\")\n",
    "plt.plot(cents,vals*.005,c='r')"
   ]
  },
  {
   "cell_type": "markdown",
   "id": "bf70e898-43e3-4b78-bab1-842ac275f844",
   "metadata": {},
   "source": [
    "We can see that the spline is smoothing over the values at the extrema"
   ]
  },
  {
   "cell_type": "code",
   "execution_count": null,
   "id": "69d2e1f2-451e-4257-95da-e56f06944d1e",
   "metadata": {},
   "outputs": [],
   "source": []
  }
 ],
 "metadata": {
  "kernelspec": {
   "display_name": "desc-python",
   "language": "python",
   "name": "desc-python"
  },
  "language_info": {
   "codemirror_mode": {
    "name": "ipython",
    "version": 3
   },
   "file_extension": ".py",
   "mimetype": "text/x-python",
   "name": "python",
   "nbconvert_exporter": "python",
   "pygments_lexer": "ipython3",
   "version": "3.8.8"
  }
 },
 "nbformat": 4,
 "nbformat_minor": 5
}
